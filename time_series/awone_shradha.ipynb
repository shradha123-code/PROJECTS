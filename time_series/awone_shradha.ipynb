{
 "cells": [
  {
   "cell_type": "code",
   "execution_count": 91,
   "id": "27c17e4a",
   "metadata": {},
   "outputs": [],
   "source": [
    "import pandas as pd\n",
    "data8 = [[1,'10-3-2022',2300],[2,'10-3-2022',2500],[3,'10-3-2022',2700],[1,'11-3-2022',2300],[2,'11-3-2022',2500],[3,'11-3-2022',4500],[1,'12-3-2022',4600],[2,'12-3-2022',5000],[3,'12-3-2022',2700]]\n",
    "store= pd.DataFrame(data8, columns=['storeid', 'date', 'sales'])"
   ]
  },
  {
   "cell_type": "code",
   "execution_count": 92,
   "id": "ec5201a5",
   "metadata": {},
   "outputs": [
    {
     "data": {
      "text/html": [
       "<div>\n",
       "<style scoped>\n",
       "    .dataframe tbody tr th:only-of-type {\n",
       "        vertical-align: middle;\n",
       "    }\n",
       "\n",
       "    .dataframe tbody tr th {\n",
       "        vertical-align: top;\n",
       "    }\n",
       "\n",
       "    .dataframe thead th {\n",
       "        text-align: right;\n",
       "    }\n",
       "</style>\n",
       "<table border=\"1\" class=\"dataframe\">\n",
       "  <thead>\n",
       "    <tr style=\"text-align: right;\">\n",
       "      <th></th>\n",
       "      <th>storeid</th>\n",
       "      <th>date</th>\n",
       "      <th>sales</th>\n",
       "    </tr>\n",
       "  </thead>\n",
       "  <tbody>\n",
       "    <tr>\n",
       "      <th>0</th>\n",
       "      <td>1</td>\n",
       "      <td>10-3-2022</td>\n",
       "      <td>2300</td>\n",
       "    </tr>\n",
       "    <tr>\n",
       "      <th>1</th>\n",
       "      <td>2</td>\n",
       "      <td>10-3-2022</td>\n",
       "      <td>2500</td>\n",
       "    </tr>\n",
       "    <tr>\n",
       "      <th>2</th>\n",
       "      <td>3</td>\n",
       "      <td>10-3-2022</td>\n",
       "      <td>2700</td>\n",
       "    </tr>\n",
       "    <tr>\n",
       "      <th>3</th>\n",
       "      <td>1</td>\n",
       "      <td>11-3-2022</td>\n",
       "      <td>2300</td>\n",
       "    </tr>\n",
       "    <tr>\n",
       "      <th>4</th>\n",
       "      <td>2</td>\n",
       "      <td>11-3-2022</td>\n",
       "      <td>2500</td>\n",
       "    </tr>\n",
       "    <tr>\n",
       "      <th>5</th>\n",
       "      <td>3</td>\n",
       "      <td>11-3-2022</td>\n",
       "      <td>4500</td>\n",
       "    </tr>\n",
       "    <tr>\n",
       "      <th>6</th>\n",
       "      <td>1</td>\n",
       "      <td>12-3-2022</td>\n",
       "      <td>4600</td>\n",
       "    </tr>\n",
       "    <tr>\n",
       "      <th>7</th>\n",
       "      <td>2</td>\n",
       "      <td>12-3-2022</td>\n",
       "      <td>5000</td>\n",
       "    </tr>\n",
       "    <tr>\n",
       "      <th>8</th>\n",
       "      <td>3</td>\n",
       "      <td>12-3-2022</td>\n",
       "      <td>2700</td>\n",
       "    </tr>\n",
       "  </tbody>\n",
       "</table>\n",
       "</div>"
      ],
      "text/plain": [
       "   storeid       date  sales\n",
       "0        1  10-3-2022   2300\n",
       "1        2  10-3-2022   2500\n",
       "2        3  10-3-2022   2700\n",
       "3        1  11-3-2022   2300\n",
       "4        2  11-3-2022   2500\n",
       "5        3  11-3-2022   4500\n",
       "6        1  12-3-2022   4600\n",
       "7        2  12-3-2022   5000\n",
       "8        3  12-3-2022   2700"
      ]
     },
     "execution_count": 92,
     "metadata": {},
     "output_type": "execute_result"
    }
   ],
   "source": [
    "store"
   ]
  },
  {
   "cell_type": "code",
   "execution_count": 93,
   "id": "406f5ee3",
   "metadata": {},
   "outputs": [],
   "source": [
    "import time\n",
    "from datetime import datetime\n",
    "from datetime import date"
   ]
  },
  {
   "cell_type": "code",
   "execution_count": 99,
   "id": "a7c9ba24",
   "metadata": {},
   "outputs": [],
   "source": [
    "store['date'] =  pd.to_datetime(store['date'], format = '%d-%m-%Y')"
   ]
  },
  {
   "cell_type": "code",
   "execution_count": 95,
   "id": "4eaaee9d",
   "metadata": {},
   "outputs": [],
   "source": [
    "#store['date']= datetime.strptime(store['date'], '%d/%m/%Y')"
   ]
  },
  {
   "cell_type": "code",
   "execution_count": 89,
   "id": "57ded2c7",
   "metadata": {},
   "outputs": [
    {
     "data": {
      "text/html": [
       "<div>\n",
       "<style scoped>\n",
       "    .dataframe tbody tr th:only-of-type {\n",
       "        vertical-align: middle;\n",
       "    }\n",
       "\n",
       "    .dataframe tbody tr th {\n",
       "        vertical-align: top;\n",
       "    }\n",
       "\n",
       "    .dataframe thead th {\n",
       "        text-align: right;\n",
       "    }\n",
       "</style>\n",
       "<table border=\"1\" class=\"dataframe\">\n",
       "  <thead>\n",
       "    <tr style=\"text-align: right;\">\n",
       "      <th></th>\n",
       "      <th>storeid</th>\n",
       "      <th>date</th>\n",
       "      <th>sales</th>\n",
       "    </tr>\n",
       "  </thead>\n",
       "  <tbody>\n",
       "    <tr>\n",
       "      <th>0</th>\n",
       "      <td>1</td>\n",
       "      <td>2022-03-10</td>\n",
       "      <td>2300</td>\n",
       "    </tr>\n",
       "    <tr>\n",
       "      <th>1</th>\n",
       "      <td>2</td>\n",
       "      <td>2022-03-10</td>\n",
       "      <td>2500</td>\n",
       "    </tr>\n",
       "    <tr>\n",
       "      <th>2</th>\n",
       "      <td>3</td>\n",
       "      <td>2022-03-10</td>\n",
       "      <td>2700</td>\n",
       "    </tr>\n",
       "    <tr>\n",
       "      <th>3</th>\n",
       "      <td>1</td>\n",
       "      <td>2022-03-11</td>\n",
       "      <td>2300</td>\n",
       "    </tr>\n",
       "    <tr>\n",
       "      <th>4</th>\n",
       "      <td>2</td>\n",
       "      <td>2022-03-11</td>\n",
       "      <td>2500</td>\n",
       "    </tr>\n",
       "    <tr>\n",
       "      <th>5</th>\n",
       "      <td>3</td>\n",
       "      <td>2022-03-11</td>\n",
       "      <td>4500</td>\n",
       "    </tr>\n",
       "    <tr>\n",
       "      <th>6</th>\n",
       "      <td>1</td>\n",
       "      <td>2022-03-12</td>\n",
       "      <td>4600</td>\n",
       "    </tr>\n",
       "    <tr>\n",
       "      <th>7</th>\n",
       "      <td>2</td>\n",
       "      <td>2022-03-12</td>\n",
       "      <td>5000</td>\n",
       "    </tr>\n",
       "    <tr>\n",
       "      <th>8</th>\n",
       "      <td>3</td>\n",
       "      <td>2022-03-12</td>\n",
       "      <td>2700</td>\n",
       "    </tr>\n",
       "  </tbody>\n",
       "</table>\n",
       "</div>"
      ],
      "text/plain": [
       "   storeid       date  sales\n",
       "0        1 2022-03-10   2300\n",
       "1        2 2022-03-10   2500\n",
       "2        3 2022-03-10   2700\n",
       "3        1 2022-03-11   2300\n",
       "4        2 2022-03-11   2500\n",
       "5        3 2022-03-11   4500\n",
       "6        1 2022-03-12   4600\n",
       "7        2 2022-03-12   5000\n",
       "8        3 2022-03-12   2700"
      ]
     },
     "execution_count": 89,
     "metadata": {},
     "output_type": "execute_result"
    }
   ],
   "source": [
    "store"
   ]
  },
  {
   "cell_type": "code",
   "execution_count": 78,
   "id": "cf068c91",
   "metadata": {},
   "outputs": [],
   "source": [
    "from subprocess import *\n",
    "import timeit"
   ]
  },
  {
   "cell_type": "code",
   "execution_count": 39,
   "id": "9ce74026",
   "metadata": {},
   "outputs": [],
   "source": [
    "#(store['date'].apply(lambda d: d.day))"
   ]
  },
  {
   "cell_type": "code",
   "execution_count": 40,
   "id": "91d65391",
   "metadata": {},
   "outputs": [],
   "source": [
    "store['Day'] = store['date'].apply(lambda r:r.day)\n",
    "store['Month'] = store['date'].apply(lambda d:d.month)\n",
    "store['Year'] = store['date'].apply(lambda r:r.year)"
   ]
  },
  {
   "cell_type": "code",
   "execution_count": 98,
   "id": "55047412",
   "metadata": {},
   "outputs": [
    {
     "data": {
      "text/plain": [
       "pandas._libs.tslibs.timestamps.Timestamp"
      ]
     },
     "execution_count": 98,
     "metadata": {},
     "output_type": "execute_result"
    }
   ],
   "source": [
    "type(store['date'][0])"
   ]
  },
  {
   "cell_type": "code",
   "execution_count": 9,
   "id": "b327dbc5",
   "metadata": {},
   "outputs": [],
   "source": [
    "#store['date']= pd.to_datetime(store[['month','day','year']])"
   ]
  },
  {
   "cell_type": "code",
   "execution_count": 90,
   "id": "1c7d06ec",
   "metadata": {},
   "outputs": [
    {
     "data": {
      "text/plain": [
       "9"
      ]
     },
     "execution_count": 90,
     "metadata": {},
     "output_type": "execute_result"
    }
   ],
   "source": [
    "x=store.shape[0]\n",
    "x"
   ]
  },
  {
   "cell_type": "code",
   "execution_count": 102,
   "id": "972b716d",
   "metadata": {},
   "outputs": [
    {
     "data": {
      "text/plain": [
       "pandas._libs.tslibs.timestamps.Timestamp"
      ]
     },
     "execution_count": 102,
     "metadata": {},
     "output_type": "execute_result"
    }
   ],
   "source": [
    "type(store['day_before'][0])"
   ]
  },
  {
   "cell_type": "code",
   "execution_count": 101,
   "id": "c4e98b54",
   "metadata": {},
   "outputs": [],
   "source": [
    "store['day_before'] = store['date'] - pd.tseries.offsets.DateOffset(days=1)\n"
   ]
  },
  {
   "cell_type": "code",
   "execution_count": 103,
   "id": "0ddc120c",
   "metadata": {},
   "outputs": [
    {
     "data": {
      "text/html": [
       "<div>\n",
       "<style scoped>\n",
       "    .dataframe tbody tr th:only-of-type {\n",
       "        vertical-align: middle;\n",
       "    }\n",
       "\n",
       "    .dataframe tbody tr th {\n",
       "        vertical-align: top;\n",
       "    }\n",
       "\n",
       "    .dataframe thead th {\n",
       "        text-align: right;\n",
       "    }\n",
       "</style>\n",
       "<table border=\"1\" class=\"dataframe\">\n",
       "  <thead>\n",
       "    <tr style=\"text-align: right;\">\n",
       "      <th></th>\n",
       "      <th>storeid</th>\n",
       "      <th>date</th>\n",
       "      <th>sales</th>\n",
       "      <th>day_before</th>\n",
       "    </tr>\n",
       "  </thead>\n",
       "  <tbody>\n",
       "    <tr>\n",
       "      <th>0</th>\n",
       "      <td>1</td>\n",
       "      <td>2022-03-10</td>\n",
       "      <td>2300</td>\n",
       "      <td>2022-03-09</td>\n",
       "    </tr>\n",
       "    <tr>\n",
       "      <th>1</th>\n",
       "      <td>2</td>\n",
       "      <td>2022-03-10</td>\n",
       "      <td>2500</td>\n",
       "      <td>2022-03-09</td>\n",
       "    </tr>\n",
       "    <tr>\n",
       "      <th>2</th>\n",
       "      <td>3</td>\n",
       "      <td>2022-03-10</td>\n",
       "      <td>2700</td>\n",
       "      <td>2022-03-09</td>\n",
       "    </tr>\n",
       "    <tr>\n",
       "      <th>3</th>\n",
       "      <td>1</td>\n",
       "      <td>2022-03-11</td>\n",
       "      <td>2300</td>\n",
       "      <td>2022-03-10</td>\n",
       "    </tr>\n",
       "    <tr>\n",
       "      <th>4</th>\n",
       "      <td>2</td>\n",
       "      <td>2022-03-11</td>\n",
       "      <td>2500</td>\n",
       "      <td>2022-03-10</td>\n",
       "    </tr>\n",
       "    <tr>\n",
       "      <th>5</th>\n",
       "      <td>3</td>\n",
       "      <td>2022-03-11</td>\n",
       "      <td>4500</td>\n",
       "      <td>2022-03-10</td>\n",
       "    </tr>\n",
       "    <tr>\n",
       "      <th>6</th>\n",
       "      <td>1</td>\n",
       "      <td>2022-03-12</td>\n",
       "      <td>4600</td>\n",
       "      <td>2022-03-11</td>\n",
       "    </tr>\n",
       "    <tr>\n",
       "      <th>7</th>\n",
       "      <td>2</td>\n",
       "      <td>2022-03-12</td>\n",
       "      <td>5000</td>\n",
       "      <td>2022-03-11</td>\n",
       "    </tr>\n",
       "    <tr>\n",
       "      <th>8</th>\n",
       "      <td>3</td>\n",
       "      <td>2022-03-12</td>\n",
       "      <td>2700</td>\n",
       "      <td>2022-03-11</td>\n",
       "    </tr>\n",
       "  </tbody>\n",
       "</table>\n",
       "</div>"
      ],
      "text/plain": [
       "   storeid       date  sales day_before\n",
       "0        1 2022-03-10   2300 2022-03-09\n",
       "1        2 2022-03-10   2500 2022-03-09\n",
       "2        3 2022-03-10   2700 2022-03-09\n",
       "3        1 2022-03-11   2300 2022-03-10\n",
       "4        2 2022-03-11   2500 2022-03-10\n",
       "5        3 2022-03-11   4500 2022-03-10\n",
       "6        1 2022-03-12   4600 2022-03-11\n",
       "7        2 2022-03-12   5000 2022-03-11\n",
       "8        3 2022-03-12   2700 2022-03-11"
      ]
     },
     "execution_count": 103,
     "metadata": {},
     "output_type": "execute_result"
    }
   ],
   "source": [
    "store"
   ]
  },
  {
   "cell_type": "code",
   "execution_count": 43,
   "id": "e1c9fb6e",
   "metadata": {},
   "outputs": [],
   "source": [
    "#store['day_before'] =  pd.to_datetime(store['day_before'], format = '%d/%m/%Y')"
   ]
  },
  {
   "cell_type": "code",
   "execution_count": 111,
   "id": "9f2b6380",
   "metadata": {},
   "outputs": [
    {
     "data": {
      "text/plain": [
       "str"
      ]
     },
     "execution_count": 111,
     "metadata": {},
     "output_type": "execute_result"
    }
   ],
   "source": [
    "\n",
    "store['date'] = store['date'].astype(str)\n",
    "store['day_before'] = store['day_before'].astype(str)\n",
    "type(store['day_before'][0])\n"
   ]
  },
  {
   "cell_type": "code",
   "execution_count": 116,
   "id": "7d2c8602",
   "metadata": {},
   "outputs": [],
   "source": [
    "def fetch_details(a,b):\n",
    "    print(type(b))\n",
    "    #b =  pd.to_datetime(b, format = '%d/%m/%Y')\n",
    "    #b= datetime.strptime(b, '%d/%m/%Y')\n",
    "    print(type(b))\n",
    "    for i in range(0,x):\n",
    "        #b=store['storeid'][i]\n",
    "        #c=store['date'][i]\n",
    "        #str_date = pandastostring(store['date'][i])\n",
    "        if((store['storeid'][i]==a) and (store['date'][i]==b)):\n",
    "        #if((store['storeid'][i]==a)):\n",
    "            v=store['day_before'][i]\n",
    "            print(v)\n",
    "            for j in range(0,x):\n",
    "                if((v==store['date'][j]) and (store['storeid'][j]==a)):\n",
    "                    w=store['sales'][j]\n",
    "                    print(w)\n",
    "             "
   ]
  },
  {
   "cell_type": "code",
   "execution_count": 117,
   "id": "2f036463",
   "metadata": {
    "scrolled": true
   },
   "outputs": [
    {
     "name": "stdout",
     "output_type": "stream",
     "text": [
      "<class 'str'>\n",
      "<class 'str'>\n",
      "2022-03-11\n",
      "2500\n"
     ]
    }
   ],
   "source": [
    "(fetch_details(2,'2022-03-12'))"
   ]
  },
  {
   "cell_type": "code",
   "execution_count": null,
   "id": "f9afa96a",
   "metadata": {},
   "outputs": [],
   "source": []
  },
  {
   "cell_type": "code",
   "execution_count": 120,
   "id": "ad1f79d6",
   "metadata": {},
   "outputs": [
    {
     "name": "stdout",
     "output_type": "stream",
     "text": [
      "<class 'str'>\n",
      "<class 'str'>\n",
      "2022-03-10\n",
      "2500\n",
      "None\n"
     ]
    }
   ],
   "source": [
    "print(fetch_details(2,'2022-03-11'))\n",
    "#print(b)   "
   ]
  },
  {
   "cell_type": "code",
   "execution_count": null,
   "id": "cabefa28",
   "metadata": {},
   "outputs": [],
   "source": []
  },
  {
   "cell_type": "code",
   "execution_count": 45,
   "id": "a605ce39",
   "metadata": {},
   "outputs": [],
   "source": []
  },
  {
   "cell_type": "code",
   "execution_count": 14,
   "id": "dacfebaf",
   "metadata": {},
   "outputs": [],
   "source": []
  },
  {
   "cell_type": "code",
   "execution_count": null,
   "id": "205cc5eb",
   "metadata": {},
   "outputs": [],
   "source": []
  },
  {
   "cell_type": "code",
   "execution_count": null,
   "id": "b7e3ee1f",
   "metadata": {},
   "outputs": [],
   "source": []
  },
  {
   "cell_type": "code",
   "execution_count": null,
   "id": "3b5502bd",
   "metadata": {},
   "outputs": [],
   "source": []
  },
  {
   "cell_type": "code",
   "execution_count": null,
   "id": "8111cb07",
   "metadata": {},
   "outputs": [],
   "source": []
  },
  {
   "cell_type": "code",
   "execution_count": null,
   "id": "942ab366",
   "metadata": {},
   "outputs": [],
   "source": []
  }
 ],
 "metadata": {
  "kernelspec": {
   "display_name": "Python 3 (ipykernel)",
   "language": "python",
   "name": "python3"
  },
  "language_info": {
   "codemirror_mode": {
    "name": "ipython",
    "version": 3
   },
   "file_extension": ".py",
   "mimetype": "text/x-python",
   "name": "python",
   "nbconvert_exporter": "python",
   "pygments_lexer": "ipython3",
   "version": "3.9.7"
  }
 },
 "nbformat": 4,
 "nbformat_minor": 5
}
