{
 "cells": [
  {
   "cell_type": "code",
   "execution_count": 417,
   "id": "b0eddf1f",
   "metadata": {},
   "outputs": [],
   "source": [
    "#import libraries \n",
    "import pandas as pd\n",
    "import numpy as nm\n",
    "natural_gas = pd.read_csv(\"C:/Users/shrad/Desktop/pro/Natural Gas Futures Historical Data.csv\") "
   ]
  },
  {
   "cell_type": "code",
   "execution_count": null,
   "id": "bdeafbd3",
   "metadata": {},
   "outputs": [],
   "source": []
  },
  {
   "cell_type": "code",
   "execution_count": 418,
   "id": "0e24f7bb",
   "metadata": {},
   "outputs": [],
   "source": [
    "%matplotlib inline\n",
    "import numpy as np\n",
    "import matplotlib.pyplot as plot\n",
    "import seaborn as sns; sns.set()"
   ]
  },
  {
   "cell_type": "code",
   "execution_count": 419,
   "id": "8f17687f",
   "metadata": {},
   "outputs": [],
   "source": [
    "# Load libraries\n",
    "import pandas as pd\n",
    "from sklearn.naive_bayes import GaussianNB\n",
    "from sklearn.model_selection import train_test_split # Import train_test_split function\n",
    "from sklearn import metrics #Import scikit-learn metrics module for accuracy calculation\n",
    "from sklearn.metrics import confusion_matrix\n",
    "from sklearn.metrics import classification_report\n"
   ]
  },
  {
   "cell_type": "code",
   "execution_count": 420,
   "id": "69be6720",
   "metadata": {},
   "outputs": [
    {
     "data": {
      "text/plain": [
       "(5000, 7)"
      ]
     },
     "execution_count": 420,
     "metadata": {},
     "output_type": "execute_result"
    }
   ],
   "source": [
    "natural_gas.shape"
   ]
  },
  {
   "cell_type": "code",
   "execution_count": 421,
   "id": "3daf8989",
   "metadata": {},
   "outputs": [
    {
     "data": {
      "text/html": [
       "<div>\n",
       "<style scoped>\n",
       "    .dataframe tbody tr th:only-of-type {\n",
       "        vertical-align: middle;\n",
       "    }\n",
       "\n",
       "    .dataframe tbody tr th {\n",
       "        vertical-align: top;\n",
       "    }\n",
       "\n",
       "    .dataframe thead th {\n",
       "        text-align: right;\n",
       "    }\n",
       "</style>\n",
       "<table border=\"1\" class=\"dataframe\">\n",
       "  <thead>\n",
       "    <tr style=\"text-align: right;\">\n",
       "      <th></th>\n",
       "      <th>Date</th>\n",
       "      <th>Price</th>\n",
       "      <th>Open</th>\n",
       "      <th>High</th>\n",
       "      <th>Low</th>\n",
       "      <th>Vol.</th>\n",
       "      <th>Change %</th>\n",
       "    </tr>\n",
       "  </thead>\n",
       "  <tbody>\n",
       "    <tr>\n",
       "      <th>0</th>\n",
       "      <td>08/23/2019</td>\n",
       "      <td>2.152</td>\n",
       "      <td>2.150</td>\n",
       "      <td>2.167</td>\n",
       "      <td>2.120</td>\n",
       "      <td>81.62K</td>\n",
       "      <td>-0.32%</td>\n",
       "    </tr>\n",
       "    <tr>\n",
       "      <th>1</th>\n",
       "      <td>08/22/2019</td>\n",
       "      <td>2.159</td>\n",
       "      <td>2.169</td>\n",
       "      <td>2.195</td>\n",
       "      <td>2.145</td>\n",
       "      <td>113.11K</td>\n",
       "      <td>-0.51%</td>\n",
       "    </tr>\n",
       "    <tr>\n",
       "      <th>2</th>\n",
       "      <td>08/21/2019</td>\n",
       "      <td>2.170</td>\n",
       "      <td>2.214</td>\n",
       "      <td>2.238</td>\n",
       "      <td>2.157</td>\n",
       "      <td>193.53K</td>\n",
       "      <td>-2.16%</td>\n",
       "    </tr>\n",
       "    <tr>\n",
       "      <th>3</th>\n",
       "      <td>08/20/2019</td>\n",
       "      <td>2.218</td>\n",
       "      <td>2.202</td>\n",
       "      <td>2.231</td>\n",
       "      <td>2.187</td>\n",
       "      <td>107.84K</td>\n",
       "      <td>0.36%</td>\n",
       "    </tr>\n",
       "    <tr>\n",
       "      <th>4</th>\n",
       "      <td>08/19/2019</td>\n",
       "      <td>2.210</td>\n",
       "      <td>2.164</td>\n",
       "      <td>2.221</td>\n",
       "      <td>2.134</td>\n",
       "      <td>144.76K</td>\n",
       "      <td>0.45%</td>\n",
       "    </tr>\n",
       "    <tr>\n",
       "      <th>...</th>\n",
       "      <td>...</td>\n",
       "      <td>...</td>\n",
       "      <td>...</td>\n",
       "      <td>...</td>\n",
       "      <td>...</td>\n",
       "      <td>...</td>\n",
       "      <td>...</td>\n",
       "    </tr>\n",
       "    <tr>\n",
       "      <th>4995</th>\n",
       "      <td>01/10/2000</td>\n",
       "      <td>2.216</td>\n",
       "      <td>2.180</td>\n",
       "      <td>2.255</td>\n",
       "      <td>2.165</td>\n",
       "      <td>28.92K</td>\n",
       "      <td>1.98%</td>\n",
       "    </tr>\n",
       "    <tr>\n",
       "      <th>4996</th>\n",
       "      <td>01/07/2000</td>\n",
       "      <td>2.173</td>\n",
       "      <td>2.195</td>\n",
       "      <td>2.230</td>\n",
       "      <td>2.155</td>\n",
       "      <td>28.46K</td>\n",
       "      <td>-1.05%</td>\n",
       "    </tr>\n",
       "    <tr>\n",
       "      <th>4997</th>\n",
       "      <td>01/06/2000</td>\n",
       "      <td>2.196</td>\n",
       "      <td>2.165</td>\n",
       "      <td>2.220</td>\n",
       "      <td>2.135</td>\n",
       "      <td>29.07K</td>\n",
       "      <td>1.29%</td>\n",
       "    </tr>\n",
       "    <tr>\n",
       "      <th>4998</th>\n",
       "      <td>01/05/2000</td>\n",
       "      <td>2.168</td>\n",
       "      <td>2.180</td>\n",
       "      <td>2.200</td>\n",
       "      <td>2.125</td>\n",
       "      <td>27.95K</td>\n",
       "      <td>-0.37%</td>\n",
       "    </tr>\n",
       "    <tr>\n",
       "      <th>4999</th>\n",
       "      <td>01/04/2000</td>\n",
       "      <td>2.176</td>\n",
       "      <td>2.130</td>\n",
       "      <td>2.200</td>\n",
       "      <td>2.130</td>\n",
       "      <td>30.15K</td>\n",
       "      <td>-6.57%</td>\n",
       "    </tr>\n",
       "  </tbody>\n",
       "</table>\n",
       "<p>5000 rows × 7 columns</p>\n",
       "</div>"
      ],
      "text/plain": [
       "            Date  Price   Open   High    Low     Vol. Change %\n",
       "0     08/23/2019  2.152  2.150  2.167  2.120   81.62K   -0.32%\n",
       "1     08/22/2019  2.159  2.169  2.195  2.145  113.11K   -0.51%\n",
       "2     08/21/2019  2.170  2.214  2.238  2.157  193.53K   -2.16%\n",
       "3     08/20/2019  2.218  2.202  2.231  2.187  107.84K    0.36%\n",
       "4     08/19/2019  2.210  2.164  2.221  2.134  144.76K    0.45%\n",
       "...          ...    ...    ...    ...    ...      ...      ...\n",
       "4995  01/10/2000  2.216  2.180  2.255  2.165   28.92K    1.98%\n",
       "4996  01/07/2000  2.173  2.195  2.230  2.155   28.46K   -1.05%\n",
       "4997  01/06/2000  2.196  2.165  2.220  2.135   29.07K    1.29%\n",
       "4998  01/05/2000  2.168  2.180  2.200  2.125   27.95K   -0.37%\n",
       "4999  01/04/2000  2.176  2.130  2.200  2.130   30.15K   -6.57%\n",
       "\n",
       "[5000 rows x 7 columns]"
      ]
     },
     "execution_count": 421,
     "metadata": {},
     "output_type": "execute_result"
    }
   ],
   "source": [
    "natural_gas\n"
   ]
  },
  {
   "cell_type": "code",
   "execution_count": 422,
   "id": "1791f7f1",
   "metadata": {},
   "outputs": [],
   "source": [
    "#to remove percentage character from change column\n",
    "natural_gas['Change %'] = list(map(lambda x: x[:-1], natural_gas['Change %'].values))"
   ]
  },
  {
   "cell_type": "code",
   "execution_count": 423,
   "id": "102f5909",
   "metadata": {},
   "outputs": [],
   "source": [
    "#to change from string to float datatype\n",
    "natural_gas['Change %'] = [float(x) for x in natural_gas['Change %'].values]\n"
   ]
  },
  {
   "cell_type": "code",
   "execution_count": 424,
   "id": "37772a11",
   "metadata": {},
   "outputs": [
    {
     "data": {
      "text/html": [
       "<div>\n",
       "<style scoped>\n",
       "    .dataframe tbody tr th:only-of-type {\n",
       "        vertical-align: middle;\n",
       "    }\n",
       "\n",
       "    .dataframe tbody tr th {\n",
       "        vertical-align: top;\n",
       "    }\n",
       "\n",
       "    .dataframe thead th {\n",
       "        text-align: right;\n",
       "    }\n",
       "</style>\n",
       "<table border=\"1\" class=\"dataframe\">\n",
       "  <thead>\n",
       "    <tr style=\"text-align: right;\">\n",
       "      <th></th>\n",
       "      <th>Date</th>\n",
       "      <th>Price</th>\n",
       "      <th>Open</th>\n",
       "      <th>High</th>\n",
       "      <th>Low</th>\n",
       "      <th>Vol.</th>\n",
       "      <th>Change %</th>\n",
       "      <th>output_stat</th>\n",
       "    </tr>\n",
       "  </thead>\n",
       "  <tbody>\n",
       "    <tr>\n",
       "      <th>0</th>\n",
       "      <td>08/23/2019</td>\n",
       "      <td>2.152</td>\n",
       "      <td>2.150</td>\n",
       "      <td>2.167</td>\n",
       "      <td>2.120</td>\n",
       "      <td>81.62K</td>\n",
       "      <td>-0.32</td>\n",
       "      <td>0</td>\n",
       "    </tr>\n",
       "    <tr>\n",
       "      <th>1</th>\n",
       "      <td>08/22/2019</td>\n",
       "      <td>2.159</td>\n",
       "      <td>2.169</td>\n",
       "      <td>2.195</td>\n",
       "      <td>2.145</td>\n",
       "      <td>113.11K</td>\n",
       "      <td>-0.51</td>\n",
       "      <td>0</td>\n",
       "    </tr>\n",
       "    <tr>\n",
       "      <th>2</th>\n",
       "      <td>08/21/2019</td>\n",
       "      <td>2.170</td>\n",
       "      <td>2.214</td>\n",
       "      <td>2.238</td>\n",
       "      <td>2.157</td>\n",
       "      <td>193.53K</td>\n",
       "      <td>-2.16</td>\n",
       "      <td>0</td>\n",
       "    </tr>\n",
       "    <tr>\n",
       "      <th>3</th>\n",
       "      <td>08/20/2019</td>\n",
       "      <td>2.218</td>\n",
       "      <td>2.202</td>\n",
       "      <td>2.231</td>\n",
       "      <td>2.187</td>\n",
       "      <td>107.84K</td>\n",
       "      <td>0.36</td>\n",
       "      <td>1</td>\n",
       "    </tr>\n",
       "    <tr>\n",
       "      <th>4</th>\n",
       "      <td>08/19/2019</td>\n",
       "      <td>2.210</td>\n",
       "      <td>2.164</td>\n",
       "      <td>2.221</td>\n",
       "      <td>2.134</td>\n",
       "      <td>144.76K</td>\n",
       "      <td>0.45</td>\n",
       "      <td>1</td>\n",
       "    </tr>\n",
       "  </tbody>\n",
       "</table>\n",
       "</div>"
      ],
      "text/plain": [
       "         Date  Price   Open   High    Low     Vol.  Change % output_stat\n",
       "0  08/23/2019  2.152  2.150  2.167  2.120   81.62K     -0.32           0\n",
       "1  08/22/2019  2.159  2.169  2.195  2.145  113.11K     -0.51           0\n",
       "2  08/21/2019  2.170  2.214  2.238  2.157  193.53K     -2.16           0\n",
       "3  08/20/2019  2.218  2.202  2.231  2.187  107.84K      0.36           1\n",
       "4  08/19/2019  2.210  2.164  2.221  2.134  144.76K      0.45           1"
      ]
     },
     "metadata": {},
     "output_type": "display_data"
    }
   ],
   "source": [
    "#user defined function to set output to 1 if change% is positive or else 0\n",
    "def output_stat(value):\n",
    "\tif value< 0.0:\n",
    "\t\treturn \"0\"\n",
    "\telif value >0.0:\n",
    "\t\treturn \"1\"\n",
    "\n",
    "natural_gas['output_stat'] = natural_gas['Change %'].map(output_stat)\n",
    "display(natural_gas.head())\n"
   ]
  },
  {
   "cell_type": "code",
   "execution_count": null,
   "id": "f386dcb2",
   "metadata": {},
   "outputs": [],
   "source": []
  },
  {
   "cell_type": "code",
   "execution_count": 425,
   "id": "181df1dd",
   "metadata": {},
   "outputs": [
    {
     "data": {
      "text/html": [
       "<div>\n",
       "<style scoped>\n",
       "    .dataframe tbody tr th:only-of-type {\n",
       "        vertical-align: middle;\n",
       "    }\n",
       "\n",
       "    .dataframe tbody tr th {\n",
       "        vertical-align: top;\n",
       "    }\n",
       "\n",
       "    .dataframe thead th {\n",
       "        text-align: right;\n",
       "    }\n",
       "</style>\n",
       "<table border=\"1\" class=\"dataframe\">\n",
       "  <thead>\n",
       "    <tr style=\"text-align: right;\">\n",
       "      <th></th>\n",
       "      <th>Date</th>\n",
       "      <th>Price</th>\n",
       "      <th>Open</th>\n",
       "      <th>High</th>\n",
       "      <th>Low</th>\n",
       "      <th>Vol.</th>\n",
       "      <th>Change %</th>\n",
       "      <th>output_stat</th>\n",
       "    </tr>\n",
       "  </thead>\n",
       "  <tbody>\n",
       "    <tr>\n",
       "      <th>0</th>\n",
       "      <td>08/23/2019</td>\n",
       "      <td>2.152</td>\n",
       "      <td>2.150</td>\n",
       "      <td>2.167</td>\n",
       "      <td>2.120</td>\n",
       "      <td>81.62K</td>\n",
       "      <td>-0.32</td>\n",
       "      <td>0</td>\n",
       "    </tr>\n",
       "    <tr>\n",
       "      <th>1</th>\n",
       "      <td>08/22/2019</td>\n",
       "      <td>2.159</td>\n",
       "      <td>2.169</td>\n",
       "      <td>2.195</td>\n",
       "      <td>2.145</td>\n",
       "      <td>113.11K</td>\n",
       "      <td>-0.51</td>\n",
       "      <td>0</td>\n",
       "    </tr>\n",
       "    <tr>\n",
       "      <th>2</th>\n",
       "      <td>08/21/2019</td>\n",
       "      <td>2.170</td>\n",
       "      <td>2.214</td>\n",
       "      <td>2.238</td>\n",
       "      <td>2.157</td>\n",
       "      <td>193.53K</td>\n",
       "      <td>-2.16</td>\n",
       "      <td>0</td>\n",
       "    </tr>\n",
       "    <tr>\n",
       "      <th>3</th>\n",
       "      <td>08/20/2019</td>\n",
       "      <td>2.218</td>\n",
       "      <td>2.202</td>\n",
       "      <td>2.231</td>\n",
       "      <td>2.187</td>\n",
       "      <td>107.84K</td>\n",
       "      <td>0.36</td>\n",
       "      <td>1</td>\n",
       "    </tr>\n",
       "    <tr>\n",
       "      <th>4</th>\n",
       "      <td>08/19/2019</td>\n",
       "      <td>2.210</td>\n",
       "      <td>2.164</td>\n",
       "      <td>2.221</td>\n",
       "      <td>2.134</td>\n",
       "      <td>144.76K</td>\n",
       "      <td>0.45</td>\n",
       "      <td>1</td>\n",
       "    </tr>\n",
       "  </tbody>\n",
       "</table>\n",
       "</div>"
      ],
      "text/plain": [
       "         Date  Price   Open   High    Low     Vol.  Change % output_stat\n",
       "0  08/23/2019  2.152  2.150  2.167  2.120   81.62K     -0.32           0\n",
       "1  08/22/2019  2.159  2.169  2.195  2.145  113.11K     -0.51           0\n",
       "2  08/21/2019  2.170  2.214  2.238  2.157  193.53K     -2.16           0\n",
       "3  08/20/2019  2.218  2.202  2.231  2.187  107.84K      0.36           1\n",
       "4  08/19/2019  2.210  2.164  2.221  2.134  144.76K      0.45           1"
      ]
     },
     "execution_count": 425,
     "metadata": {},
     "output_type": "execute_result"
    }
   ],
   "source": [
    "natural_gas.head()"
   ]
  },
  {
   "cell_type": "code",
   "execution_count": 426,
   "id": "9b84674b",
   "metadata": {},
   "outputs": [],
   "source": [
    "natural_gas. dropna( inplace = True )\n"
   ]
  },
  {
   "cell_type": "code",
   "execution_count": 427,
   "id": "63cb5303",
   "metadata": {},
   "outputs": [],
   "source": [
    "# convert the k to thousands\n",
    "def value_to_float(x):\n",
    "    if type(x) == float or type(x) == int:\n",
    "        return x\n",
    "    if 'K' in x:\n",
    "        if len(x) > 1:\n",
    "            return float(x.replace('K', '')) * 1000\n",
    "        return 1000.0\n",
    "   \n",
    "    return 0.0\n",
    "\n",
    "natural_gas['Vol.'] = natural_gas['Vol.'].apply(value_to_float)"
   ]
  },
  {
   "cell_type": "code",
   "execution_count": 428,
   "id": "9269a291",
   "metadata": {},
   "outputs": [
    {
     "data": {
      "text/html": [
       "<div>\n",
       "<style scoped>\n",
       "    .dataframe tbody tr th:only-of-type {\n",
       "        vertical-align: middle;\n",
       "    }\n",
       "\n",
       "    .dataframe tbody tr th {\n",
       "        vertical-align: top;\n",
       "    }\n",
       "\n",
       "    .dataframe thead th {\n",
       "        text-align: right;\n",
       "    }\n",
       "</style>\n",
       "<table border=\"1\" class=\"dataframe\">\n",
       "  <thead>\n",
       "    <tr style=\"text-align: right;\">\n",
       "      <th></th>\n",
       "      <th>Date</th>\n",
       "      <th>Price</th>\n",
       "      <th>Open</th>\n",
       "      <th>High</th>\n",
       "      <th>Low</th>\n",
       "      <th>Vol.</th>\n",
       "      <th>Change %</th>\n",
       "      <th>output_stat</th>\n",
       "    </tr>\n",
       "  </thead>\n",
       "  <tbody>\n",
       "    <tr>\n",
       "      <th>0</th>\n",
       "      <td>08/23/2019</td>\n",
       "      <td>2.152</td>\n",
       "      <td>2.150</td>\n",
       "      <td>2.167</td>\n",
       "      <td>2.120</td>\n",
       "      <td>81620.0</td>\n",
       "      <td>-0.32</td>\n",
       "      <td>0</td>\n",
       "    </tr>\n",
       "    <tr>\n",
       "      <th>1</th>\n",
       "      <td>08/22/2019</td>\n",
       "      <td>2.159</td>\n",
       "      <td>2.169</td>\n",
       "      <td>2.195</td>\n",
       "      <td>2.145</td>\n",
       "      <td>113110.0</td>\n",
       "      <td>-0.51</td>\n",
       "      <td>0</td>\n",
       "    </tr>\n",
       "    <tr>\n",
       "      <th>2</th>\n",
       "      <td>08/21/2019</td>\n",
       "      <td>2.170</td>\n",
       "      <td>2.214</td>\n",
       "      <td>2.238</td>\n",
       "      <td>2.157</td>\n",
       "      <td>193530.0</td>\n",
       "      <td>-2.16</td>\n",
       "      <td>0</td>\n",
       "    </tr>\n",
       "    <tr>\n",
       "      <th>3</th>\n",
       "      <td>08/20/2019</td>\n",
       "      <td>2.218</td>\n",
       "      <td>2.202</td>\n",
       "      <td>2.231</td>\n",
       "      <td>2.187</td>\n",
       "      <td>107840.0</td>\n",
       "      <td>0.36</td>\n",
       "      <td>1</td>\n",
       "    </tr>\n",
       "    <tr>\n",
       "      <th>4</th>\n",
       "      <td>08/19/2019</td>\n",
       "      <td>2.210</td>\n",
       "      <td>2.164</td>\n",
       "      <td>2.221</td>\n",
       "      <td>2.134</td>\n",
       "      <td>144760.0</td>\n",
       "      <td>0.45</td>\n",
       "      <td>1</td>\n",
       "    </tr>\n",
       "  </tbody>\n",
       "</table>\n",
       "</div>"
      ],
      "text/plain": [
       "         Date  Price   Open   High    Low      Vol.  Change % output_stat\n",
       "0  08/23/2019  2.152  2.150  2.167  2.120   81620.0     -0.32           0\n",
       "1  08/22/2019  2.159  2.169  2.195  2.145  113110.0     -0.51           0\n",
       "2  08/21/2019  2.170  2.214  2.238  2.157  193530.0     -2.16           0\n",
       "3  08/20/2019  2.218  2.202  2.231  2.187  107840.0      0.36           1\n",
       "4  08/19/2019  2.210  2.164  2.221  2.134  144760.0      0.45           1"
      ]
     },
     "execution_count": 428,
     "metadata": {},
     "output_type": "execute_result"
    }
   ],
   "source": [
    "natural_gas.head()"
   ]
  },
  {
   "cell_type": "code",
   "execution_count": 430,
   "id": "db14450f",
   "metadata": {},
   "outputs": [
    {
     "name": "stdout",
     "output_type": "stream",
     "text": [
      "Date            object\n",
      "Price          float64\n",
      "Open           float64\n",
      "High           float64\n",
      "Low            float64\n",
      "Vol.           float64\n",
      "Change %       float64\n",
      "output_stat     object\n",
      "dtype: object\n"
     ]
    }
   ],
   "source": [
    "#convert the data type to float from string\n",
    "natural_gas['Vol.'] = pd.to_numeric(natural_gas['Vol.'])\n",
    "print(natural_gas.dtypes)"
   ]
  },
  {
   "cell_type": "code",
   "execution_count": 431,
   "id": "19e8bbdf",
   "metadata": {},
   "outputs": [
    {
     "data": {
      "text/html": [
       "<div>\n",
       "<style scoped>\n",
       "    .dataframe tbody tr th:only-of-type {\n",
       "        vertical-align: middle;\n",
       "    }\n",
       "\n",
       "    .dataframe tbody tr th {\n",
       "        vertical-align: top;\n",
       "    }\n",
       "\n",
       "    .dataframe thead th {\n",
       "        text-align: right;\n",
       "    }\n",
       "</style>\n",
       "<table border=\"1\" class=\"dataframe\">\n",
       "  <thead>\n",
       "    <tr style=\"text-align: right;\">\n",
       "      <th></th>\n",
       "      <th>Date</th>\n",
       "      <th>Price</th>\n",
       "      <th>Open</th>\n",
       "      <th>High</th>\n",
       "      <th>Low</th>\n",
       "      <th>Vol.</th>\n",
       "      <th>Change %</th>\n",
       "      <th>output_stat</th>\n",
       "    </tr>\n",
       "  </thead>\n",
       "  <tbody>\n",
       "    <tr>\n",
       "      <th>0</th>\n",
       "      <td>2019-08-23</td>\n",
       "      <td>2.152</td>\n",
       "      <td>2.150</td>\n",
       "      <td>2.167</td>\n",
       "      <td>2.120</td>\n",
       "      <td>81620.0</td>\n",
       "      <td>-0.32</td>\n",
       "      <td>0</td>\n",
       "    </tr>\n",
       "    <tr>\n",
       "      <th>1</th>\n",
       "      <td>2019-08-22</td>\n",
       "      <td>2.159</td>\n",
       "      <td>2.169</td>\n",
       "      <td>2.195</td>\n",
       "      <td>2.145</td>\n",
       "      <td>113110.0</td>\n",
       "      <td>-0.51</td>\n",
       "      <td>0</td>\n",
       "    </tr>\n",
       "    <tr>\n",
       "      <th>2</th>\n",
       "      <td>2019-08-21</td>\n",
       "      <td>2.170</td>\n",
       "      <td>2.214</td>\n",
       "      <td>2.238</td>\n",
       "      <td>2.157</td>\n",
       "      <td>193530.0</td>\n",
       "      <td>-2.16</td>\n",
       "      <td>0</td>\n",
       "    </tr>\n",
       "    <tr>\n",
       "      <th>3</th>\n",
       "      <td>2019-08-20</td>\n",
       "      <td>2.218</td>\n",
       "      <td>2.202</td>\n",
       "      <td>2.231</td>\n",
       "      <td>2.187</td>\n",
       "      <td>107840.0</td>\n",
       "      <td>0.36</td>\n",
       "      <td>1</td>\n",
       "    </tr>\n",
       "    <tr>\n",
       "      <th>4</th>\n",
       "      <td>2019-08-19</td>\n",
       "      <td>2.210</td>\n",
       "      <td>2.164</td>\n",
       "      <td>2.221</td>\n",
       "      <td>2.134</td>\n",
       "      <td>144760.0</td>\n",
       "      <td>0.45</td>\n",
       "      <td>1</td>\n",
       "    </tr>\n",
       "  </tbody>\n",
       "</table>\n",
       "</div>"
      ],
      "text/plain": [
       "        Date  Price   Open   High    Low      Vol.  Change % output_stat\n",
       "0 2019-08-23  2.152  2.150  2.167  2.120   81620.0     -0.32           0\n",
       "1 2019-08-22  2.159  2.169  2.195  2.145  113110.0     -0.51           0\n",
       "2 2019-08-21  2.170  2.214  2.238  2.157  193530.0     -2.16           0\n",
       "3 2019-08-20  2.218  2.202  2.231  2.187  107840.0      0.36           1\n",
       "4 2019-08-19  2.210  2.164  2.221  2.134  144760.0      0.45           1"
      ]
     },
     "execution_count": 431,
     "metadata": {},
     "output_type": "execute_result"
    }
   ],
   "source": [
    "#converting string date to date-time\n",
    "import datetime as dt\n",
    "natural_gas['Date'] =pd.to_datetime(natural_gas['Date'])\n",
    "natural_gas.head()"
   ]
  },
  {
   "cell_type": "code",
   "execution_count": 432,
   "id": "6f614d25",
   "metadata": {},
   "outputs": [
    {
     "data": {
      "text/html": [
       "<div>\n",
       "<style scoped>\n",
       "    .dataframe tbody tr th:only-of-type {\n",
       "        vertical-align: middle;\n",
       "    }\n",
       "\n",
       "    .dataframe tbody tr th {\n",
       "        vertical-align: top;\n",
       "    }\n",
       "\n",
       "    .dataframe thead th {\n",
       "        text-align: right;\n",
       "    }\n",
       "</style>\n",
       "<table border=\"1\" class=\"dataframe\">\n",
       "  <thead>\n",
       "    <tr style=\"text-align: right;\">\n",
       "      <th></th>\n",
       "      <th>Date</th>\n",
       "      <th>Price</th>\n",
       "      <th>Open</th>\n",
       "      <th>High</th>\n",
       "      <th>Low</th>\n",
       "      <th>Vol.</th>\n",
       "      <th>Change %</th>\n",
       "      <th>output_stat</th>\n",
       "    </tr>\n",
       "  </thead>\n",
       "  <tbody>\n",
       "    <tr>\n",
       "      <th>0</th>\n",
       "      <td>737294</td>\n",
       "      <td>2.152</td>\n",
       "      <td>2.150</td>\n",
       "      <td>2.167</td>\n",
       "      <td>2.120</td>\n",
       "      <td>81620.0</td>\n",
       "      <td>-0.32</td>\n",
       "      <td>0</td>\n",
       "    </tr>\n",
       "    <tr>\n",
       "      <th>1</th>\n",
       "      <td>737293</td>\n",
       "      <td>2.159</td>\n",
       "      <td>2.169</td>\n",
       "      <td>2.195</td>\n",
       "      <td>2.145</td>\n",
       "      <td>113110.0</td>\n",
       "      <td>-0.51</td>\n",
       "      <td>0</td>\n",
       "    </tr>\n",
       "    <tr>\n",
       "      <th>2</th>\n",
       "      <td>737292</td>\n",
       "      <td>2.170</td>\n",
       "      <td>2.214</td>\n",
       "      <td>2.238</td>\n",
       "      <td>2.157</td>\n",
       "      <td>193530.0</td>\n",
       "      <td>-2.16</td>\n",
       "      <td>0</td>\n",
       "    </tr>\n",
       "    <tr>\n",
       "      <th>3</th>\n",
       "      <td>737291</td>\n",
       "      <td>2.218</td>\n",
       "      <td>2.202</td>\n",
       "      <td>2.231</td>\n",
       "      <td>2.187</td>\n",
       "      <td>107840.0</td>\n",
       "      <td>0.36</td>\n",
       "      <td>1</td>\n",
       "    </tr>\n",
       "    <tr>\n",
       "      <th>4</th>\n",
       "      <td>737290</td>\n",
       "      <td>2.210</td>\n",
       "      <td>2.164</td>\n",
       "      <td>2.221</td>\n",
       "      <td>2.134</td>\n",
       "      <td>144760.0</td>\n",
       "      <td>0.45</td>\n",
       "      <td>1</td>\n",
       "    </tr>\n",
       "  </tbody>\n",
       "</table>\n",
       "</div>"
      ],
      "text/plain": [
       "     Date  Price   Open   High    Low      Vol.  Change % output_stat\n",
       "0  737294  2.152  2.150  2.167  2.120   81620.0     -0.32           0\n",
       "1  737293  2.159  2.169  2.195  2.145  113110.0     -0.51           0\n",
       "2  737292  2.170  2.214  2.238  2.157  193530.0     -2.16           0\n",
       "3  737291  2.218  2.202  2.231  2.187  107840.0      0.36           1\n",
       "4  737290  2.210  2.164  2.221  2.134  144760.0      0.45           1"
      ]
     },
     "execution_count": 432,
     "metadata": {},
     "output_type": "execute_result"
    }
   ],
   "source": [
    "#converting date-time to ordinal\n",
    "import datetime as dt\n",
    "import time\n",
    "natural_gas['Date']= natural_gas['Date'].map(dt.datetime.toordinal)\n",
    "natural_gas.head()"
   ]
  },
  {
   "cell_type": "code",
   "execution_count": 433,
   "id": "c6c22a83",
   "metadata": {},
   "outputs": [
    {
     "data": {
      "text/html": [
       "<div>\n",
       "<style scoped>\n",
       "    .dataframe tbody tr th:only-of-type {\n",
       "        vertical-align: middle;\n",
       "    }\n",
       "\n",
       "    .dataframe tbody tr th {\n",
       "        vertical-align: top;\n",
       "    }\n",
       "\n",
       "    .dataframe thead th {\n",
       "        text-align: right;\n",
       "    }\n",
       "</style>\n",
       "<table border=\"1\" class=\"dataframe\">\n",
       "  <thead>\n",
       "    <tr style=\"text-align: right;\">\n",
       "      <th></th>\n",
       "      <th>Date</th>\n",
       "      <th>Price</th>\n",
       "      <th>Open</th>\n",
       "      <th>High</th>\n",
       "      <th>Low</th>\n",
       "      <th>Vol.</th>\n",
       "      <th>Change %</th>\n",
       "      <th>output_stat</th>\n",
       "    </tr>\n",
       "  </thead>\n",
       "  <tbody>\n",
       "    <tr>\n",
       "      <th>4995</th>\n",
       "      <td>730129</td>\n",
       "      <td>2.216</td>\n",
       "      <td>2.180</td>\n",
       "      <td>2.255</td>\n",
       "      <td>2.165</td>\n",
       "      <td>28920.0</td>\n",
       "      <td>1.98</td>\n",
       "      <td>1</td>\n",
       "    </tr>\n",
       "    <tr>\n",
       "      <th>4996</th>\n",
       "      <td>730126</td>\n",
       "      <td>2.173</td>\n",
       "      <td>2.195</td>\n",
       "      <td>2.230</td>\n",
       "      <td>2.155</td>\n",
       "      <td>28460.0</td>\n",
       "      <td>-1.05</td>\n",
       "      <td>0</td>\n",
       "    </tr>\n",
       "    <tr>\n",
       "      <th>4997</th>\n",
       "      <td>730125</td>\n",
       "      <td>2.196</td>\n",
       "      <td>2.165</td>\n",
       "      <td>2.220</td>\n",
       "      <td>2.135</td>\n",
       "      <td>29070.0</td>\n",
       "      <td>1.29</td>\n",
       "      <td>1</td>\n",
       "    </tr>\n",
       "    <tr>\n",
       "      <th>4998</th>\n",
       "      <td>730124</td>\n",
       "      <td>2.168</td>\n",
       "      <td>2.180</td>\n",
       "      <td>2.200</td>\n",
       "      <td>2.125</td>\n",
       "      <td>27950.0</td>\n",
       "      <td>-0.37</td>\n",
       "      <td>0</td>\n",
       "    </tr>\n",
       "    <tr>\n",
       "      <th>4999</th>\n",
       "      <td>730123</td>\n",
       "      <td>2.176</td>\n",
       "      <td>2.130</td>\n",
       "      <td>2.200</td>\n",
       "      <td>2.130</td>\n",
       "      <td>30150.0</td>\n",
       "      <td>-6.57</td>\n",
       "      <td>0</td>\n",
       "    </tr>\n",
       "  </tbody>\n",
       "</table>\n",
       "</div>"
      ],
      "text/plain": [
       "        Date  Price   Open   High    Low     Vol.  Change % output_stat\n",
       "4995  730129  2.216  2.180  2.255  2.165  28920.0      1.98           1\n",
       "4996  730126  2.173  2.195  2.230  2.155  28460.0     -1.05           0\n",
       "4997  730125  2.196  2.165  2.220  2.135  29070.0      1.29           1\n",
       "4998  730124  2.168  2.180  2.200  2.125  27950.0     -0.37           0\n",
       "4999  730123  2.176  2.130  2.200  2.130  30150.0     -6.57           0"
      ]
     },
     "execution_count": 433,
     "metadata": {},
     "output_type": "execute_result"
    }
   ],
   "source": [
    "natural_gas.tail()"
   ]
  },
  {
   "cell_type": "code",
   "execution_count": 330,
   "id": "3bd9e622",
   "metadata": {},
   "outputs": [],
   "source": [
    "#independent variable [open,high, low,vol, change%]\n",
    "#dependent variable [output_stat ]\n",
    "xrn = natural_gas.iloc[:,2:7]\n",
    "yrn= natural_gas.iloc[:,1]"
   ]
  },
  {
   "cell_type": "code",
   "execution_count": 434,
   "id": "0f5f46b7",
   "metadata": {},
   "outputs": [
    {
     "data": {
      "text/plain": [
       "0       2.152\n",
       "1       2.159\n",
       "2       2.170\n",
       "3       2.218\n",
       "4       2.210\n",
       "        ...  \n",
       "4995    2.216\n",
       "4996    2.173\n",
       "4997    2.196\n",
       "4998    2.168\n",
       "4999    2.176\n",
       "Name: Price, Length: 4900, dtype: float64"
      ]
     },
     "execution_count": 434,
     "metadata": {},
     "output_type": "execute_result"
    }
   ],
   "source": [
    "yrn\n"
   ]
  },
  {
   "cell_type": "code",
   "execution_count": 332,
   "id": "64daad9d",
   "metadata": {},
   "outputs": [
    {
     "data": {
      "text/plain": [
       "1       0\n",
       "2       1\n",
       "3       0\n",
       "4       0\n",
       "5       0\n",
       "       ..\n",
       "1336    1\n",
       "1337    0\n",
       "1338    0\n",
       "1339    0\n",
       "1340    0\n",
       "Name: output_stat, Length: 1268, dtype: object"
      ]
     },
     "execution_count": 332,
     "metadata": {},
     "output_type": "execute_result"
    }
   ],
   "source": [
    "y"
   ]
  },
  {
   "cell_type": "code",
   "execution_count": 435,
   "id": "4a9f3662",
   "metadata": {},
   "outputs": [],
   "source": [
    "#naive bayes algorithm , data set is splitted , trained , fitted and then predicted using classifier\n",
    "X_train, X_test, y_train, y_test = train_test_split(x, y, test_size=0.5, random_state=0)\n",
    "classifier = GaussianNB()\n",
    "classifier.fit(X_train, y_train)\n",
    " \n",
    "y_pred = classifier.predict(X_test)"
   ]
  },
  {
   "cell_type": "code",
   "execution_count": 436,
   "id": "23bb4bbb",
   "metadata": {},
   "outputs": [
    {
     "name": "stdout",
     "output_type": "stream",
     "text": [
      "ac 0.5205047318611987\n",
      "Accuracy score:  0.8974763406940063\n"
     ]
    }
   ],
   "source": [
    "#accuracy is calculated over training and testing set\n",
    "from sklearn.metrics import accuracy_score, precision_score, recall_score, f1_score\n",
    "print('ac', format(accuracy_score(y_train, y_pred)))\n",
    "print('Accuracy score: ', format(accuracy_score(y_test, y_pred)))\n"
   ]
  },
  {
   "cell_type": "code",
   "execution_count": 437,
   "id": "7f3134f5",
   "metadata": {},
   "outputs": [
    {
     "data": {
      "text/plain": [
       "Text(0.5, 0, 'date')"
      ]
     },
     "execution_count": 437,
     "metadata": {},
     "output_type": "execute_result"
    },
    {
     "data": {
      "image/png": "[encoded data removed]",
      "text/plain": [
       "<Figure size 640x480 with 1 Axes>"
      ]
     },
     "metadata": {},
     "output_type": "display_data"
    }
   ],
   "source": [
    "plot.subplot(2,1,1)\n",
    "plot.plot(['accuracy_score'])\n",
    "plot.plot(natural_gas['Price'])\n",
    "plot.title('model accuracy')\n",
    "plot.ylabel('accuracy')\n",
    "plot.xlabel('date')\n"
   ]
  },
  {
   "cell_type": "code",
   "execution_count": 438,
   "id": "daabd9df",
   "metadata": {},
   "outputs": [
    {
     "name": "stdout",
     "output_type": "stream",
     "text": [
      "[[303  21]\n",
      " [ 44 266]]\n"
     ]
    }
   ],
   "source": [
    "from sklearn.metrics import confusion_matrix,accuracy_score\n",
    "cm = confusion_matrix(y_test, y_pred)\n",
    "print(cm)\n"
   ]
  },
  {
   "cell_type": "code",
   "execution_count": 439,
   "id": "24824a39",
   "metadata": {},
   "outputs": [
    {
     "data": {
      "text/plain": [
       "<AxesSubplot: title={'center': 'Confusion matrix'}>"
      ]
     },
     "execution_count": 439,
     "metadata": {},
     "output_type": "execute_result"
    },
    {
     "data": {
      "image/png": "[encoded data removed]",
      "text/plain": [
       "<Figure size 1000x500 with 2 Axes>"
      ]
     },
     "metadata": {},
     "output_type": "display_data"
    }
   ],
   "source": [
    "#plotting the confusion matrix\n",
    "plt.figure(figsize=(10,5))\n",
    "plt.title('Confusion matrix')\n",
    "sns.heatmap(cm,annot=True,fmt='d',cmap='inferno_r')"
   ]
  },
  {
   "cell_type": "code",
   "execution_count": 440,
   "id": "0e905a5a",
   "metadata": {},
   "outputs": [],
   "source": [
    "#importing logistic regression classifier\n",
    "from sklearn.linear_model import LogisticRegression"
   ]
  },
  {
   "cell_type": "code",
   "execution_count": 339,
   "id": "0c903a57",
   "metadata": {},
   "outputs": [],
   "source": [
    "# splitting the dataset \n",
    "x_train1, x_test1, y_train1, y_test1 = train_test_split(x,y,test_size=0.3,random_state=1)"
   ]
  },
  {
   "cell_type": "code",
   "execution_count": 340,
   "id": "05693bac",
   "metadata": {},
   "outputs": [],
   "source": [
    "logmodel = LogisticRegression()"
   ]
  },
  {
   "cell_type": "code",
   "execution_count": 341,
   "id": "ff3a8581",
   "metadata": {},
   "outputs": [
    {
     "data": {
      "text/plain": [
       "LogisticRegression()"
      ]
     },
     "execution_count": 341,
     "metadata": {},
     "output_type": "execute_result"
    }
   ],
   "source": [
    "#fitting the model\n",
    "logmodel.fit(x_train1, y_train1)"
   ]
  },
  {
   "cell_type": "code",
   "execution_count": 342,
   "id": "de8fb1fc",
   "metadata": {},
   "outputs": [],
   "source": [
    "#predicting the model\n",
    "predictions = logmodel.predict(x_test1)"
   ]
  },
  {
   "cell_type": "code",
   "execution_count": 441,
   "id": "ca8e2627",
   "metadata": {},
   "outputs": [],
   "source": [
    "from sklearn.metrics import classification_report"
   ]
  },
  {
   "cell_type": "code",
   "execution_count": 442,
   "id": "52ffc6e6",
   "metadata": {},
   "outputs": [
    {
     "data": {
      "text/plain": [
       "'              precision    recall  f1-score   support\\n\\n           0       0.97      0.98      0.98       197\\n           1       0.98      0.97      0.98       184\\n\\n    accuracy                           0.98       381\\n   macro avg       0.98      0.98      0.98       381\\nweighted avg       0.98      0.98      0.98       381\\n'"
      ]
     },
     "execution_count": 442,
     "metadata": {},
     "output_type": "execute_result"
    }
   ],
   "source": [
    "classification_report(y_test1, predictions)"
   ]
  },
  {
   "cell_type": "code",
   "execution_count": 443,
   "id": "ca85302d",
   "metadata": {},
   "outputs": [
    {
     "data": {
      "text/plain": [
       "0.979002624671916"
      ]
     },
     "execution_count": 443,
     "metadata": {},
     "output_type": "execute_result"
    }
   ],
   "source": [
    "accuracy_score(y_test1, predictions)"
   ]
  },
  {
   "cell_type": "code",
   "execution_count": 444,
   "id": "853c9b83",
   "metadata": {},
   "outputs": [],
   "source": [
    "from sklearn.ensemble import RandomForestClassifier"
   ]
  },
  {
   "cell_type": "code",
   "execution_count": 347,
   "id": "7004469a",
   "metadata": {},
   "outputs": [],
   "source": [
    "x_train2, x_test2, y_train2, y_test2 = train_test_split(x,y,test_size=0.3,random_state=1)"
   ]
  },
  {
   "cell_type": "code",
   "execution_count": 348,
   "id": "3a4e2ea9",
   "metadata": {},
   "outputs": [
    {
     "data": {
      "text/plain": [
       "RandomForestClassifier(n_jobs=2, random_state=0)"
      ]
     },
     "execution_count": 348,
     "metadata": {},
     "output_type": "execute_result"
    }
   ],
   "source": [
    "#creating a randomFOrestClassifier\n",
    "clf = RandomForestClassifier(n_jobs=2, random_state=0)\n",
    "\n",
    "clf.fit(x_train2,y_train2)"
   ]
  },
  {
   "cell_type": "code",
   "execution_count": 349,
   "id": "27b3ec63",
   "metadata": {},
   "outputs": [
    {
     "data": {
      "text/plain": [
       "array(['0', '1', '1', '0', '1', '1', '0', '1', '1', '1', '0', '1', '1',\n",
       "       '1', '1', '1', '1', '0', '1', '1', '0', '1', '0', '0', '1', '0',\n",
       "       '1', '1', '0', '1', '1', '1', '1', '1', '0', '1', '0', '0', '1',\n",
       "       '0', '0', '1', '1', '1', '1', '1', '0', '1', '0', '0', '1', '1',\n",
       "       '1', '0', '0', '1', '1', '1', '0', '1', '0', '0', '0', '0', '1',\n",
       "       '0', '0', '1', '0', '0', '0', '1', '1', '0', '1', '0', '0', '1',\n",
       "       '0', '0', '1', '1', '1', '1', '1', '1', '0', '0', '0', '1', '0',\n",
       "       '0', '1', '0', '0', '1', '1', '0', '1', '0', '1', '0', '0', '0',\n",
       "       '1', '1', '1', '0', '1', '0', '1', '1', '1', '1', '0', '0', '1',\n",
       "       '1', '0', '0', '1', '0', '1', '0', '1', '1', '0', '1', '0', '1',\n",
       "       '0', '0', '0', '1', '0', '0', '0', '0', '1', '0', '1', '0', '0',\n",
       "       '0', '1', '0', '0', '1', '1', '0', '0', '0', '0', '1', '1', '1',\n",
       "       '0', '0', '1', '1', '1', '0', '1', '0', '0', '1', '0', '1', '0',\n",
       "       '1', '1', '0', '1', '0', '1', '1', '1', '0', '0', '0', '0', '0',\n",
       "       '1', '1', '1', '1', '1', '0', '0', '1', '0', '1', '0', '1', '1',\n",
       "       '0', '0', '1', '1', '0', '0', '1', '0', '0', '0', '0', '0', '0',\n",
       "       '1', '0', '1', '1', '0', '0', '1', '0', '1', '1', '1', '1', '1',\n",
       "       '0', '0', '0', '0', '1', '1', '1', '1', '0', '0', '0', '1', '0',\n",
       "       '0', '1', '0', '1', '0', '1', '0', '0', '0', '1', '0', '0', '1',\n",
       "       '1', '0', '1', '0', '0', '1', '1', '0', '0', '0', '0', '1', '1',\n",
       "       '0', '1', '0', '0', '1', '1', '0', '1', '1', '1', '1', '0', '0',\n",
       "       '1', '1', '0', '0', '1', '0', '1', '1', '0', '0', '1', '1', '0',\n",
       "       '1', '1', '1', '1', '1', '0', '0', '0', '0', '1', '0', '0', '0',\n",
       "       '0', '1', '1', '0', '1', '0', '0', '0', '1', '0', '1', '1', '1',\n",
       "       '0', '1', '0', '1', '0', '1', '0', '0', '0', '0', '0', '0', '1',\n",
       "       '0', '0', '0', '0', '1', '0', '1', '1', '1', '1', '0', '0', '0',\n",
       "       '1', '0', '1', '1', '1', '0', '1', '0', '0', '1', '0', '0', '1',\n",
       "       '1', '1', '0', '1', '0', '0', '1', '1', '0', '0', '0', '0', '0',\n",
       "       '0', '1', '0', '0', '0', '0', '0', '0', '0', '0', '1', '1', '1',\n",
       "       '1', '0', '0', '0'], dtype=object)"
      ]
     },
     "execution_count": 349,
     "metadata": {},
     "output_type": "execute_result"
    }
   ],
   "source": [
    "#apply the trained classifier to test data\n",
    "clf.predict(x_test2)"
   ]
  },
  {
   "cell_type": "code",
   "execution_count": 377,
   "id": "9dcef0f0",
   "metadata": {},
   "outputs": [],
   "source": [
    "#RNN is used to predict the price \n",
    "from keras.models import Sequential\n",
    "from keras.layers import Dense\n",
    "from keras.layers import LSTM\n",
    "from keras.layers import Dropout"
   ]
  },
  {
   "cell_type": "code",
   "execution_count": 378,
   "id": "a387c9d7",
   "metadata": {},
   "outputs": [],
   "source": [
    "regressor = Sequential()\n"
   ]
  },
  {
   "cell_type": "code",
   "execution_count": null,
   "id": "46026066",
   "metadata": {},
   "outputs": [],
   "source": []
  },
  {
   "cell_type": "code",
   "execution_count": 445,
   "id": "7bc58fde",
   "metadata": {},
   "outputs": [
    {
     "data": {
      "text/plain": [
       "(4900, 5)"
      ]
     },
     "execution_count": 445,
     "metadata": {},
     "output_type": "execute_result"
    }
   ],
   "source": [
    "xrn.shape"
   ]
  },
  {
   "cell_type": "code",
   "execution_count": 446,
   "id": "8683a052",
   "metadata": {},
   "outputs": [
    {
     "data": {
      "text/html": [
       "<div>\n",
       "<style scoped>\n",
       "    .dataframe tbody tr th:only-of-type {\n",
       "        vertical-align: middle;\n",
       "    }\n",
       "\n",
       "    .dataframe tbody tr th {\n",
       "        vertical-align: top;\n",
       "    }\n",
       "\n",
       "    .dataframe thead th {\n",
       "        text-align: right;\n",
       "    }\n",
       "</style>\n",
       "<table border=\"1\" class=\"dataframe\">\n",
       "  <thead>\n",
       "    <tr style=\"text-align: right;\">\n",
       "      <th></th>\n",
       "      <th>Open</th>\n",
       "      <th>High</th>\n",
       "      <th>Low</th>\n",
       "      <th>Vol.</th>\n",
       "      <th>Change %</th>\n",
       "    </tr>\n",
       "  </thead>\n",
       "  <tbody>\n",
       "    <tr>\n",
       "      <th>2240</th>\n",
       "      <td>4.400</td>\n",
       "      <td>4.450</td>\n",
       "      <td>4.327</td>\n",
       "      <td>124910.0</td>\n",
       "      <td>-0.27</td>\n",
       "    </tr>\n",
       "    <tr>\n",
       "      <th>4999</th>\n",
       "      <td>2.130</td>\n",
       "      <td>2.200</td>\n",
       "      <td>2.130</td>\n",
       "      <td>30150.0</td>\n",
       "      <td>-6.57</td>\n",
       "    </tr>\n",
       "    <tr>\n",
       "      <th>1665</th>\n",
       "      <td>4.390</td>\n",
       "      <td>4.397</td>\n",
       "      <td>4.251</td>\n",
       "      <td>125560.0</td>\n",
       "      <td>-3.20</td>\n",
       "    </tr>\n",
       "    <tr>\n",
       "      <th>1594</th>\n",
       "      <td>3.472</td>\n",
       "      <td>3.488</td>\n",
       "      <td>3.418</td>\n",
       "      <td>91380.0</td>\n",
       "      <td>-0.78</td>\n",
       "    </tr>\n",
       "    <tr>\n",
       "      <th>455</th>\n",
       "      <td>3.175</td>\n",
       "      <td>3.194</td>\n",
       "      <td>3.008</td>\n",
       "      <td>317430.0</td>\n",
       "      <td>-4.84</td>\n",
       "    </tr>\n",
       "    <tr>\n",
       "      <th>...</th>\n",
       "      <td>...</td>\n",
       "      <td>...</td>\n",
       "      <td>...</td>\n",
       "      <td>...</td>\n",
       "      <td>...</td>\n",
       "    </tr>\n",
       "    <tr>\n",
       "      <th>2987</th>\n",
       "      <td>7.685</td>\n",
       "      <td>7.751</td>\n",
       "      <td>7.570</td>\n",
       "      <td>43760.0</td>\n",
       "      <td>-0.64</td>\n",
       "    </tr>\n",
       "    <tr>\n",
       "      <th>2855</th>\n",
       "      <td>9.311</td>\n",
       "      <td>9.350</td>\n",
       "      <td>9.049</td>\n",
       "      <td>79990.0</td>\n",
       "      <td>-1.39</td>\n",
       "    </tr>\n",
       "    <tr>\n",
       "      <th>956</th>\n",
       "      <td>2.397</td>\n",
       "      <td>2.495</td>\n",
       "      <td>2.377</td>\n",
       "      <td>163910.0</td>\n",
       "      <td>3.78</td>\n",
       "    </tr>\n",
       "    <tr>\n",
       "      <th>4077</th>\n",
       "      <td>4.680</td>\n",
       "      <td>4.720</td>\n",
       "      <td>4.620</td>\n",
       "      <td>27330.0</td>\n",
       "      <td>-1.70</td>\n",
       "    </tr>\n",
       "    <tr>\n",
       "      <th>248</th>\n",
       "      <td>2.824</td>\n",
       "      <td>2.856</td>\n",
       "      <td>2.805</td>\n",
       "      <td>143260.0</td>\n",
       "      <td>-0.42</td>\n",
       "    </tr>\n",
       "  </tbody>\n",
       "</table>\n",
       "<p>3430 rows × 5 columns</p>\n",
       "</div>"
      ],
      "text/plain": [
       "       Open   High    Low      Vol.  Change %\n",
       "2240  4.400  4.450  4.327  124910.0     -0.27\n",
       "4999  2.130  2.200  2.130   30150.0     -6.57\n",
       "1665  4.390  4.397  4.251  125560.0     -3.20\n",
       "1594  3.472  3.488  3.418   91380.0     -0.78\n",
       "455   3.175  3.194  3.008  317430.0     -4.84\n",
       "...     ...    ...    ...       ...       ...\n",
       "2987  7.685  7.751  7.570   43760.0     -0.64\n",
       "2855  9.311  9.350  9.049   79990.0     -1.39\n",
       "956   2.397  2.495  2.377  163910.0      3.78\n",
       "4077  4.680  4.720  4.620   27330.0     -1.70\n",
       "248   2.824  2.856  2.805  143260.0     -0.42\n",
       "\n",
       "[3430 rows x 5 columns]"
      ]
     },
     "execution_count": 446,
     "metadata": {},
     "output_type": "execute_result"
    }
   ],
   "source": [
    "x_train3"
   ]
  },
  {
   "cell_type": "code",
   "execution_count": 447,
   "id": "1c5855c5",
   "metadata": {},
   "outputs": [
    {
     "data": {
      "text/plain": [
       "(3430,)"
      ]
     },
     "execution_count": 447,
     "metadata": {},
     "output_type": "execute_result"
    }
   ],
   "source": [
    "y_train3.shape"
   ]
  },
  {
   "cell_type": "code",
   "execution_count": 406,
   "id": "ee1cabbe",
   "metadata": {},
   "outputs": [],
   "source": [
    "#since RNN needs sequential data, the first 70% is used for training, next 30% is used for testing\n",
    "x_train4= xrn[0:3430]\n",
    "y_train4= yrn[0:3430]\n",
    "x_test4=xrn[3430:4900]\n",
    "y_test4= yrn[3430:4900]"
   ]
  },
  {
   "cell_type": "code",
   "execution_count": 389,
   "id": "084bffca",
   "metadata": {},
   "outputs": [
    {
     "data": {
      "text/html": [
       "<div>\n",
       "<style scoped>\n",
       "    .dataframe tbody tr th:only-of-type {\n",
       "        vertical-align: middle;\n",
       "    }\n",
       "\n",
       "    .dataframe tbody tr th {\n",
       "        vertical-align: top;\n",
       "    }\n",
       "\n",
       "    .dataframe thead th {\n",
       "        text-align: right;\n",
       "    }\n",
       "</style>\n",
       "<table border=\"1\" class=\"dataframe\">\n",
       "  <thead>\n",
       "    <tr style=\"text-align: right;\">\n",
       "      <th></th>\n",
       "      <th>Open</th>\n",
       "      <th>High</th>\n",
       "      <th>Low</th>\n",
       "      <th>Vol.</th>\n",
       "      <th>Change %</th>\n",
       "    </tr>\n",
       "  </thead>\n",
       "  <tbody>\n",
       "    <tr>\n",
       "      <th>0</th>\n",
       "      <td>2.150</td>\n",
       "      <td>2.167</td>\n",
       "      <td>2.120</td>\n",
       "      <td>81620.0</td>\n",
       "      <td>-0.32</td>\n",
       "    </tr>\n",
       "    <tr>\n",
       "      <th>1</th>\n",
       "      <td>2.169</td>\n",
       "      <td>2.195</td>\n",
       "      <td>2.145</td>\n",
       "      <td>113110.0</td>\n",
       "      <td>-0.51</td>\n",
       "    </tr>\n",
       "    <tr>\n",
       "      <th>2</th>\n",
       "      <td>2.214</td>\n",
       "      <td>2.238</td>\n",
       "      <td>2.157</td>\n",
       "      <td>193530.0</td>\n",
       "      <td>-2.16</td>\n",
       "    </tr>\n",
       "    <tr>\n",
       "      <th>3</th>\n",
       "      <td>2.202</td>\n",
       "      <td>2.231</td>\n",
       "      <td>2.187</td>\n",
       "      <td>107840.0</td>\n",
       "      <td>0.36</td>\n",
       "    </tr>\n",
       "    <tr>\n",
       "      <th>4</th>\n",
       "      <td>2.164</td>\n",
       "      <td>2.221</td>\n",
       "      <td>2.134</td>\n",
       "      <td>144760.0</td>\n",
       "      <td>0.45</td>\n",
       "    </tr>\n",
       "    <tr>\n",
       "      <th>...</th>\n",
       "      <td>...</td>\n",
       "      <td>...</td>\n",
       "      <td>...</td>\n",
       "      <td>...</td>\n",
       "      <td>...</td>\n",
       "    </tr>\n",
       "    <tr>\n",
       "      <th>3519</th>\n",
       "      <td>13.745</td>\n",
       "      <td>15.100</td>\n",
       "      <td>13.735</td>\n",
       "      <td>41870.0</td>\n",
       "      <td>9.45</td>\n",
       "    </tr>\n",
       "    <tr>\n",
       "      <th>3520</th>\n",
       "      <td>13.500</td>\n",
       "      <td>13.975</td>\n",
       "      <td>13.500</td>\n",
       "      <td>32550.0</td>\n",
       "      <td>1.56</td>\n",
       "    </tr>\n",
       "    <tr>\n",
       "      <th>3521</th>\n",
       "      <td>13.532</td>\n",
       "      <td>13.830</td>\n",
       "      <td>13.300</td>\n",
       "      <td>29750.0</td>\n",
       "      <td>-1.25</td>\n",
       "    </tr>\n",
       "    <tr>\n",
       "      <th>3522</th>\n",
       "      <td>13.901</td>\n",
       "      <td>14.450</td>\n",
       "      <td>13.610</td>\n",
       "      <td>34840.0</td>\n",
       "      <td>-1.95</td>\n",
       "    </tr>\n",
       "    <tr>\n",
       "      <th>3523</th>\n",
       "      <td>13.030</td>\n",
       "      <td>13.950</td>\n",
       "      <td>12.960</td>\n",
       "      <td>37290.0</td>\n",
       "      <td>6.94</td>\n",
       "    </tr>\n",
       "  </tbody>\n",
       "</table>\n",
       "<p>3430 rows × 5 columns</p>\n",
       "</div>"
      ],
      "text/plain": [
       "        Open    High     Low      Vol.  Change %\n",
       "0      2.150   2.167   2.120   81620.0     -0.32\n",
       "1      2.169   2.195   2.145  113110.0     -0.51\n",
       "2      2.214   2.238   2.157  193530.0     -2.16\n",
       "3      2.202   2.231   2.187  107840.0      0.36\n",
       "4      2.164   2.221   2.134  144760.0      0.45\n",
       "...      ...     ...     ...       ...       ...\n",
       "3519  13.745  15.100  13.735   41870.0      9.45\n",
       "3520  13.500  13.975  13.500   32550.0      1.56\n",
       "3521  13.532  13.830  13.300   29750.0     -1.25\n",
       "3522  13.901  14.450  13.610   34840.0     -1.95\n",
       "3523  13.030  13.950  12.960   37290.0      6.94\n",
       "\n",
       "[3430 rows x 5 columns]"
      ]
     },
     "execution_count": 389,
     "metadata": {},
     "output_type": "execute_result"
    }
   ],
   "source": [
    "x_train4"
   ]
  },
  {
   "cell_type": "code",
   "execution_count": 391,
   "id": "9fb124ac",
   "metadata": {},
   "outputs": [],
   "source": [
    "#regressor.add(LSTM(units = 50, return_sequences = True, input_shape = (x_train3.shape[1], 1)))\n",
    "regressor.add(LSTM(units = 100, return_sequences = True, input_shape = (x_train4.shape[1], 1)))\n",
    "\n",
    "regressor.add(Dropout(0.2))"
   ]
  },
  {
   "cell_type": "code",
   "execution_count": 392,
   "id": "a88dcea1",
   "metadata": {},
   "outputs": [],
   "source": [
    "regressor.add(LSTM(units = 50, return_sequences = True))\n",
    "regressor.add(Dropout(0.2))"
   ]
  },
  {
   "cell_type": "code",
   "execution_count": 393,
   "id": "9a84c660",
   "metadata": {},
   "outputs": [],
   "source": [
    "regressor.add(LSTM(units = 50, return_sequences = True))\n",
    "regressor.add(Dropout(0.2))"
   ]
  },
  {
   "cell_type": "code",
   "execution_count": 394,
   "id": "b9e73903",
   "metadata": {},
   "outputs": [],
   "source": [
    "regressor.add(LSTM(units = 50))\n",
    "regressor.add(Dropout(0.2))"
   ]
  },
  {
   "cell_type": "code",
   "execution_count": 395,
   "id": "d724ef17",
   "metadata": {},
   "outputs": [],
   "source": [
    "regressor.add(Dense(units = 1))\n"
   ]
  },
  {
   "cell_type": "code",
   "execution_count": 397,
   "id": "7ad0387b",
   "metadata": {},
   "outputs": [],
   "source": [
    "regressor.compile(optimizer = 'adam', loss = 'mean_squared_error')\n"
   ]
  },
  {
   "cell_type": "code",
   "execution_count": 360,
   "id": "bd9c58a3",
   "metadata": {},
   "outputs": [
    {
     "data": {
      "text/html": [
       "<div>\n",
       "<style scoped>\n",
       "    .dataframe tbody tr th:only-of-type {\n",
       "        vertical-align: middle;\n",
       "    }\n",
       "\n",
       "    .dataframe tbody tr th {\n",
       "        vertical-align: top;\n",
       "    }\n",
       "\n",
       "    .dataframe thead th {\n",
       "        text-align: right;\n",
       "    }\n",
       "</style>\n",
       "<table border=\"1\" class=\"dataframe\">\n",
       "  <thead>\n",
       "    <tr style=\"text-align: right;\">\n",
       "      <th></th>\n",
       "      <th>Open</th>\n",
       "      <th>High</th>\n",
       "      <th>Low</th>\n",
       "      <th>Vol.</th>\n",
       "      <th>Change %</th>\n",
       "    </tr>\n",
       "  </thead>\n",
       "  <tbody>\n",
       "    <tr>\n",
       "      <th>2240</th>\n",
       "      <td>4.400</td>\n",
       "      <td>4.450</td>\n",
       "      <td>4.327</td>\n",
       "      <td>124910.0</td>\n",
       "      <td>-0.27</td>\n",
       "    </tr>\n",
       "    <tr>\n",
       "      <th>4999</th>\n",
       "      <td>2.130</td>\n",
       "      <td>2.200</td>\n",
       "      <td>2.130</td>\n",
       "      <td>30150.0</td>\n",
       "      <td>-6.57</td>\n",
       "    </tr>\n",
       "    <tr>\n",
       "      <th>1665</th>\n",
       "      <td>4.390</td>\n",
       "      <td>4.397</td>\n",
       "      <td>4.251</td>\n",
       "      <td>125560.0</td>\n",
       "      <td>-3.20</td>\n",
       "    </tr>\n",
       "    <tr>\n",
       "      <th>1594</th>\n",
       "      <td>3.472</td>\n",
       "      <td>3.488</td>\n",
       "      <td>3.418</td>\n",
       "      <td>91380.0</td>\n",
       "      <td>-0.78</td>\n",
       "    </tr>\n",
       "    <tr>\n",
       "      <th>455</th>\n",
       "      <td>3.175</td>\n",
       "      <td>3.194</td>\n",
       "      <td>3.008</td>\n",
       "      <td>317430.0</td>\n",
       "      <td>-4.84</td>\n",
       "    </tr>\n",
       "    <tr>\n",
       "      <th>...</th>\n",
       "      <td>...</td>\n",
       "      <td>...</td>\n",
       "      <td>...</td>\n",
       "      <td>...</td>\n",
       "      <td>...</td>\n",
       "    </tr>\n",
       "    <tr>\n",
       "      <th>2987</th>\n",
       "      <td>7.685</td>\n",
       "      <td>7.751</td>\n",
       "      <td>7.570</td>\n",
       "      <td>43760.0</td>\n",
       "      <td>-0.64</td>\n",
       "    </tr>\n",
       "    <tr>\n",
       "      <th>2855</th>\n",
       "      <td>9.311</td>\n",
       "      <td>9.350</td>\n",
       "      <td>9.049</td>\n",
       "      <td>79990.0</td>\n",
       "      <td>-1.39</td>\n",
       "    </tr>\n",
       "    <tr>\n",
       "      <th>956</th>\n",
       "      <td>2.397</td>\n",
       "      <td>2.495</td>\n",
       "      <td>2.377</td>\n",
       "      <td>163910.0</td>\n",
       "      <td>3.78</td>\n",
       "    </tr>\n",
       "    <tr>\n",
       "      <th>4077</th>\n",
       "      <td>4.680</td>\n",
       "      <td>4.720</td>\n",
       "      <td>4.620</td>\n",
       "      <td>27330.0</td>\n",
       "      <td>-1.70</td>\n",
       "    </tr>\n",
       "    <tr>\n",
       "      <th>248</th>\n",
       "      <td>2.824</td>\n",
       "      <td>2.856</td>\n",
       "      <td>2.805</td>\n",
       "      <td>143260.0</td>\n",
       "      <td>-0.42</td>\n",
       "    </tr>\n",
       "  </tbody>\n",
       "</table>\n",
       "<p>3430 rows × 5 columns</p>\n",
       "</div>"
      ],
      "text/plain": [
       "       Open   High    Low      Vol.  Change %\n",
       "2240  4.400  4.450  4.327  124910.0     -0.27\n",
       "4999  2.130  2.200  2.130   30150.0     -6.57\n",
       "1665  4.390  4.397  4.251  125560.0     -3.20\n",
       "1594  3.472  3.488  3.418   91380.0     -0.78\n",
       "455   3.175  3.194  3.008  317430.0     -4.84\n",
       "...     ...    ...    ...       ...       ...\n",
       "2987  7.685  7.751  7.570   43760.0     -0.64\n",
       "2855  9.311  9.350  9.049   79990.0     -1.39\n",
       "956   2.397  2.495  2.377  163910.0      3.78\n",
       "4077  4.680  4.720  4.620   27330.0     -1.70\n",
       "248   2.824  2.856  2.805  143260.0     -0.42\n",
       "\n",
       "[3430 rows x 5 columns]"
      ]
     },
     "execution_count": 360,
     "metadata": {},
     "output_type": "execute_result"
    }
   ],
   "source": [
    "x_train3"
   ]
  },
  {
   "cell_type": "code",
   "execution_count": 398,
   "id": "e0e60c41",
   "metadata": {},
   "outputs": [
    {
     "name": "stdout",
     "output_type": "stream",
     "text": [
      "Epoch 1/100\n",
      "108/108 [==============================] - 12s 23ms/step - loss: 5.6866\n",
      "Epoch 2/100\n",
      "108/108 [==============================] - 3s 28ms/step - loss: 0.5108\n",
      "Epoch 3/100\n",
      "108/108 [==============================] - 2s 21ms/step - loss: 0.4092\n",
      "Epoch 4/100\n",
      "108/108 [==============================] - 2s 22ms/step - loss: 0.3230\n",
      "Epoch 5/100\n",
      "108/108 [==============================] - 2s 22ms/step - loss: 0.3091\n",
      "Epoch 6/100\n",
      "108/108 [==============================] - 2s 22ms/step - loss: 0.2759\n",
      "Epoch 7/100\n",
      "108/108 [==============================] - 3s 28ms/step - loss: 0.2443\n",
      "Epoch 8/100\n",
      "108/108 [==============================] - 2s 22ms/step - loss: 0.2106\n",
      "Epoch 9/100\n",
      "108/108 [==============================] - 2s 23ms/step - loss: 0.1999\n",
      "Epoch 10/100\n",
      "108/108 [==============================] - 2s 23ms/step - loss: 0.2200\n",
      "Epoch 11/100\n",
      "108/108 [==============================] - 3s 24ms/step - loss: 0.1894\n",
      "Epoch 12/100\n",
      "108/108 [==============================] - 3s 24ms/step - loss: 0.1896\n",
      "Epoch 13/100\n",
      "108/108 [==============================] - 3s 24ms/step - loss: 0.1708\n",
      "Epoch 14/100\n",
      "108/108 [==============================] - 3s 23ms/step - loss: 0.1736\n",
      "Epoch 15/100\n",
      "108/108 [==============================] - 3s 26ms/step - loss: 0.2005\n",
      "Epoch 16/100\n",
      "108/108 [==============================] - 3s 26ms/step - loss: 0.1739\n",
      "Epoch 17/100\n",
      "108/108 [==============================] - 3s 28ms/step - loss: 0.1672\n",
      "Epoch 18/100\n",
      "108/108 [==============================] - 3s 26ms/step - loss: 0.1832\n",
      "Epoch 19/100\n",
      "108/108 [==============================] - 3s 25ms/step - loss: 0.1661\n",
      "Epoch 20/100\n",
      "108/108 [==============================] - 3s 26ms/step - loss: 0.1771\n",
      "Epoch 21/100\n",
      "108/108 [==============================] - 6s 59ms/step - loss: 0.1543\n",
      "Epoch 22/100\n",
      "108/108 [==============================] - 8s 71ms/step - loss: 0.1805\n",
      "Epoch 23/100\n",
      "108/108 [==============================] - 3s 29ms/step - loss: 0.1501\n",
      "Epoch 24/100\n",
      "108/108 [==============================] - 3s 26ms/step - loss: 0.1685\n",
      "Epoch 25/100\n",
      "108/108 [==============================] - 4s 38ms/step - loss: 0.1689\n",
      "Epoch 26/100\n",
      "108/108 [==============================] - 3s 27ms/step - loss: 0.1699\n",
      "Epoch 27/100\n",
      "108/108 [==============================] - 3s 25ms/step - loss: 0.1630\n",
      "Epoch 28/100\n",
      "108/108 [==============================] - 3s 27ms/step - loss: 0.1519\n",
      "Epoch 29/100\n",
      "108/108 [==============================] - 3s 26ms/step - loss: 0.1604\n",
      "Epoch 30/100\n",
      "108/108 [==============================] - 3s 27ms/step - loss: 0.1710\n",
      "Epoch 31/100\n",
      "108/108 [==============================] - 3s 30ms/step - loss: 0.1536\n",
      "Epoch 32/100\n",
      "108/108 [==============================] - 3s 25ms/step - loss: 0.1621\n",
      "Epoch 33/100\n",
      "108/108 [==============================] - 3s 29ms/step - loss: 0.1554\n",
      "Epoch 34/100\n",
      "108/108 [==============================] - 3s 29ms/step - loss: 0.1539\n",
      "Epoch 35/100\n",
      "108/108 [==============================] - 3s 28ms/step - loss: 0.1582\n",
      "Epoch 36/100\n",
      "108/108 [==============================] - 3s 28ms/step - loss: 0.1719\n",
      "Epoch 37/100\n",
      "108/108 [==============================] - 3s 25ms/step - loss: 0.1587\n",
      "Epoch 38/100\n",
      "108/108 [==============================] - 3s 27ms/step - loss: 0.1585\n",
      "Epoch 39/100\n",
      "108/108 [==============================] - 3s 26ms/step - loss: 0.1506\n",
      "Epoch 40/100\n",
      "108/108 [==============================] - 3s 27ms/step - loss: 0.1424\n",
      "Epoch 41/100\n",
      "108/108 [==============================] - 3s 29ms/step - loss: 0.1521\n",
      "Epoch 42/100\n",
      "108/108 [==============================] - 3s 28ms/step - loss: 0.1617\n",
      "Epoch 43/100\n",
      "108/108 [==============================] - 3s 25ms/step - loss: 0.1463\n",
      "Epoch 44/100\n",
      "108/108 [==============================] - 3s 26ms/step - loss: 0.1527\n",
      "Epoch 45/100\n",
      "108/108 [==============================] - 3s 27ms/step - loss: 0.1526\n",
      "Epoch 46/100\n",
      "108/108 [==============================] - 3s 27ms/step - loss: 0.1436\n",
      "Epoch 47/100\n",
      "108/108 [==============================] - 3s 26ms/step - loss: 0.1457\n",
      "Epoch 48/100\n",
      "108/108 [==============================] - 3s 26ms/step - loss: 0.1500\n",
      "Epoch 49/100\n",
      "108/108 [==============================] - 3s 27ms/step - loss: 0.1517\n",
      "Epoch 50/100\n",
      "108/108 [==============================] - 3s 26ms/step - loss: 0.1375\n",
      "Epoch 51/100\n",
      "108/108 [==============================] - 3s 26ms/step - loss: 0.1450\n",
      "Epoch 52/100\n",
      "108/108 [==============================] - 3s 26ms/step - loss: 0.1364\n",
      "Epoch 53/100\n",
      "108/108 [==============================] - 3s 26ms/step - loss: 0.1606\n",
      "Epoch 54/100\n",
      "108/108 [==============================] - 3s 25ms/step - loss: 0.1429\n",
      "Epoch 55/100\n",
      "108/108 [==============================] - 3s 27ms/step - loss: 0.1350\n",
      "Epoch 56/100\n",
      "108/108 [==============================] - 3s 29ms/step - loss: 0.1217\n",
      "Epoch 57/100\n",
      "108/108 [==============================] - 3s 26ms/step - loss: 0.1517\n",
      "Epoch 58/100\n",
      "108/108 [==============================] - 3s 26ms/step - loss: 0.1409\n",
      "Epoch 59/100\n",
      "108/108 [==============================] - 3s 26ms/step - loss: 0.1310\n",
      "Epoch 60/100\n",
      "108/108 [==============================] - 3s 30ms/step - loss: 0.1385\n",
      "Epoch 61/100\n",
      "108/108 [==============================] - 3s 29ms/step - loss: 0.1204\n",
      "Epoch 62/100\n",
      "108/108 [==============================] - 3s 28ms/step - loss: 0.1159\n",
      "Epoch 63/100\n",
      "108/108 [==============================] - 3s 27ms/step - loss: 0.1297\n",
      "Epoch 64/100\n",
      "108/108 [==============================] - 3s 31ms/step - loss: 0.1289\n",
      "Epoch 65/100\n",
      "108/108 [==============================] - 3s 28ms/step - loss: 0.1254\n",
      "Epoch 66/100\n",
      "108/108 [==============================] - 4s 33ms/step - loss: 0.1336\n",
      "Epoch 67/100\n",
      "108/108 [==============================] - 3s 28ms/step - loss: 0.1267\n",
      "Epoch 68/100\n",
      "108/108 [==============================] - 3s 31ms/step - loss: 0.1312\n",
      "Epoch 69/100\n",
      "108/108 [==============================] - 3s 27ms/step - loss: 0.1239\n",
      "Epoch 70/100\n",
      "108/108 [==============================] - 3s 27ms/step - loss: 0.1176\n",
      "Epoch 71/100\n",
      "108/108 [==============================] - 3s 27ms/step - loss: 0.1344\n",
      "Epoch 72/100\n",
      "108/108 [==============================] - 3s 29ms/step - loss: 0.1302\n",
      "Epoch 73/100\n",
      "108/108 [==============================] - 3s 31ms/step - loss: 0.1256\n",
      "Epoch 74/100\n",
      "108/108 [==============================] - 3s 27ms/step - loss: 0.1190\n",
      "Epoch 75/100\n",
      "108/108 [==============================] - 3s 29ms/step - loss: 0.1524\n",
      "Epoch 76/100\n",
      "108/108 [==============================] - 3s 28ms/step - loss: 0.1075\n",
      "Epoch 77/100\n",
      "108/108 [==============================] - 3s 28ms/step - loss: 0.1331\n",
      "Epoch 78/100\n",
      "108/108 [==============================] - 4s 33ms/step - loss: 0.1301\n",
      "Epoch 79/100\n",
      "108/108 [==============================] - 3s 27ms/step - loss: 0.1130\n",
      "Epoch 80/100\n",
      "108/108 [==============================] - 3s 29ms/step - loss: 0.1137\n",
      "Epoch 81/100\n",
      "108/108 [==============================] - 3s 29ms/step - loss: 0.1291\n",
      "Epoch 82/100\n",
      "108/108 [==============================] - 3s 29ms/step - loss: 0.1139\n",
      "Epoch 83/100\n",
      "108/108 [==============================] - 3s 31ms/step - loss: 0.1157\n",
      "Epoch 84/100\n",
      "108/108 [==============================] - 4s 34ms/step - loss: 0.1173\n",
      "Epoch 85/100\n",
      "108/108 [==============================] - 3s 32ms/step - loss: 0.1122\n",
      "Epoch 86/100\n",
      "108/108 [==============================] - 3s 31ms/step - loss: 0.1140\n",
      "Epoch 87/100\n",
      "108/108 [==============================] - 7s 66ms/step - loss: 0.1103\n",
      "Epoch 88/100\n",
      "108/108 [==============================] - 7s 64ms/step - loss: 0.1088\n",
      "Epoch 89/100\n",
      "108/108 [==============================] - 8s 72ms/step - loss: 0.1159\n",
      "Epoch 90/100\n",
      "108/108 [==============================] - 3s 28ms/step - loss: 0.1066\n",
      "Epoch 91/100\n",
      "108/108 [==============================] - 3s 27ms/step - loss: 0.1125\n",
      "Epoch 92/100\n",
      "108/108 [==============================] - 3s 31ms/step - loss: 0.1160\n",
      "Epoch 93/100\n",
      "108/108 [==============================] - 3s 28ms/step - loss: 0.1028\n",
      "Epoch 94/100\n",
      "108/108 [==============================] - 4s 40ms/step - loss: 0.0960\n",
      "Epoch 95/100\n",
      "108/108 [==============================] - 4s 34ms/step - loss: 0.1043\n",
      "Epoch 96/100\n",
      "108/108 [==============================] - 3s 29ms/step - loss: 0.0984\n",
      "Epoch 97/100\n",
      "108/108 [==============================] - 3s 31ms/step - loss: 0.0985\n",
      "Epoch 98/100\n"
     ]
    },
    {
     "name": "stdout",
     "output_type": "stream",
     "text": [
      "108/108 [==============================] - 3s 26ms/step - loss: 0.1163\n",
      "Epoch 99/100\n",
      "108/108 [==============================] - 3s 27ms/step - loss: 0.1265\n",
      "Epoch 100/100\n",
      "108/108 [==============================] - 8s 73ms/step - loss: 0.1064\n"
     ]
    },
    {
     "data": {
      "text/plain": [
       "<keras.callbacks.History at 0x255072dfeb0>"
      ]
     },
     "execution_count": 398,
     "metadata": {},
     "output_type": "execute_result"
    }
   ],
   "source": [
    "regressor.fit(x_train4, y_train4, epochs = 100, batch_size = 32)\n"
   ]
  },
  {
   "cell_type": "code",
   "execution_count": 399,
   "id": "8c6b8187",
   "metadata": {},
   "outputs": [],
   "source": [
    "real_stock_price = natural_gas.iloc[:, 1:2].values"
   ]
  },
  {
   "cell_type": "code",
   "execution_count": 400,
   "id": "e89648ee",
   "metadata": {},
   "outputs": [
    {
     "data": {
      "text/plain": [
       "array([[2.152],\n",
       "       [2.159],\n",
       "       [2.17 ],\n",
       "       ...,\n",
       "       [2.196],\n",
       "       [2.168],\n",
       "       [2.176]])"
      ]
     },
     "execution_count": 400,
     "metadata": {},
     "output_type": "execute_result"
    }
   ],
   "source": [
    "real_stock_price"
   ]
  },
  {
   "cell_type": "code",
   "execution_count": 407,
   "id": "dfe4bda7",
   "metadata": {},
   "outputs": [
    {
     "name": "stdout",
     "output_type": "stream",
     "text": [
      "46/46 [==============================] - 0s 5ms/step\n"
     ]
    },
    {
     "data": {
      "text/plain": [
       "array([[13.457545 ],\n",
       "       [13.095582 ],\n",
       "       [12.511808 ],\n",
       "       ...,\n",
       "       [ 2.0819323],\n",
       "       [ 2.0730393],\n",
       "       [ 2.0327508]], dtype=float32)"
      ]
     },
     "execution_count": 407,
     "metadata": {},
     "output_type": "execute_result"
    }
   ],
   "source": [
    "predicted_stock_price = regressor.predict(x_test4)\n",
    "predicted_stock_price"
   ]
  },
  {
   "cell_type": "code",
   "execution_count": 409,
   "id": "49dd3630",
   "metadata": {},
   "outputs": [
    {
     "data": {
      "image/png": "[encoded data removed]",
      "text/plain": [
       "<Figure size 640x480 with 1 Axes>"
      ]
     },
     "metadata": {},
     "output_type": "display_data"
    }
   ],
   "source": [
    "plt.plot(real_stock_price[3430:4900], color = 'blue', label = 'Real natural gas Price')\n",
    "plt.plot(predicted_stock_price, 'ro', label = 'Predicted natural gas Price')\n",
    "plt.title('investing natural gas Price Prediction')\n",
    "plt.xlabel('Time')\n",
    "plt.ylabel('investing natural gas Price')\n",
    "plt.legend()\n",
    "plt.show()"
   ]
  },
  {
   "cell_type": "code",
   "execution_count": 366,
   "id": "a0332a53",
   "metadata": {},
   "outputs": [
    {
     "data": {
      "text/plain": [
       "65536"
      ]
     },
     "execution_count": 366,
     "metadata": {},
     "output_type": "execute_result"
    }
   ],
   "source": [
    "2**2**2**2"
   ]
  },
  {
   "cell_type": "code",
   "execution_count": 367,
   "id": "df64bf68",
   "metadata": {},
   "outputs": [
    {
     "data": {
      "text/plain": [
       "65536"
      ]
     },
     "execution_count": 367,
     "metadata": {},
     "output_type": "execute_result"
    }
   ],
   "source": [
    "2**16"
   ]
  },
  {
   "cell_type": "code",
   "execution_count": 368,
   "id": "c2f3726a",
   "metadata": {},
   "outputs": [
    {
     "data": {
      "text/plain": [
       "[<matplotlib.lines.Line2D at 0x25505f262b0>]"
      ]
     },
     "execution_count": 368,
     "metadata": {},
     "output_type": "execute_result"
    },
    {
     "data": {
      "image/png": "[encoded data removed]",
      "text/plain": [
       "<Figure size 640x480 with 1 Axes>"
      ]
     },
     "metadata": {},
     "output_type": "display_data"
    }
   ],
   "source": [
    "plt.plot(real_stock_price, color = 'blue', label = 'Real natural gas Price')"
   ]
  },
  {
   "cell_type": "code",
   "execution_count": null,
   "id": "6acc5bd1",
   "metadata": {},
   "outputs": [],
   "source": []
  }
 ],
 "metadata": {
  "kernelspec": {
   "display_name": "Python 3 (ipykernel)",
   "language": "python",
   "name": "python3"
  },
  "language_info": {
   "codemirror_mode": {
    "name": "ipython",
    "version": 3
   },
   "file_extension": ".py",
   "mimetype": "text/x-python",
   "name": "python",
   "nbconvert_exporter": "python",
   "pygments_lexer": "ipython3",
   "version": "3.9.7"
  }
 },
 "nbformat": 4,
 "nbformat_minor": 5
}
