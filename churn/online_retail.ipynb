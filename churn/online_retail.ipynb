{
 "cells": [
  {
   "cell_type": "code",
   "execution_count": null,
   "id": "57de415f",
   "metadata": {},
   "outputs": [],
   "source": [
    "# Load libraries\n",
    "from sklearn.model_selection import train_test_split \n",
    "from sklearn import metrics \n",
    "import numpy as np\n",
    "import pandas as pd"
   ]
  },
  {
   "cell_type": "code",
   "execution_count": null,
   "id": "716a4826",
   "metadata": {},
   "outputs": [],
   "source": [
    "#importing datasets\n",
    "import pandas as pd\n",
    "df = pd.read_excel(r'C:\\Users\\shrad\\Desktop\\pro\\GL Assignment_Online Retail.xlsx')"
   ]
  },
  {
   "cell_type": "code",
   "execution_count": null,
   "id": "8ac656a6",
   "metadata": {},
   "outputs": [],
   "source": [
    "df.head()"
   ]
  },
  {
   "cell_type": "code",
   "execution_count": null,
   "id": "7862aaac",
   "metadata": {},
   "outputs": [],
   "source": [
    "#extracting records where customers have made a transaction between 1st Dec 2010 to 31st Aug 2011\n",
    "mask = (df['InvoiceDate'] > '2010-12-1') & (df['InvoiceDate'] <= '2011-8-31')\n",
    "mask.head()"
   ]
  },
  {
   "cell_type": "code",
   "execution_count": null,
   "id": "49b203f7",
   "metadata": {},
   "outputs": [],
   "source": [
    "#extracting records where customers have made transaction from the period september 2011 to december 2011\n",
    "mask1 = (df['InvoiceDate'] > '2011-09-1') & (df['InvoiceDate'] <= '2011-12-1')\n",
    "mask1.head()"
   ]
  },
  {
   "cell_type": "markdown",
   "id": "5c8b7fc5",
   "metadata": {},
   "source": []
  },
  {
   "cell_type": "code",
   "execution_count": null,
   "id": "263fd3db",
   "metadata": {},
   "outputs": [],
   "source": [
    "#first dataset\n",
    "df1= df.loc[mask]"
   ]
  },
  {
   "cell_type": "code",
   "execution_count": null,
   "id": "8c74c0cd",
   "metadata": {},
   "outputs": [],
   "source": [
    "df1"
   ]
  },
  {
   "cell_type": "code",
   "execution_count": null,
   "id": "a9b63079",
   "metadata": {},
   "outputs": [],
   "source": [
    "df2= df.loc[mask1]\n",
    "df2"
   ]
  },
  {
   "cell_type": "code",
   "execution_count": null,
   "id": "c9820aed",
   "metadata": {},
   "outputs": [],
   "source": [
    "#displaying umique customer ids\n",
    "import numpy as np\n",
    "uni = df1.CustomerID.unique()"
   ]
  },
  {
   "cell_type": "code",
   "execution_count": null,
   "id": "d6778cf1",
   "metadata": {},
   "outputs": [],
   "source": [
    "uni"
   ]
  },
  {
   "cell_type": "code",
   "execution_count": null,
   "id": "7f999631",
   "metadata": {},
   "outputs": [],
   "source": [
    "cols = ['CustomerID', 'target']"
   ]
  },
  {
   "cell_type": "code",
   "execution_count": null,
   "id": "63703e8a",
   "metadata": {},
   "outputs": [],
   "source": [
    "#creating an empty dataframe consisting of customer id and churn value \n",
    "df3 = pd.DataFrame(columns= cols)\n",
    "df3.shape"
   ]
  },
  {
   "cell_type": "code",
   "execution_count": null,
   "id": "f07ffb5c",
   "metadata": {},
   "outputs": [],
   "source": [
    "v= df2['CustomerID'].to_numpy()\n",
    "len(v)\n",
    "v"
   ]
  },
  {
   "cell_type": "code",
   "execution_count": null,
   "id": "6a7f95c5",
   "metadata": {},
   "outputs": [],
   "source": [
    "len(uni)"
   ]
  },
  {
   "cell_type": "code",
   "execution_count": null,
   "id": "95602ab5",
   "metadata": {},
   "outputs": [],
   "source": [
    "#check whether every customer id from df2 i.e the dataset where customer have done transactions from the period of september 2011 to december 2011 are present in df1 or not \n",
    "\n",
    "num = 3356\n",
    "churn =0 \n",
    "ntchurn =1\n",
    "#z=uni\n",
    "df3['CustomerID']=uni\n",
    "df3['target']=np.zeros((3356,1))\n",
    "for i in range(0, num):\n",
    "   # df3['CustomerID'][i]=uni[i]\n",
    "    for j in range(0, len(v)):\n",
    "        #if z[i]==v[j]:\n",
    "        if uni[i]==v[j]:\n",
    "            df3['target'][i]= ntchurn\n",
    "            break\n",
    "    #df3['target'][i]=churn     "
   ]
  },
  {
   "cell_type": "code",
   "execution_count": null,
   "id": "a299b95e",
   "metadata": {},
   "outputs": [],
   "source": [
    "#displaying dataset with customer ids who made subsequent purchase or not with value of 1 and 0 respectively\n",
    "df3"
   ]
  },
  {
   "cell_type": "code",
   "execution_count": null,
   "id": "75fe2165",
   "metadata": {},
   "outputs": [],
   "source": [
    "a=np.zeros((3356,1))"
   ]
  },
  {
   "cell_type": "code",
   "execution_count": null,
   "id": "12d3282e",
   "metadata": {},
   "outputs": [],
   "source": [
    "#inserting output column\n",
    "df1.insert(8, 'target', '')"
   ]
  },
  {
   "cell_type": "code",
   "execution_count": null,
   "id": "fe4fc596",
   "metadata": {},
   "outputs": [],
   "source": [
    "df1.insert(9, 'countrycode','')"
   ]
  },
  {
   "cell_type": "code",
   "execution_count": null,
   "id": "111bf3c1",
   "metadata": {},
   "outputs": [],
   "source": [
    "for i in range(0, s):\n",
    "    mask = (df1['Country'] == unic[i])\n",
    "    df1['countrycode'][mask] = c[i]\n"
   ]
  },
  {
   "cell_type": "code",
   "execution_count": null,
   "id": "e742d70d",
   "metadata": {},
   "outputs": [],
   "source": [
    "df1"
   ]
  },
  {
   "cell_type": "code",
   "execution_count": null,
   "id": "fb734612",
   "metadata": {
    "scrolled": true
   },
   "outputs": [],
   "source": [
    "for i in range(0, 3356):\n",
    "    mask = (df1['CustomerID'] == df3['CustomerID'][i])\n",
    "    df1['target'][mask] = df3['target'][i]\n",
    "\n",
    "    \n",
    "    \n",
    "    #for j in range(0,319400):\n",
    "     #   if df3['CustomerID'][i]== df1['CustomerID'][j]:\n",
    "      #      df1['target'][j]=df3['target'][i]\n",
    "     \n",
    "    "
   ]
  },
  {
   "cell_type": "code",
   "execution_count": null,
   "id": "48f609b7",
   "metadata": {},
   "outputs": [],
   "source": [
    "from sklearn.model_selection import train_test_split\n",
    " "
   ]
  },
  {
   "cell_type": "code",
   "execution_count": null,
   "id": "ede5e36c",
   "metadata": {},
   "outputs": [],
   "source": [
    "index_names = df1[ df1['Quantity']<0].index\n",
    "  \n",
    "# drop these row indexes\n",
    "# from dataFrame\n",
    "df1.drop(index_names, inplace = True)\n",
    "df1"
   ]
  },
  {
   "cell_type": "code",
   "execution_count": null,
   "id": "9820a723",
   "metadata": {},
   "outputs": [],
   "source": [
    "#split dataset in features and target variable\n",
    "feature_cols1= ['Quantity', 'UnitPrice','countrycode']\n",
    "xinp = df1[feature_cols1]"
   ]
  },
  {
   "cell_type": "code",
   "execution_count": null,
   "id": "11989086",
   "metadata": {},
   "outputs": [],
   "source": [
    "xinp.info()\n",
    "xinp['Quantity'] = pd.to_numeric(xinp['Quantity'])\n",
    "print(\"after\" )\n",
    "xinp.info()"
   ]
  },
  {
   "cell_type": "code",
   "execution_count": null,
   "id": "75ec4305",
   "metadata": {},
   "outputs": [],
   "source": [
    "xinp.info()\n",
    "xinp['UnitPrice'] = pd.to_numeric(xinp['UnitPrice'])\n",
    "print(\"after\" )\n",
    "xinp.info()"
   ]
  },
  {
   "cell_type": "code",
   "execution_count": null,
   "id": "d9470038",
   "metadata": {},
   "outputs": [],
   "source": [
    "df1['target'] = pd.to_numeric(df1['target'])\n",
    "print(\"after\" )\n",
    "df1.info()"
   ]
  },
  {
   "cell_type": "code",
   "execution_count": null,
   "id": "a013080b",
   "metadata": {},
   "outputs": [],
   "source": [
    "y = df1['target'].to_numpy()\n",
    "y.dtype\n",
    "y = y.astype(int)\n",
    "y.dtype"
   ]
  },
  {
   "cell_type": "code",
   "execution_count": null,
   "id": "cbe3a043",
   "metadata": {},
   "outputs": [],
   "source": [
    "#displaying umique customer ids\n",
    "import numpy as np\n",
    "unic = df1.Country.unique()\n",
    "unic"
   ]
  },
  {
   "cell_type": "code",
   "execution_count": null,
   "id": "76b63f66",
   "metadata": {},
   "outputs": [],
   "source": [
    "s=unic.shape[0]\n",
    "c = np.zeros((s,1))\n",
    "for i in range(0, s):\n",
    "    c[i]=i+1\n",
    "    "
   ]
  },
  {
   "cell_type": "code",
   "execution_count": null,
   "id": "5c3b7ce4",
   "metadata": {},
   "outputs": [],
   "source": [
    "c[4]"
   ]
  },
  {
   "cell_type": "code",
   "execution_count": null,
   "id": "5b7e8212",
   "metadata": {},
   "outputs": [],
   "source": [
    "x_train, x_test, y_train, y_test =train_test_split(xinp,y, test_size=0.25,  random_state=0) "
   ]
  },
  {
   "cell_type": "code",
   "execution_count": null,
   "id": "912053f4",
   "metadata": {},
   "outputs": [],
   "source": [
    "from sklearn.linear_model import LogisticRegression\n",
    "\n",
    "\n",
    "logreg = LogisticRegression()\n",
    "\n",
    "# fit the model with data\n",
    "logreg.fit(x_train,y_train)\n",
    "\n",
    "\n",
    "y_pred=logreg.predict(x_test)"
   ]
  },
  {
   "cell_type": "code",
   "execution_count": null,
   "id": "e550a848",
   "metadata": {},
   "outputs": [],
   "source": []
  },
  {
   "cell_type": "code",
   "execution_count": null,
   "id": "f1c21bce",
   "metadata": {},
   "outputs": [],
   "source": []
  },
  {
   "cell_type": "code",
   "execution_count": null,
   "id": "f9cd327a",
   "metadata": {},
   "outputs": [],
   "source": [
    "print(\"Accuracy:\",metrics.accuracy_score(y_test, y_pred)*100)\n",
    "print(\"Precision:\",metrics.precision_score(y_test, y_pred, average='macro')*100)\n",
    "print(\"Recall:\",metrics.recall_score(y_test, y_pred,average='macro')*100)\n",
    "print(\"f1 score:\", metrics.f1_score(y_test,y_pred, average='macro')*100)"
   ]
  },
  {
   "cell_type": "code",
   "execution_count": null,
   "id": "d07f6a44",
   "metadata": {},
   "outputs": [],
   "source": [
    "x_train1, x_test1, y_train1, y_test1 =train_test_split(xinp,y, test_size=0.25,  random_state=0) "
   ]
  },
  {
   "cell_type": "code",
   "execution_count": null,
   "id": "edb16900",
   "metadata": {},
   "outputs": [],
   "source": [
    "from sklearn import svm\n",
    "\n",
    "#Create a svm Classifier\n",
    "svm1 = svm.SVC(kernel='rbf') # Linear Kernel\n",
    "\n",
    "#Train the model using the training sets\n",
    "svm1.fit(x_train1, y_train1)\n",
    "\n",
    "#Predict the response for test dataset\n",
    "y_pred1 = svm1.predict(x_test1)\n",
    "\n",
    "print(\"Accuracy:\",metrics.accuracy_score(y_test1, y_pred1)*100)"
   ]
  },
  {
   "cell_type": "code",
   "execution_count": null,
   "id": "5c2ac57b",
   "metadata": {},
   "outputs": [],
   "source": []
  }
 ],
 "metadata": {
  "kernelspec": {
   "display_name": "Python 3 (ipykernel)",
   "language": "python",
   "name": "python3"
  },
  "language_info": {
   "codemirror_mode": {
    "name": "ipython",
    "version": 3
   },
   "file_extension": ".py",
   "mimetype": "text/x-python",
   "name": "python",
   "nbconvert_exporter": "python",
   "pygments_lexer": "ipython3",
   "version": "3.9.7"
  }
 },
 "nbformat": 4,
 "nbformat_minor": 5
}
