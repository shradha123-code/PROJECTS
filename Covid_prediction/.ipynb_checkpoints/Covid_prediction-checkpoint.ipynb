{
 "cells": [
  {
   "cell_type": "code",
   "execution_count": null,
   "metadata": {},
   "outputs": [],
   "source": [
    "import pandas as pd"
   ]
  },
  {
   "cell_type": "code",
   "execution_count": null,
   "metadata": {},
   "outputs": [],
   "source": [
    "#importing Dataset\n",
    "covid1 = pd.read_csv('D:/Desktop/pro/covid.csv')"
   ]
  },
  {
   "cell_type": "code",
   "execution_count": null,
   "metadata": {},
   "outputs": [],
   "source": [
    "#displaying records\n",
    "covid1.head()"
   ]
  },
  {
   "cell_type": "code",
   "execution_count": null,
   "metadata": {},
   "outputs": [],
   "source": [
    "covid1['date']"
   ]
  },
  {
   "cell_type": "code",
   "execution_count": null,
   "metadata": {},
   "outputs": [],
   "source": [
    "covid1.shape\n"
   ]
  },
  {
   "cell_type": "code",
   "execution_count": null,
   "metadata": {},
   "outputs": [],
   "source": [
    "covid1.columns"
   ]
  },
  {
   "cell_type": "code",
   "execution_count": null,
   "metadata": {},
   "outputs": [],
   "source": [
    "#counting the number of locations \n",
    "covid1['location'].value_counts()"
   ]
  },
  {
   "cell_type": "code",
   "execution_count": null,
   "metadata": {},
   "outputs": [],
   "source": [
    "covid1.describe()"
   ]
  },
  {
   "cell_type": "code",
   "execution_count": null,
   "metadata": {},
   "outputs": [],
   "source": [
    "#DESCRIPTION OF CATEGORICAL COLUMNS\n",
    "covid1.describe(include='O')"
   ]
  },
  {
   "cell_type": "code",
   "execution_count": null,
   "metadata": {},
   "outputs": [],
   "source": [
    "##CHECKING IF COLUMNS HAS NULL VALUES\n",
    "covid1.isna().any()"
   ]
  },
  {
   "cell_type": "code",
   "execution_count": null,
   "metadata": {},
   "outputs": [],
   "source": [
    "#GETTING THE SUM OF NULL VALUES ACROSS EACH COLUMN\n",
    "covid1.isna().sum()"
   ]
  },
  {
   "cell_type": "code",
   "execution_count": null,
   "metadata": {},
   "outputs": [],
   "source": [
    "#GETTING THE CASES OF INDIA\n",
    "india_case=covid1[covid1[\"location\"]==\"India\"]"
   ]
  },
  {
   "cell_type": "code",
   "execution_count": null,
   "metadata": {},
   "outputs": [],
   "source": [
    "\n",
    "india_case.shape"
   ]
  },
  {
   "cell_type": "code",
   "execution_count": null,
   "metadata": {},
   "outputs": [],
   "source": [
    "import seaborn as sns\n",
    "import matplotlib.pyplot as plt"
   ]
  },
  {
   "cell_type": "code",
   "execution_count": null,
   "metadata": {},
   "outputs": [],
   "source": [
    "sns.set(rc={'figure.figsize':(10,15)})\n",
    "sns.lineplot(x='date', y='total_cases', data=india_case)\n",
    "plt.show()"
   ]
  },
  {
   "cell_type": "code",
   "execution_count": null,
   "metadata": {},
   "outputs": [],
   "source": [
    "#making a dataframe forlast 5days\n",
    "india_last_5_days=india_case.tail()"
   ]
  },
  {
   "cell_type": "code",
   "execution_count": null,
   "metadata": {},
   "outputs": [],
   "source": [
    "#total cases inlast 5 days\n",
    "sns.set(rc={'figure.figsize':(15,20)})\n",
    "sns.lineplot(x='date', y='total_cases', data=india_last_5_days)\n",
    "plt.show()"
   ]
  },
  {
   "cell_type": "code",
   "execution_count": null,
   "metadata": {},
   "outputs": [],
   "source": [
    "sns.set(rc={'figure.figsize':(15,10)})\n",
    "sns.lineplot(x='date', y='total_tests', data=india_case)\n",
    "plt.show()"
   ]
  },
  {
   "cell_type": "code",
   "execution_count": null,
   "metadata": {},
   "outputs": [],
   "source": [
    "brazil_case=covid1[covid1[\"location\"]==\"Brazil\"]\n",
    "brazil_case.head()\n"
   ]
  },
  {
   "cell_type": "code",
   "execution_count": null,
   "metadata": {},
   "outputs": [],
   "source": [
    "brazil_last_5_days= brazil_case.tail()"
   ]
  },
  {
   "cell_type": "code",
   "execution_count": null,
   "metadata": {},
   "outputs": [],
   "source": [
    "#total cases inlast 5 days\n",
    "sns.set(rc={'figure.figsize':(15,20)})\n",
    "sns.lineplot(x='date', y='total_cases', data=brazil_last_5_days)\n",
    "plt.show()"
   ]
  },
  {
   "cell_type": "code",
   "execution_count": null,
   "metadata": {},
   "outputs": [],
   "source": [
    "#understanding cases of india, china and japan\n",
    "india_china_japan= covid1[(covid1[\"location\"]==\"India\")| (covid1[\"location\"]==\"China\") | (covid1[\"location\"]==\"Japan\")]"
   ]
  },
  {
   "cell_type": "code",
   "execution_count": null,
   "metadata": {},
   "outputs": [],
   "source": [
    "sns.set(rc={'figure.figsize':(15,20)})\n",
    "sns.lineplot(x='location', y='total_cases', data=india_china_japan,hue='date')\n",
    "plt.show()"
   ]
  },
  {
   "cell_type": "code",
   "execution_count": null,
   "metadata": {},
   "outputs": [],
   "source": [
    "#understanding cases of germany and spain\n",
    "germany_spain= covid1[(covid1[\"location\"]==\"Germany\")| (covid1[\"location\"]==\"Spain\")]"
   ]
  },
  {
   "cell_type": "code",
   "execution_count": null,
   "metadata": {},
   "outputs": [],
   "source": [
    "sns.set(rc={'figure.figsize':(15,20)})\n",
    "sns.lineplot(x='location', y='total_cases', data=germany_spain,hue='date')\n",
    "plt.show()"
   ]
  },
  {
   "cell_type": "code",
   "execution_count": null,
   "metadata": {},
   "outputs": [],
   "source": [
    "#getting latest date\n",
    "last_day_cases = covid1[(covid1['date']==\"2020-05-24\")]\n",
    "last_day_cases"
   ]
  },
  {
   "cell_type": "code",
   "execution_count": null,
   "metadata": {},
   "outputs": [],
   "source": [
    "#sorting date wrt total cases\n",
    "max_cases_country=last_day_cases.sort_values(by=\"total_cases\", ascending=False)\n",
    "max_cases_country"
   ]
  },
  {
   "cell_type": "code",
   "execution_count": null,
   "metadata": {},
   "outputs": [],
   "source": [
    "#top 5 countries with max cases\n",
    "max_cases_country[1:6]\n"
   ]
  },
  {
   "cell_type": "code",
   "execution_count": null,
   "metadata": {},
   "outputs": [],
   "source": [
    "#plotting barplot for countries with top cases\n",
    "sns.barplot(x=\"location\", y=\"total_cases\",data=max_cases_country[1:6],hue='location')\n",
    "plt.show()"
   ]
  },
  {
   "cell_type": "code",
   "execution_count": null,
   "metadata": {},
   "outputs": [],
   "source": [
    "india_case.head()"
   ]
  },
  {
   "cell_type": "code",
   "execution_count": null,
   "metadata": {},
   "outputs": [],
   "source": [
    "india_case['date']"
   ]
  },
  {
   "cell_type": "code",
   "execution_count": null,
   "metadata": {},
   "outputs": [],
   "source": [
    "#converting string date to date-time\n",
    "import datetime as dt\n",
    "india_case['date'] =pd.to_datetime(india_case['date'])\n",
    "india_case.head()"
   ]
  },
  {
   "cell_type": "code",
   "execution_count": null,
   "metadata": {},
   "outputs": [],
   "source": [
    "#converting date-time to ordinal\n",
    "import datetime as dt\n",
    "import time\n",
    "india_case['date']= india_case['date'].map(dt.datetime.toordinal)\n",
    "india_case.head()"
   ]
  },
  {
   "cell_type": "code",
   "execution_count": null,
   "metadata": {},
   "outputs": [],
   "source": [
    "#getting dependent and independent variable\n",
    "x= india_case['date']\n",
    "y= india_case['total_cases']\n",
    "y.isna().sum()"
   ]
  },
  {
   "cell_type": "code",
   "execution_count": null,
   "metadata": {},
   "outputs": [],
   "source": [
    "from sklearn.model_selection import train_test_split"
   ]
  },
  {
   "cell_type": "code",
   "execution_count": null,
   "metadata": {},
   "outputs": [],
   "source": [
    "#splitting the dataset into training and testing . trainset = 70% , test size =30%\n",
    "x_train, x_test,y_train, y_test = train_test_split(x,y, test_size=0.3, random_state=0)"
   ]
  },
  {
   "cell_type": "code",
   "execution_count": null,
   "metadata": {},
   "outputs": [],
   "source": [
    "print (x_train.shape)\n",
    "print (x_test.shape)\n",
    "print (y_train.shape)\n",
    "print (y_test.shape)\n",
    "#print(y_pred.shape)\n",
    "x_train"
   ]
  },
  {
   "cell_type": "code",
   "execution_count": null,
   "metadata": {},
   "outputs": [],
   "source": [
    "from sklearn.linear_model import LinearRegression\n",
    "lr =LinearRegression()\n"
   ]
  },
  {
   "cell_type": "code",
   "execution_count": null,
   "metadata": {},
   "outputs": [],
   "source": [
    "import numpy as np\n",
    "lr.fit(np.array(x_train).reshape(1,-1), np.array(y_train).reshape(1,-1))"
   ]
  },
  {
   "cell_type": "code",
   "execution_count": null,
   "metadata": {},
   "outputs": [],
   "source": [
    "import numpy as np\n",
    "xnptrain = np.array(x_train).reshape((329,1))\n",
    "\n",
    "ynptrain = np.array(y_train).reshape((329,1))\n",
    "\n",
    "ynptrain.shape\n"
   ]
  },
  {
   "cell_type": "code",
   "execution_count": null,
   "metadata": {},
   "outputs": [],
   "source": [
    "lr.fit(xnptrain,ynptrain)"
   ]
  },
  {
   "cell_type": "code",
   "execution_count": null,
   "metadata": {},
   "outputs": [],
   "source": [
    "xnptest  = np.array(x_test).reshape((142,1))\n",
    "\n",
    "xnptest.shape\n",
    "\n",
    "ynptest = np.array(y_test).reshape((142,1))\n",
    "\n",
    "ynptest.shape\n",
    "ynptest\n",
    "print(xnptest)"
   ]
  },
  {
   "cell_type": "code",
   "execution_count": null,
   "metadata": {},
   "outputs": [],
   "source": [
    "y_pred = lr.predict(xnptest)\n",
    "print(y_pred)"
   ]
  },
  {
   "cell_type": "code",
   "execution_count": null,
   "metadata": {},
   "outputs": [],
   "source": [
    "from sklearn.metrics import mean_squared_error\n",
    "from sklearn.metrics import accuracy_score\n",
    "from sklearn import metrics"
   ]
  },
  {
   "cell_type": "code",
   "execution_count": null,
   "metadata": {},
   "outputs": [],
   "source": [
    "# calculate MAE, MSE, RMSE\n",
    "print(metrics.mean_absolute_error(ynptest, y_pred))\n",
    "print(metrics.mean_squared_error(ynptest, y_pred))\n",
    "print(np.sqrt(metrics.mean_squared_error(ynptest, y_pred)))"
   ]
  },
  {
   "cell_type": "code",
   "execution_count": null,
   "metadata": {},
   "outputs": [],
   "source": [
    "# print the R-squared value for the model\n",
    "lr.score(ynptest, y_pred)"
   ]
  },
  {
   "cell_type": "code",
   "execution_count": null,
   "metadata": {},
   "outputs": [],
   "source": [
    "plt.scatter(xnptest, ynptest)"
   ]
  },
  {
   "cell_type": "code",
   "execution_count": null,
   "metadata": {},
   "outputs": [],
   "source": [
    "plt.plot(xnptest,y_pred)\n",
    "plt.scatter(xnptest,ynptest) \n",
    "\n",
    "plt.show()"
   ]
  },
  {
   "cell_type": "code",
   "execution_count": null,
   "metadata": {},
   "outputs": [],
   "source": [
    "sns.pairplot(india_case, x_vars=['date'], y_vars='total_cases', size=7, aspect=0.7, kind='reg')"
   ]
  },
  {
   "cell_type": "code",
   "execution_count": null,
   "metadata": {},
   "outputs": [],
   "source": [
    "#splitting the dataset into training and testing . trainset = 70% , test size =30%\n",
    "x_train1, x_test1,y_train1, y_test1 = train_test_split(x,y, test_size=0.3, random_state=0)"
   ]
  },
  {
   "cell_type": "code",
   "execution_count": null,
   "metadata": {},
   "outputs": [],
   "source": [
    "import numpy as np\n",
    "xnptrain1 = np.array(x_train1).reshape((329,1))\n",
    "\n",
    "ynptrain1 = np.array(y_train1).reshape((329,1))\n",
    "\n",
    "ynptrain1.shape\n"
   ]
  },
  {
   "cell_type": "code",
   "execution_count": null,
   "metadata": {},
   "outputs": [],
   "source": [
    "xnptest1  = np.array(x_test1).reshape((142,1))\n",
    "\n",
    "xnptest1.shape\n",
    "\n",
    "ynptest1 = np.array(y_test1).reshape((142,1))\n",
    "\n",
    "ynptest1.shape\n",
    "ynptest1\n",
    "print(xnptest1)"
   ]
  },
  {
   "cell_type": "code",
   "execution_count": null,
   "metadata": {},
   "outputs": [],
   "source": [
    "from sklearn.linear_model import Ridge\n",
    "from sklearn.preprocessing import PolynomialFeatures\n",
    "from sklearn.pipeline import make_pipeline\n",
    "model_scores=[]\n",
    "poly_reg = PolynomialFeatures(degree = 7) \n",
    "\n",
    "poly_reg = make_pipeline(PolynomialFeatures(3), Ridge())\n",
    "poly_reg.fit(xnptrain1,ynptrain1)\n",
    "poly_pred = poly_reg.predict(xnptest1)\n",
    "\n",
    "\n",
    "model_scores.append(np.sqrt(mean_squared_error(ynptest1,poly_pred)))\n",
    "print(\"Root Mean Square Error for Polynomial Regression: \",np.sqrt(mean_squared_error(ynptest1,poly_pred)))"
   ]
  },
  {
   "cell_type": "code",
   "execution_count": null,
   "metadata": {},
   "outputs": [],
   "source": [
    "plt.scatter(xnptest1,poly_pred)\n",
    "plt.scatter(xnptest1,ynptest1) \n",
    "\n",
    "plt.show()"
   ]
  },
  {
   "cell_type": "code",
   "execution_count": null,
   "metadata": {},
   "outputs": [],
   "source": []
  },
  {
   "cell_type": "code",
   "execution_count": null,
   "metadata": {},
   "outputs": [],
   "source": []
  },
  {
   "cell_type": "code",
   "execution_count": null,
   "metadata": {},
   "outputs": [],
   "source": [
    "#splitting the dataset into training and testing . trainset = 70% , test size =30%\n",
    "x_train2, x_test2,y_train2, y_test2 = train_test_split(x,y, test_size=0.3, random_state=0)"
   ]
  },
  {
   "cell_type": "code",
   "execution_count": null,
   "metadata": {},
   "outputs": [],
   "source": [
    "import numpy as np\n",
    "xnptrain2 = np.array(x_train2).reshape((329,1))\n",
    "\n",
    "ynptrain2 = np.array(y_train2).reshape((329,1))\n",
    "\n"
   ]
  },
  {
   "cell_type": "code",
   "execution_count": null,
   "metadata": {},
   "outputs": [],
   "source": [
    "xnptest2  = np.array(x_test2).reshape((142,1))\n",
    "\n",
    "xnptest2.shape\n",
    "\n",
    "ynptest2 = np.array(y_test2).reshape((142,1))\n",
    "\n"
   ]
  },
  {
   "cell_type": "code",
   "execution_count": null,
   "metadata": {},
   "outputs": [],
   "source": [
    "from sklearn.linear_model import Ridge, Lasso\n",
    "from sklearn.preprocessing import PolynomialFeatures\n",
    "from sklearn.pipeline import make_pipeline\n",
    "\n",
    "lasso_reg = Lasso(alpha=.8,normalize=True, max_iter=1e5)\n",
    "\n",
    "poly_reg = make_pipeline(PolynomialFeatures(3), lasso_reg)\n",
    "poly_reg.fit(xnptrain2,ynptrain2)\n",
    "poly_pred1 = poly_reg.predict(xnptest2)\n",
    "\n",
    "\n",
    "model_scores.append(np.sqrt(mean_squared_error(ynptest2,poly_pred1)))\n",
    "print(\"Root Mean Square Error for Linear Regression: \",np.sqrt(mean_squared_error(ynptest2,poly_pred1)))"
   ]
  },
  {
   "cell_type": "code",
   "execution_count": null,
   "metadata": {},
   "outputs": [],
   "source": [
    "plt.scatter(xnptest2,poly_pred1)\n",
    "plt.scatter(xnptest2,ynptest2) \n",
    "\n",
    "plt.show()"
   ]
  }
 ],
 "metadata": {
  "kernelspec": {
   "display_name": "Python 3 (ipykernel)",
   "language": "python",
   "name": "python3"
  },
  "language_info": {
   "codemirror_mode": {
    "name": "ipython",
    "version": 3
   },
   "file_extension": ".py",
   "mimetype": "text/x-python",
   "name": "python",
   "nbconvert_exporter": "python",
   "pygments_lexer": "ipython3",
   "version": "3.9.7"
  }
 },
 "nbformat": 4,
 "nbformat_minor": 2
}
