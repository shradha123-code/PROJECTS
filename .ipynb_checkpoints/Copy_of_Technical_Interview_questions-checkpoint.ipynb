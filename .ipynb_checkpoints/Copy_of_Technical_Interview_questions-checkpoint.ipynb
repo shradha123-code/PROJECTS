{
 "cells": [
  {
   "cell_type": "markdown",
   "metadata": {
    "id": "XX40xs6dwkc7"
   },
   "source": [
    "variableX = np.arange(1,100)\n",
    "\n",
    "What is the output of variableX[::10]?\n",
    "\n",
    "what is the output of variableX[::-1]?\n",
    "\n",
    "What is a decorater? where it's used?\n",
    "\n",
    "\n",
    "Why we need docker and kubernetes?\n"
   ]
  },
  {
   "cell_type": "code",
   "execution_count": null,
   "metadata": {
    "id": "iWocWonxuVzD"
   },
   "outputs": [],
   "source": [
    "import os\n",
    "import matplotlib.pyplot as plt\n",
    "import seaborn as sns\n",
    "import pandas as pd\n",
    "import numpy as np\n",
    "from collections import OrderedDict\n",
    "\n",
    "from sklearn import datasets\n",
    "from sklearn.preprocessing import label_binarize, LabelBinarizer\n",
    "from sklearn.model_selection import train_test_split, GridSearchCV\n",
    "\n",
    "\n",
    "from sklearn.metrics import precision_recall_curve\n",
    "from sklearn.metrics import classification_report\n",
    "from sklearn.metrics import precision_score, recall_score\n",
    "\n",
    "\n",
    "from sklearn.linear_model import LogisticRegression\n",
    "from sklearn.ensemble import GradientBoostingClassifier\n",
    "DISPLAY_PRECISION = 4\n",
    "pd.set_option(\"display.precision\", DISPLAY_PRECISION)"
   ]
  },
  {
   "cell_type": "code",
   "execution_count": null,
   "metadata": {
    "colab": {
     "base_uri": "https://localhost:8080/"
    },
    "id": "F-mCxOs2uaFl",
    "outputId": "9c55cd24-ce20-464a-e7ea-3bbb9650206f"
   },
   "outputs": [],
   "source": [
    "dat = datasets.load_breast_cancer()\n",
    "ad = dat.data\n",
    "print(ad.shape)\n",
    "# print(dat.DESCR)  # detailed description"
   ]
  },
  {
   "cell_type": "code",
   "execution_count": null,
   "metadata": {
    "colab": {
     "base_uri": "https://localhost:8080/"
    },
    "id": "LutAtPgpudQX",
    "outputId": "7e2ca7ab-4a99-4c9f-e8e9-ce0ae34f5260"
   },
   "outputs": [],
   "source": [
    "print(\"The sklearn breast cancer dataset keys:\")\n",
    "print(dat.keys()) # dict_keys(['target_names', 'target', 'feature_names', 'data', 'DESCR'])\n",
    "print(\"---\")\n",
    "\n",
    "# Note that we need to reverse the original '0' and '1' mapping in order to end up with this mapping:\n",
    "# Benign = 0 (negative class)\n",
    "# Malignant = 1 (positive class)\n",
    "\n",
    "li_classes = [dat.target_names[1], dat.target_names[0]]\n",
    "li_target = [1 if x==0 else 0 for x in list(dat.target)]\n",
    "print(len(li_target))\n",
    "li_ftrs = list(dat.feature_names)\n",
    "print(li_ftrs)\n",
    "print(\"There are 2 target classes:\")\n",
    "print(\"li_classes\", li_classes)\n",
    "print(\"---\")\n",
    "print(\"Target class distribution from a total of %d target values:\" % len(li_target))\n",
    "print(pd.Series(li_target).value_counts())\n",
    "print(\"---\")\n",
    "\n",
    "df_all = pd.DataFrame(dat.data[:,:], columns=li_ftrs)\n",
    "print(\"Describe dataframe, first 6 columns:\")\n",
    "print(df_all.iloc[:,:].describe().to_string())"
   ]
  },
  {
   "cell_type": "markdown",
   "metadata": {
    "id": "fN_Ua2qjunzB"
   },
   "source": [
    "# **Question: (2 min)**\n",
    "**1.) What is the most correlated variable to target?**"
   ]
  },
  {
   "cell_type": "code",
   "execution_count": null,
   "metadata": {
    "colab": {
     "base_uri": "https://localhost:8080/"
    },
    "id": "NIcsLOp0ugqN",
    "outputId": "c2afca68-2a46-4411-f0dd-6f7e94e12e25"
   },
   "outputs": [],
   "source": [
    "\n",
    "#df_all.insert(30,'target',li_target)\n",
    "#print(df_all)\n",
    "cmat = df_all.corr().sort_values('target')\n",
    "print(cmat['target'])\n",
    "\n",
    "print('Most correlated is worst concave points')"
   ]
  },
  {
   "cell_type": "code",
   "execution_count": null,
   "metadata": {},
   "outputs": [],
   "source": [
    "import seaborn as sns\n",
    "import matplotlib.pyplot as plt\n",
    "plt.figure(figsize = (25,25))\n",
    "\n",
    "sns.heatmap(df_all.corr(), annot = True)"
   ]
  },
  {
   "cell_type": "markdown",
   "metadata": {
    "id": "LPoKcmHFu2Rb"
   },
   "source": [
    "# **Question: (8 min)**\n",
    "\n",
    "**2.) Of the top five most correlated variable what is the quatitative difference, with standard deviation, between Benign(Negative) and Malignant(Positive)?**"
   ]
  },
  {
   "cell_type": "code",
   "execution_count": null,
   "metadata": {
    "colab": {
     "base_uri": "https://localhost:8080/"
    },
    "id": "cFK33it4uiRa",
    "outputId": "bdabf98d-ad6d-4513-aba0-18de2df69235"
   },
   "outputs": [],
   "source": [
    "#df_all = pd.DataFrame(dat.data[:,:], columns=li_ftrs)\n",
    "#df_all.insert(30,'target',li_target)\n",
    "df_all\n",
    "worst_concave_points_0= []\n",
    "worst_concave_points_1 =[]\n",
    "worst_perimeter_0 =[]\n",
    "worst_perimeter_1 =[]\n",
    "mean_concave_points_0= []\n",
    "mean_concave_points_1 =[]\n",
    "worst_radius_0= []\n",
    "worst_radius_1 =[]\n",
    "mean_perimeter_0= []\n",
    "mean_perimeter_1 =[]\n",
    "for i in range(0, 569):\n",
    "  if df_all['target'][i]==0:\n",
    "    worst_concave_points_0.append(df_all['worst concave points'][i])\n",
    "    worst_perimeter_0.append(df_all['worst perimeter'][i])\n",
    "    mean_concave_points_0.append(df_all['mean concave points'][i])\n",
    "    worst_radius_0.append(df_all['worst radius'][i])\n",
    "    mean_perimeter_0.append(df_all['mean perimeter'][i])\n",
    "  else:\n",
    "    worst_concave_points_1.append(df_all['worst concave points'][i])\n",
    "    worst_perimeter_1.append(df_all['worst perimeter'][i])\n",
    "    mean_concave_points_1.append(df_all['mean concave points'][i])\n",
    "    worst_radius_1.append(df_all['worst radius'][i])\n",
    "    mean_perimeter_1.append(df_all['mean perimeter'][i])\n",
    "worstconcave_points_0 = np.asarray(worst_concave_points_0,dtype=float)\n",
    "worstconcave_points_1 = np.asarray(worst_concave_points_1,dtype=float)\n",
    "\n",
    "worst_perimeter_0 = np.asarray(worst_perimeter_0,dtype=float)\n",
    "worst_perimeter_1 = np.asarray(worst_perimeter_1,dtype=float)\n",
    "\n",
    "mean_concave_points_0 = np.asarray(mean_concave_points_0,dtype=float)\n",
    "mean_concave_points_1 = np.asarray(mean_concave_points_1,dtype=float)\n",
    "\n",
    "worst_radius_0 = np.asarray(worst_radius_0,dtype=float)\n",
    "worst_radius_1 = np.asarray(worst_radius_1,dtype=float)\n",
    "\n",
    "mean_perimeter_0 = np.asarray(mean_perimeter_0,dtype=float)\n",
    "mean_perimeter_1 = np.asarray(mean_perimeter_1,dtype=float)\n",
    "print(worstconcave_points_0.std())\n",
    "print(worstconcave_points_1.std())\n",
    "print(worst_perimeter_0.std())\n",
    "print(worst_perimeter_1.std())\n",
    "print(mean_concave_points_0.std())\n",
    "print(mean_concave_points_1.std())\n",
    "print(worst_radius_0.std())\n",
    "print(worst_radius_1.std())\n",
    "print(mean_perimeter_0.std())\n",
    "print(mean_perimeter_1.std())\n",
    "   \n",
    "          \n",
    "\n",
    "\n",
    "       "
   ]
  },
  {
   "cell_type": "code",
   "execution_count": null,
   "metadata": {
    "id": "m6EwTCjxv6HG"
   },
   "outputs": [],
   "source": [
    "# the std deviation of worst perimeter is influencing the target class 1 more , whereas the std deviation of mean concave points is less for target class 0"
   ]
  },
  {
   "cell_type": "code",
   "execution_count": null,
   "metadata": {
    "colab": {
     "base_uri": "https://localhost:8080/"
    },
    "id": "yo52uH0sYYWC",
    "outputId": "87359936-c760-4d3e-edbf-8ff27f36b637"
   },
   "outputs": [],
   "source": [
    "import numpy as np\n",
    "variableX = np.arange(1,100)\n",
    "x=variableX[::-10]\n",
    "y=variableX[::-1]\n",
    "x"
   ]
  },
  {
   "cell_type": "code",
   "execution_count": null,
   "metadata": {},
   "outputs": [],
   "source": []
  }
 ],
 "metadata": {
  "colab": {
   "provenance": []
  },
  "kernelspec": {
   "display_name": "Python 3 (ipykernel)",
   "language": "python",
   "name": "python3"
  },
  "language_info": {
   "codemirror_mode": {
    "name": "ipython",
    "version": 3
   },
   "file_extension": ".py",
   "mimetype": "text/x-python",
   "name": "python",
   "nbconvert_exporter": "python",
   "pygments_lexer": "ipython3",
   "version": "3.9.7"
  }
 },
 "nbformat": 4,
 "nbformat_minor": 1
}
