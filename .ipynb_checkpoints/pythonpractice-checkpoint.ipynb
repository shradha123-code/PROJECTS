{
 "cells": [
  {
   "cell_type": "code",
   "execution_count": null,
   "id": "ddc37d99",
   "metadata": {},
   "outputs": [],
   "source": [
    "aList = [10, 20, 30, 40, 50, 60, 70, 80]\n",
    "print(aList[2:5])\n",
    "print(aList[:4])\n",
    "print(aList[3:])"
   ]
  },
  {
   "cell_type": "code",
   "execution_count": null,
   "id": "587d62c7",
   "metadata": {},
   "outputs": [],
   "source": [
    "sampleList = [10, 20, 30, 40, 50]\n",
    "sampleList.append(60)\n",
    "print(sampleList)\n",
    "\n",
    "sampleList.append(60)\n",
    "print(sampleList)"
   ]
  },
  {
   "cell_type": "code",
   "execution_count": null,
   "id": "e0e481c2",
   "metadata": {},
   "outputs": [],
   "source": [
    "aList = ['a', 'b', 'c', 'd']\n",
    "\n",
    "newList = aList.copy()\n",
    "newList"
   ]
  },
  {
   "cell_type": "code",
   "execution_count": null,
   "id": "7079404f",
   "metadata": {},
   "outputs": [],
   "source": [
    "aList = [\"PYnative\", [4, 8, 12, 16]]\n",
    "print(aList[0][1])    \n",
    "print(aList[1][3])"
   ]
  },
  {
   "cell_type": "code",
   "execution_count": null,
   "id": "8ad5d156",
   "metadata": {},
   "outputs": [],
   "source": [
    "l = [None] * 10\n",
    "print(len(l))"
   ]
  },
  {
   "cell_type": "code",
   "execution_count": null,
   "id": "3b5f5730",
   "metadata": {},
   "outputs": [],
   "source": [
    "aList = [5, 10, 15, 25]\n",
    "print(aList[::-3])"
   ]
  },
  {
   "cell_type": "code",
   "execution_count": null,
   "id": "75d6aea1",
   "metadata": {},
   "outputs": [],
   "source": [
    "aList = [4, 8, 12, 16]\n",
    "aList[1:2] = [20, 24, 28]\n",
    "print(aList)"
   ]
  },
  {
   "cell_type": "code",
   "execution_count": null,
   "id": "9ce78459",
   "metadata": {},
   "outputs": [],
   "source": [
    "sampleList = [10, 20, 30, 40]\n",
    "del sampleList[0:6]\n",
    "print(sampleList)"
   ]
  },
  {
   "cell_type": "code",
   "execution_count": null,
   "id": "7111430f",
   "metadata": {},
   "outputs": [],
   "source": [
    "aList = [1, 2, 3, 4, 5, 6, 7]\n",
    "pow2 =  [2 * x for x in aList]\n",
    "print(pow2)"
   ]
  },
  {
   "cell_type": "code",
   "execution_count": null,
   "id": "dfb94535",
   "metadata": {},
   "outputs": [],
   "source": [
    "list1 = ['xyz', 'zara', 'PYnative']\n",
    "print (max(list1))"
   ]
  },
  {
   "cell_type": "code",
   "execution_count": null,
   "id": "312414fd",
   "metadata": {},
   "outputs": [],
   "source": [
    "my_list = [\"Hello\", \"Python\"]\n",
    "print(\"-\".join(my_list))"
   ]
  },
  {
   "cell_type": "code",
   "execution_count": null,
   "id": "5637ccff",
   "metadata": {},
   "outputs": [],
   "source": [
    "sampleList = [10, 20, 30, 40, 50]\n",
    "print(sampleList[-2])\n",
    "print(sampleList[-4:-1])"
   ]
  },
  {
   "cell_type": "code",
   "execution_count": null,
   "id": "9c1f096b",
   "metadata": {},
   "outputs": [],
   "source": [
    "sampleList = [10, 20, 30, 40, 50]\n",
    "sampleList.pop()\n",
    "print(sampleList)\n",
    "\n",
    "sampleList.pop(2)\n",
    "print(sampleList)"
   ]
  },
  {
   "cell_type": "code",
   "execution_count": null,
   "id": "cefc6205",
   "metadata": {},
   "outputs": [],
   "source": [
    "resList = [x+y for x in ['Hello ', 'Good '] for y in ['Dear', 'Bye']]\n",
    "print(resList)"
   ]
  },
  {
   "cell_type": "code",
   "execution_count": null,
   "id": "a7b5859a",
   "metadata": {},
   "outputs": [],
   "source": [
    "sample_list = [34, 54, 67, 89, 11, 43, 94]\n",
    "\n",
    "print(\"Original list \", sample_list)\n",
    "element = sample_list.pop(4)\n",
    "print(\"List After removing element at index 4 \", sample_list)\n",
    "\n",
    "sample_list.insert(2, element)\n",
    "print(\"List after Adding element at index 2 \", sample_list)\n",
    "\n",
    "sample_list.append(element)\n",
    "print(\"List after Adding element at last \", sample_list)"
   ]
  },
  {
   "cell_type": "code",
   "execution_count": null,
   "id": "c5c1f30e",
   "metadata": {},
   "outputs": [],
   "source": [
    "sample_list = [11, 45, 8, 11, 23, 45, 23, 45, 89]\n",
    "print(\"Original list \", sample_list)\n",
    "\n",
    "count_dict = dict()\n",
    "for item in sample_list:\n",
    "    if item in count_dict:\n",
    "        count_dict[item] += 1\n",
    "    else:\n",
    "        count_dict[item] = 1\n",
    "\n",
    "print(\"Printing count of each item  \", count_dict)"
   ]
  },
  {
   "cell_type": "code",
   "execution_count": null,
   "id": "b6c00004",
   "metadata": {},
   "outputs": [],
   "source": [
    "sample_list = [11, 45, 8, 11, 23, 45, 23, 45, 89]\n",
    "print(\"Original list \", sample_list)\n",
    "\n",
    "count_dict = dict()\n",
    "for item in sample_list:\n",
    "    if item in count_dict:\n",
    "        count_dict[item] += 1\n",
    "    else:\n",
    "        count_dict[item] = 1\n",
    "\n",
    "print(\"Printing count of each item  \", count_dict)"
   ]
  },
  {
   "cell_type": "code",
   "execution_count": null,
   "id": "d194bb35",
   "metadata": {},
   "outputs": [],
   "source": [
    "def calculation(a, b):\n",
    "    addition = a + b\n",
    "    subtraction = a - b\n",
    "    # return multiple values separated by comma\n",
    "    return addition, subtraction\n",
    "\n",
    "# get result in tuple format\n",
    "res = calculation(40, 10)\n",
    "print(res)"
   ]
  },
  {
   "cell_type": "code",
   "execution_count": null,
   "id": "b49f8682",
   "metadata": {},
   "outputs": [],
   "source": [
    "#count = int(input(\"Enter the count of numbers: \"))\n",
    "i = 0\n",
    "sum = 0\n",
    "for i in range(0, 5):\n",
    "    x = int(input(\"Enter an integer: \"))\n",
    "    sum = sum + x\n",
    "avg = sum/5\n",
    "print(\"The average is: \", avg)"
   ]
  },
  {
   "cell_type": "code",
   "execution_count": null,
   "id": "4254f71d",
   "metadata": {},
   "outputs": [],
   "source": [
    "numbers = [8,3,1,6,2,4,5,9]\n",
    "count = 0\n",
    "odd_list =[]\n",
    "for i in range(len(numbers)):\n",
    "    if(numbers[i]%2!=0):\n",
    "        count = count+1\n",
    "        odd_list.append(numbers[i])\n",
    "print(\"The number of odd numbers in the list are: \", count)\n",
    "print(\"The number of odd numbers in the list are: \", odd_list)"
   ]
  },
  {
   "cell_type": "code",
   "execution_count": null,
   "id": "f149c070",
   "metadata": {},
   "outputs": [],
   "source": [
    "list = [ 'Tech', 404, 3.03, 'Beamers', 33.3 ]\n",
    "print(list[1:3])"
   ]
  },
  {
   "cell_type": "code",
   "execution_count": null,
   "id": "50c9d83b",
   "metadata": {},
   "outputs": [],
   "source": [
    "def f():\n",
    "    pass\n",
    "\n",
    "print(type(f()))"
   ]
  },
  {
   "cell_type": "code",
   "execution_count": null,
   "id": "37d50344",
   "metadata": {},
   "outputs": [],
   "source": [
    "num = '5'*'5'\n"
   ]
  },
  {
   "cell_type": "code",
   "execution_count": null,
   "id": "4c8da8f6",
   "metadata": {},
   "outputs": [],
   "source": [
    "x = True\n",
    "y = False\n",
    "z = False\n",
    "if not x or y:\n",
    "    print(1)\n",
    "elif not x or not y and z:\n",
    "    print(2)\n",
    "elif not x or y or not y and x:\n",
    "    print(3)\n",
    "else:\n",
    "    print(4)"
   ]
  },
  {
   "cell_type": "code",
   "execution_count": null,
   "id": "19182414",
   "metadata": {},
   "outputs": [],
   "source": [
    "print(type(1J))\n"
   ]
  },
  {
   "cell_type": "code",
   "execution_count": null,
   "id": "2a693316",
   "metadata": {},
   "outputs": [],
   "source": [
    "print(3/5)\n"
   ]
  },
  {
   "cell_type": "code",
   "execution_count": null,
   "id": "f442c39a",
   "metadata": {},
   "outputs": [],
   "source": [
    "tinytuple = (123, 'techbeamers')\n",
    "print(tinytuple * 2)"
   ]
  },
  {
   "cell_type": "code",
   "execution_count": null,
   "id": "003aac79",
   "metadata": {},
   "outputs": [],
   "source": [
    "a = [1,2,3,None,(),[]]\n",
    "print(len(a))"
   ]
  },
  {
   "cell_type": "code",
   "execution_count": null,
   "id": "bfa24391",
   "metadata": {},
   "outputs": [],
   "source": [
    "print(abc)\n"
   ]
  },
  {
   "cell_type": "code",
   "execution_count": null,
   "id": "7f5a467d",
   "metadata": {},
   "outputs": [],
   "source": [
    "colors = ['red', 'orange', 'yellow', 'green', 'blue', 'indigo', 'violet']\n",
    "colors[2]"
   ]
  },
  {
   "cell_type": "code",
   "execution_count": null,
   "id": "2d2a248a",
   "metadata": {},
   "outputs": [],
   "source": [
    "pre_code = \"Python\" \n",
    "a = \"Python Quiz\" \n",
    "print(a[2:5]) "
   ]
  },
  {
   "cell_type": "code",
   "execution_count": null,
   "id": "32dedb56",
   "metadata": {},
   "outputs": [],
   "source": [
    "pre_code = \"Python\"\n",
    "for i in range(0,10,3):    \n",
    "    print(i)"
   ]
  },
  {
   "cell_type": "code",
   "execution_count": null,
   "id": "8d339315",
   "metadata": {},
   "outputs": [],
   "source": [
    "pre_code = \"python\" \n",
    "c = 2 ** 3 + 4 * 2 \n",
    "print(c)"
   ]
  },
  {
   "cell_type": "code",
   "execution_count": null,
   "id": "992a74f8",
   "metadata": {},
   "outputs": [],
   "source": [
    "2**3"
   ]
  },
  {
   "cell_type": "code",
   "execution_count": null,
   "id": "ac034cbf",
   "metadata": {},
   "outputs": [],
   "source": [
    "4*2"
   ]
  },
  {
   "cell_type": "code",
   "execution_count": null,
   "id": "9dd28285",
   "metadata": {},
   "outputs": [],
   "source": [
    "x = 'abcd'\n",
    "for i in x:\n",
    "    print(i.upper())"
   ]
  },
  {
   "cell_type": "code",
   "execution_count": null,
   "id": "a224647c",
   "metadata": {},
   "outputs": [],
   "source": [
    "for i in [1, 2, 3, 4][::-1]:\n",
    "    print (i)"
   ]
  },
  {
   "cell_type": "code",
   "execution_count": null,
   "id": "c15dc762",
   "metadata": {},
   "outputs": [],
   "source": [
    "i = 0\n",
    "while i < 5:\n",
    "    print(i)\n",
    "    i += 1\n",
    "    if i == 3:\n",
    "        break\n",
    "else:\n",
    "    print(0)"
   ]
  },
  {
   "cell_type": "code",
   "execution_count": null,
   "id": "ddfd62cd",
   "metadata": {},
   "outputs": [],
   "source": [
    "11**2"
   ]
  },
  {
   "cell_type": "code",
   "execution_count": null,
   "id": "bc23ee26",
   "metadata": {},
   "outputs": [],
   "source": [
    "print(2**3 + (5 + 6)**(1 + 1))"
   ]
  },
  {
   "cell_type": "code",
   "execution_count": null,
   "id": "c918199f",
   "metadata": {},
   "outputs": [],
   "source": [
    "var = 10\n",
    "print(type(var))\n",
    "var = \"Hello\"\n",
    "print(type(var))"
   ]
  },
  {
   "cell_type": "code",
   "execution_count": null,
   "id": "ca5212ca",
   "metadata": {},
   "outputs": [],
   "source": [
    "def solve(a):\n",
    "    a = [1, 3, 5]\n",
    "#a = [2, 4, 6]\n",
    "print(a)\n",
    "#solve(a)\n",
    "#print(a)"
   ]
  },
  {
   "cell_type": "code",
   "execution_count": null,
   "id": "594e900d",
   "metadata": {},
   "outputs": [],
   "source": [
    "50%20"
   ]
  },
  {
   "cell_type": "code",
   "execution_count": null,
   "id": "dc07a796",
   "metadata": {},
   "outputs": [],
   "source": [
    "def solve(a, b):\n",
    "    return b if a == 0 else solve(b % a, a)\n",
    "print(solve(20, 50))\n"
   ]
  },
  {
   "cell_type": "code",
   "execution_count": null,
   "id": "0ccb0d1b",
   "metadata": {},
   "outputs": [],
   "source": [
    "a = [1, 2]\n",
    "print(a * 3)"
   ]
  },
  {
   "cell_type": "code",
   "execution_count": null,
   "id": "e1ef83f9",
   "metadata": {},
   "outputs": [],
   "source": [
    "example = [\"Sunday\", \"Monday\", \"Tuesday\", \"Wednesday\"];\n",
    "del example[2]\n",
    "print(example)"
   ]
  },
  {
   "cell_type": "code",
   "execution_count": null,
   "id": "2c3ec15d",
   "metadata": {},
   "outputs": [],
   "source": [
    "numbers = (4, 7, 19, 2, 89, 45, 72, 22)\n",
    "sorted_numbers = sorted(numbers)\n",
    "print(sorted_numbers)\n"
   ]
  },
  {
   "cell_type": "code",
   "execution_count": null,
   "id": "fd2674a2",
   "metadata": {},
   "outputs": [],
   "source": [
    "numbers = (4, 7, 19, 2, 89, 45, 72, 22)\n",
    "sorted_numbers = sorted(numbers)\n",
    "odd_numbers = [x for x in sorted_numbers if x % 2 != 0]\n",
    "print(odd_numbers)"
   ]
  },
  {
   "cell_type": "code",
   "execution_count": null,
   "id": "a4a4cd3a",
   "metadata": {},
   "outputs": [],
   "source": [
    "#Sets in python store only unique elements within them, without any repetition.\n",
    "s = {1, 2, 3, 3, 2, 4, 5, 5}\n",
    "print(s)"
   ]
  },
  {
   "cell_type": "code",
   "execution_count": null,
   "id": "62aab090",
   "metadata": {},
   "outputs": [],
   "source": [
    "a = [1, 2, 3, 4]\n",
    "b = [3, 4, 5, 6]\n",
    "c = [x for x in a if x not in b]\n",
    "print(c)"
   ]
  },
  {
   "cell_type": "code",
   "execution_count": null,
   "id": "07a4f21f",
   "metadata": {},
   "outputs": [],
   "source": [
    "2 ** 3 + 5 ** 2"
   ]
  },
  {
   "cell_type": "code",
   "execution_count": null,
   "id": "a6ba01d7",
   "metadata": {},
   "outputs": [],
   "source": [
    "list1=[1,2,3,4,5,6,7,8,9]"
   ]
  },
  {
   "cell_type": "code",
   "execution_count": null,
   "id": "7db945ab",
   "metadata": {},
   "outputs": [],
   "source": [
    "list1[4]"
   ]
  },
  {
   "cell_type": "code",
   "execution_count": null,
   "id": "b89563b2",
   "metadata": {},
   "outputs": [],
   "source": [
    " list1[:5]\n"
   ]
  },
  {
   "cell_type": "code",
   "execution_count": null,
   "id": "c605b225",
   "metadata": {},
   "outputs": [],
   "source": [
    "list1=[1,3.4,4,'a','t',4]\n",
    "print((set(list1)))"
   ]
  },
  {
   "cell_type": "code",
   "execution_count": null,
   "id": "2d4b48f3",
   "metadata": {},
   "outputs": [],
   "source": [
    "list1=[9,8,7,6,5,4,3,2,1]\n",
    "list1.pop(4)"
   ]
  },
  {
   "cell_type": "code",
   "execution_count": null,
   "id": "af9ae9ee",
   "metadata": {},
   "outputs": [],
   "source": [
    "list1=['abc','tres','yes']\n",
    "print(list1[0][0])\n",
    "print(list1[0][1])\n",
    "print(list1[0][2])\n",
    "print(list1[1][0])\n",
    "print(list1[1][1])\n",
    "print(list1[1][2])\n",
    "print(list1[1][3])\n",
    "print(list1[2][1])\n",
    "print(list1[2][2])\n",
    "\n"
   ]
  },
  {
   "cell_type": "code",
   "execution_count": null,
   "id": "def25410",
   "metadata": {},
   "outputs": [],
   "source": [
    "list1=['abc','rt',0,4,5.7]\n",
    "\n",
    "list2=[i for i in list1 if i]\n",
    "\n",
    "list2"
   ]
  },
  {
   "cell_type": "code",
   "execution_count": null,
   "id": "f45a4fdd",
   "metadata": {},
   "outputs": [],
   "source": [
    "if('P' in 'Python'):\n",
    "    print('P is present',end=\" \")\n",
    "else:\n",
    "    print('Not present')"
   ]
  },
  {
   "cell_type": "code",
   "execution_count": null,
   "id": "fcc51a79",
   "metadata": {},
   "outputs": [],
   "source": [
    "no=5\n",
    "if(no%2==0):\n",
    "    print('Even Number')\n",
    "    #else(no%2==1):\n",
    "else:\n",
    "        print('odd Number')"
   ]
  },
  {
   "cell_type": "code",
   "execution_count": null,
   "id": "1f1c1747",
   "metadata": {},
   "outputs": [],
   "source": [
    "class MathUtils:\n",
    "\n",
    "    @staticmethod\n",
    "    def average(a, b):\n",
    "        return a + b / 2\n",
    "\n",
    "print(MathUtils.average(2, 1))"
   ]
  },
  {
   "cell_type": "code",
   "execution_count": null,
   "id": "42f4cdd3",
   "metadata": {},
   "outputs": [],
   "source": [
    "def unique_names(names1, names2):\n",
    "    return None\n",
    "\n",
    "if __name__ == \"__main__\":\n",
    "    names1 = [\"Ava\", \"Emma\", \"Olivia\"]\n",
    "    names2 = [\"Olivia\", \"Sophia\", \"Emma\"]\n",
    "    for i in names1:\n",
    "        if (names1[i]==names2[i]):\n",
    "            print(unique_names(names1, names2))"
   ]
  },
  {
   "cell_type": "code",
   "execution_count": null,
   "id": "f1e7579d",
   "metadata": {},
   "outputs": [],
   "source": [
    "s1= 'a'\n",
    "s2='b'\n",
    "s3= s1+s2\n",
    "s3\n"
   ]
  },
  {
   "cell_type": "code",
   "execution_count": null,
   "id": "4af7e0f8",
   "metadata": {},
   "outputs": [],
   "source": [
    "mystr = \"codescracker\"\n",
    "print(type(mystr))"
   ]
  },
  {
   "cell_type": "code",
   "execution_count": null,
   "id": "859eb8e3",
   "metadata": {},
   "outputs": [],
   "source": [
    "mystr = \"codescracker\"\n",
    "print(mystr.replace(\"c\", \"x\"))"
   ]
  },
  {
   "cell_type": "code",
   "execution_count": null,
   "id": "d45d221b",
   "metadata": {},
   "outputs": [],
   "source": [
    "mystr[3]"
   ]
  },
  {
   "cell_type": "code",
   "execution_count": null,
   "id": "366341c5",
   "metadata": {},
   "outputs": [],
   "source": [
    "print(0.1 + 0.2 == 0.3)\n"
   ]
  },
  {
   "cell_type": "code",
   "execution_count": null,
   "id": "c223edae",
   "metadata": {},
   "outputs": [],
   "source": [
    "mylist = ['c', 'o', 'd', 'e', 's']\n",
    "print(len(mylist))"
   ]
  },
  {
   "cell_type": "code",
   "execution_count": null,
   "id": "d4707e04",
   "metadata": {},
   "outputs": [],
   "source": [
    "mylist = [10, 20, 5, 30, 15]\n",
    "print(max(mylist))"
   ]
  },
  {
   "cell_type": "code",
   "execution_count": null,
   "id": "e9428ada",
   "metadata": {},
   "outputs": [],
   "source": [
    "mylist = [10, 20, 5, 30, 15]\n",
    "print(sum mylist)"
   ]
  },
  {
   "cell_type": "code",
   "execution_count": null,
   "id": "eab6a9ea",
   "metadata": {},
   "outputs": [],
   "source": [
    "mylist = [4, 2, 2, 4, 5, 2, 564, 0]"
   ]
  },
  {
   "cell_type": "code",
   "execution_count": null,
   "id": "8c562446",
   "metadata": {},
   "outputs": [],
   "source": [
    "print(mylist[:5])"
   ]
  },
  {
   "cell_type": "code",
   "execution_count": null,
   "id": "db9b29ec",
   "metadata": {},
   "outputs": [],
   "source": [
    "print(mylist[:-1])"
   ]
  },
  {
   "cell_type": "code",
   "execution_count": null,
   "id": "d43e0191",
   "metadata": {},
   "outputs": [],
   "source": [
    "mylist = [10, 20, 5, 30, 15]\n",
    "print(mylist[-2])"
   ]
  },
  {
   "cell_type": "code",
   "execution_count": null,
   "id": "a04b9b9c",
   "metadata": {},
   "outputs": [],
   "source": [
    "mylist = [0.5 * x for x in range(0, 4)]\n",
    "print(mylist)"
   ]
  },
  {
   "cell_type": "code",
   "execution_count": null,
   "id": "70f0454c",
   "metadata": {},
   "outputs": [],
   "source": [
    "mylist = [3, 4, 5, 20, 5]\n",
    "print(mylist.index(5))"
   ]
  },
  {
   "cell_type": "code",
   "execution_count": null,
   "id": "97b91419",
   "metadata": {},
   "outputs": [],
   "source": [
    "mylist = [3, 4, 5, 20, 5, 25, 565, 3]\n",
    "print(mylist.count(5))"
   ]
  },
  {
   "cell_type": "code",
   "execution_count": null,
   "id": "0cecdd84",
   "metadata": {},
   "outputs": [],
   "source": [
    "mylist = [3, 4, 5, 20, 5, 25, 565, 3]\n",
    "mylist.reverse()\n",
    "print(mylist)"
   ]
  },
  {
   "cell_type": "code",
   "execution_count": null,
   "id": "3c8238d8",
   "metadata": {},
   "outputs": [],
   "source": [
    "mylist = [3, 4, 5, 20, 5, 25, 565, 3]\n",
    "mylist.extend([34, 5])\n",
    "print(mylist)"
   ]
  },
  {
   "cell_type": "code",
   "execution_count": null,
   "id": "02404dff",
   "metadata": {},
   "outputs": [],
   "source": [
    "mylist = [3, 4, 5, 20, 5, 25, 565, 3]\n",
    "print(mylist.pop(1))\n"
   ]
  },
  {
   "cell_type": "code",
   "execution_count": null,
   "id": "dd661d2d",
   "metadata": {},
   "outputs": [],
   "source": [
    "mylist = [3, 4, 5, 20, 5, 25, 565, 3]\n",
    "mylist.pop()\n",
    "print(mylist)"
   ]
  },
  {
   "cell_type": "code",
   "execution_count": null,
   "id": "f35192bc",
   "metadata": {},
   "outputs": [],
   "source": [
    "list_1 = [ 3, 5, 7, 3, 9, 3 ]   \n",
    "print(list_1)  \n",
    "list_1.remove(3)   \n",
    "print(\"After removal: \", list_1)  "
   ]
  },
  {
   "cell_type": "code",
   "execution_count": null,
   "id": "a3432d7e",
   "metadata": {},
   "outputs": [],
   "source": [
    "str = \"Rohan\"  \n",
    "str2 = \"ab\"  \n",
    "# Calling function    \n",
    "str2 = str.join(str2)    \n",
    "# Displaying result    \n",
    "print(str2)  "
   ]
  },
  {
   "cell_type": "code",
   "execution_count": null,
   "id": "915a31b5",
   "metadata": {},
   "outputs": [],
   "source": [
    "list = [2,4,6,7,3,4]  \n",
    "print(5 in list) # False  \n",
    "cities = (\"india\",\"delhi\")  \n",
    "print(\"tokyo\"  in cities) #True  "
   ]
  },
  {
   "cell_type": "code",
   "execution_count": null,
   "id": "a16f088c",
   "metadata": {},
   "outputs": [],
   "source": [
    "import numpy as np\n",
    "arr = np.arange(10)\n",
    "arr"
   ]
  },
  {
   "cell_type": "code",
   "execution_count": null,
   "id": "90b353d3",
   "metadata": {},
   "outputs": [],
   "source": [
    "for i in arr:\n",
    "    if(arr[i]%2==1):\n",
    "        print(arr[i])"
   ]
  },
  {
   "cell_type": "code",
   "execution_count": null,
   "id": "0a370096",
   "metadata": {},
   "outputs": [],
   "source": [
    "import pandas as pd\n",
    "\n",
    "\n",
    "def sum(x, y, z):\n",
    "    return x + y + z\n",
    "\n",
    "\n",
    "df = pd.DataFrame({'A': [1, 2], 'B': [10, 20]})\n",
    "\n",
    "df1 = df.apply(sum, args=(1, 2))\n",
    "print(df1)"
   ]
  },
  {
   "cell_type": "code",
   "execution_count": null,
   "id": "d49944e5",
   "metadata": {},
   "outputs": [],
   "source": [
    "df"
   ]
  },
  {
   "cell_type": "code",
   "execution_count": 2,
   "id": "7b4371e8",
   "metadata": {},
   "outputs": [
    {
     "name": "stdout",
     "output_type": "stream",
     "text": [
      "68\n"
     ]
    }
   ],
   "source": [
    "st = 'Print every word in this sentence that has an even number of letters'\n",
    "print(len(st))"
   ]
  },
  {
   "cell_type": "code",
   "execution_count": 3,
   "id": "96d15664",
   "metadata": {},
   "outputs": [
    {
     "name": "stdout",
     "output_type": "stream",
     "text": [
      "even word\n",
      "even in\n",
      "even this\n",
      "even sentence\n",
      "even that\n",
      "even an\n",
      "even even\n",
      "even number\n",
      "even of\n"
     ]
    }
   ],
   "source": [
    "for word in st.split():\n",
    "    if len(word)%2==0:\n",
    "        print(\"even\", word)"
   ]
  },
  {
   "cell_type": "code",
   "execution_count": 4,
   "id": "19aacf58",
   "metadata": {},
   "outputs": [],
   "source": [
    "st = 'Create a list of the first letters of every word in this string'\n",
    "#Use a List Comprehension to create a list of the first letters of every word in the string below:\n"
   ]
  },
  {
   "cell_type": "code",
   "execution_count": 6,
   "id": "a4a340ef",
   "metadata": {},
   "outputs": [
    {
     "data": {
      "text/plain": [
       "['C', 'a', 'l', 'o', 't', 'f', 'l', 'o', 'e', 'w', 'i', 't', 's']"
      ]
     },
     "execution_count": 6,
     "metadata": {},
     "output_type": "execute_result"
    }
   ],
   "source": [
    "[word[0] for word in st.split()]"
   ]
  },
  {
   "cell_type": "code",
   "execution_count": null,
   "id": "ab10e01d",
   "metadata": {},
   "outputs": [],
   "source": [
    "#LESSER OF TWO EVENS: Write a function that returns the lesser of two given numbers if both numbers are even, but returns the greater if one or both numbers are odd\n",
    "lesser_of_two_evens(2,4) --> 2\n",
    "lesser_of_two_evens(2,5) --> 5"
   ]
  },
  {
   "cell_type": "code",
   "execution_count": 11,
   "id": "74ec4c01",
   "metadata": {},
   "outputs": [],
   "source": [
    "def lesser_of_two_evens(a,b):\n",
    "    if(a%2==0 and b%2==0):\n",
    "        if(a<b):\n",
    "            print(a)\n",
    "        else:\n",
    "            print(b)\n",
    "        "
   ]
  },
  {
   "cell_type": "code",
   "execution_count": 14,
   "id": "08e08741",
   "metadata": {},
   "outputs": [
    {
     "data": {
      "text/plain": [
       "2"
      ]
     },
     "execution_count": 14,
     "metadata": {},
     "output_type": "execute_result"
    }
   ],
   "source": [
    "lesser_of_two_evens(2,4)"
   ]
  },
  {
   "cell_type": "code",
   "execution_count": 13,
   "id": "7b95a4ba",
   "metadata": {},
   "outputs": [],
   "source": [
    "def lesser_of_two_evens(a,b):\n",
    "    if a%2 == 0 and b%2 == 0:\n",
    "        return min(a,b)\n",
    "    else:\n",
    "        return max(a,b)"
   ]
  },
  {
   "cell_type": "code",
   "execution_count": 15,
   "id": "f5ab8225",
   "metadata": {},
   "outputs": [
    {
     "data": {
      "text/plain": [
       "5"
      ]
     },
     "execution_count": 15,
     "metadata": {},
     "output_type": "execute_result"
    }
   ],
   "source": [
    "lesser_of_two_evens(5,4)"
   ]
  },
  {
   "cell_type": "code",
   "execution_count": null,
   "id": "3506efdc",
   "metadata": {},
   "outputs": [],
   "source": [
    "'''ANIMAL CRACKERS: Write a function takes a two-word string and returns True if both words begin with same letter\n",
    "animal_crackers('Levelheaded Llama') --> True\n",
    "animal_crackers('Crazy Kangaroo') --> False'''"
   ]
  },
  {
   "cell_type": "code",
   "execution_count": 38,
   "id": "c9914569",
   "metadata": {},
   "outputs": [],
   "source": [
    "def animal_crackers(text):\n",
    "    word = text.split()\n",
    "    if(word[0][0]==word[1][0]):\n",
    "        print(\"true\")\n",
    "    else:\n",
    "        print(\"false\")\n",
    "        "
   ]
  },
  {
   "cell_type": "code",
   "execution_count": 37,
   "id": "360d1ebb",
   "metadata": {},
   "outputs": [
    {
     "name": "stdout",
     "output_type": "stream",
     "text": [
      "true\n"
     ]
    }
   ],
   "source": [
    "animal_crackers('Levelheaded Llama')"
   ]
  },
  {
   "cell_type": "code",
   "execution_count": 39,
   "id": "4a4fcbef",
   "metadata": {},
   "outputs": [
    {
     "name": "stdout",
     "output_type": "stream",
     "text": [
      "false\n"
     ]
    }
   ],
   "source": [
    "animal_crackers('Crazy Kangaroo')"
   ]
  },
  {
   "cell_type": "code",
   "execution_count": null,
   "id": "57b3171d",
   "metadata": {},
   "outputs": [],
   "source": [
    "'''MAKES TWENTY: Given two integers, return True if the sum of the integers is 20 or if one of the integers is 20. If not, return False\n",
    "makes_twenty(20,10) --> True\n",
    "makes_twenty(12,8) --> True\n",
    "makes_twenty(2,3) --> False'''"
   ]
  },
  {
   "cell_type": "code",
   "execution_count": 69,
   "id": "9746b94f",
   "metadata": {},
   "outputs": [],
   "source": [
    "def makes_twenty(a,b):\n",
    "    if(a+b==20 or (a==20) or (b==20)):\n",
    "        print(\"true\")\n",
    "    else:\n",
    "        print(\"false\")"
   ]
  },
  {
   "cell_type": "code",
   "execution_count": 71,
   "id": "7457590b",
   "metadata": {},
   "outputs": [
    {
     "name": "stdout",
     "output_type": "stream",
     "text": [
      "false\n"
     ]
    }
   ],
   "source": [
    "makes_twenty(2,8)"
   ]
  },
  {
   "cell_type": "code",
   "execution_count": null,
   "id": "43c0f671",
   "metadata": {},
   "outputs": [],
   "source": [
    "'''ALMOST THERE: Given an integer n, return True if n is within 10 of either 100 or 200\n",
    "almost_there(90) --> True\n",
    "almost_there(104) --> True\n",
    "almost_there(150) --> False\n",
    "almost_there(209) --> True\n",
    "'''"
   ]
  },
  {
   "cell_type": "code",
   "execution_count": 79,
   "id": "9a1e505b",
   "metadata": {},
   "outputs": [],
   "source": [
    "def old_macdonald(name):\n",
    "    if len(name) > 3:\n",
    "        return name[0].capitalize() + name[3].capitalize()\n",
    "    else:\n",
    "        return 'Name is too short!'"
   ]
  },
  {
   "cell_type": "code",
   "execution_count": 80,
   "id": "14f3bf0a",
   "metadata": {},
   "outputs": [
    {
     "data": {
      "text/plain": [
       "'MD'"
      ]
     },
     "execution_count": 80,
     "metadata": {},
     "output_type": "execute_result"
    }
   ],
   "source": [
    "old_macdonald('macdonald')\n"
   ]
  },
  {
   "cell_type": "code",
   "execution_count": 78,
   "id": "17f9fdad",
   "metadata": {},
   "outputs": [
    {
     "data": {
      "text/plain": [
       "'d'"
      ]
     },
     "execution_count": 78,
     "metadata": {},
     "output_type": "execute_result"
    }
   ],
   "source": [
    "name='macdonald'\n",
    "name[3]"
   ]
  },
  {
   "cell_type": "code",
   "execution_count": null,
   "id": "81d48fd3",
   "metadata": {},
   "outputs": [],
   "source": [
    "def has_33(nums):\n",
    "    for i in range(0, len(nums)-1):\n",
    "      \n",
    "        # nicer looking alternative in commented code\n",
    "        #if nums[i] == 3 and nums[i+1] == 3:\n",
    "    \n",
    "        if nums[i:i+2] == [3,3]:\n",
    "            return True  \n",
    "    \n",
    "    return False"
   ]
  },
  {
   "cell_type": "code",
   "execution_count": 83,
   "id": "79ef9e90",
   "metadata": {},
   "outputs": [],
   "source": [
    "def has_33(nums):\n",
    "    for i in range(0, len(nums)-1):\n",
    "        if nums[i] == 3 and nums[i+1] == 3:\n",
    "            return True  \n",
    "    return False"
   ]
  },
  {
   "cell_type": "code",
   "execution_count": 84,
   "id": "1690c1b6",
   "metadata": {},
   "outputs": [
    {
     "data": {
      "text/plain": [
       "True"
      ]
     },
     "execution_count": 84,
     "metadata": {},
     "output_type": "execute_result"
    }
   ],
   "source": [
    "has_33([1, 3, 3])"
   ]
  },
  {
   "cell_type": "code",
   "execution_count": null,
   "id": "55706a1c",
   "metadata": {},
   "outputs": [],
   "source": [
    "'''BLACKJACK: Given three integers between 1 and 11, if their sum is less than or equal to 21, return their sum. If their sum exceeds 21 and there's an eleven, reduce the total sum by 10. Finally, if the sum (even after adjustment) exceeds 21, return 'BUST'\n",
    "blackjack(5,6,7) --> 18\n",
    "blackjack(9,9,9) --> 'BUST'\n",
    "blackjack(9,9,11) --> 19'''"
   ]
  },
  {
   "cell_type": "code",
   "execution_count": 111,
   "id": "35c06644",
   "metadata": {},
   "outputs": [],
   "source": [
    "def blackjack(a,b,c):\n",
    "    if(a+b+c<=21):\n",
    "        print(a+b+c)\n",
    "    elif (a+b+c>21 and (a==11) or (b==11) or (c==11)):\n",
    "        print(((a+b+c)-10))\n",
    "    else:\n",
    "        print(\"bust\")\n",
    "            \n",
    "            \n",
    "            \n",
    "    "
   ]
  },
  {
   "cell_type": "code",
   "execution_count": 112,
   "id": "aeb94a20",
   "metadata": {},
   "outputs": [
    {
     "name": "stdout",
     "output_type": "stream",
     "text": [
      "bust\n"
     ]
    }
   ],
   "source": [
    "blackjack(9,9,9)"
   ]
  },
  {
   "cell_type": "code",
   "execution_count": 110,
   "id": "892d47d0",
   "metadata": {},
   "outputs": [
    {
     "name": "stdout",
     "output_type": "stream",
     "text": [
      "19\n"
     ]
    }
   ],
   "source": [
    "blackjack(9,9,11)"
   ]
  },
  {
   "cell_type": "code",
   "execution_count": 118,
   "id": "4c4a3176",
   "metadata": {},
   "outputs": [
    {
     "name": "stdout",
     "output_type": "stream",
     "text": [
      "Enter number:3\n",
      "1 1 1\n"
     ]
    }
   ],
   "source": [
    "#fibonacci\n",
    "n=int(input(\"Enter number:\"))\n",
    "a = 0\n",
    "b = 1\n",
    "if n < 0: \n",
    "    print(\"Incorrect input\") \n",
    "elif n == 0: \n",
    "    print(a)\n",
    "elif n == 1: \n",
    "    print(a) \n",
    "else: \n",
    "    for i in range(2,n): \n",
    "        c = a + b \n",
    "        a = b \n",
    "        b = c \n",
    "    print(a,b,c)   "
   ]
  },
  {
   "cell_type": "code",
   "execution_count": 119,
   "id": "91c846e5",
   "metadata": {},
   "outputs": [
    {
     "ename": "SyntaxError",
     "evalue": "EOL while scanning string literal (80193198.py, line 3)",
     "output_type": "error",
     "traceback": [
      "\u001b[1;36m  Cell \u001b[1;32mIn [119], line 3\u001b[1;36m\u001b[0m\n\u001b[1;33m    ''''The function will have an input of a string, and output a list of integers.\u001b[0m\n\u001b[1;37m                                                                                   \n^\u001b[0m\n\u001b[1;31mSyntaxError\u001b[0m\u001b[1;31m:\u001b[0m EOL while scanning string literal\n"
     ]
    }
   ],
   "source": [
    "''''Use map() to create a function which finds the length of each word in the phrase (broken by spaces) and return the values in a list.\n",
    "\n",
    "''''The function will have an input of a string, and output a list of integers.\n"
   ]
  },
  {
   "cell_type": "code",
   "execution_count": 124,
   "id": "c19cb047",
   "metadata": {},
   "outputs": [],
   "source": [
    "def word_lengths(phrase):\n",
    "    \n",
    "    return list(map(len, phrase.split()))"
   ]
  },
  {
   "cell_type": "code",
   "execution_count": 125,
   "id": "9071fdfc",
   "metadata": {},
   "outputs": [
    {
     "data": {
      "text/plain": [
       "[3, 4, 3, 3, 5, 2, 4, 6]"
      ]
     },
     "execution_count": 125,
     "metadata": {},
     "output_type": "execute_result"
    }
   ],
   "source": [
    "word_lengths('How long are the words in this phrase')\n"
   ]
  },
  {
   "cell_type": "code",
   "execution_count": 126,
   "id": "190480da",
   "metadata": {},
   "outputs": [],
   "source": [
    "def fahrenheit(celsius):\n",
    "    return (9/5)*celsius + 32\n",
    "    \n",
    "temps = [0, 22.5, 40, 100]"
   ]
  },
  {
   "cell_type": "code",
   "execution_count": 129,
   "id": "91bad12d",
   "metadata": {},
   "outputs": [
    {
     "data": {
      "text/plain": [
       "104.0"
      ]
     },
     "execution_count": 129,
     "metadata": {},
     "output_type": "execute_result"
    }
   ],
   "source": [
    "fahrenheit(40)"
   ]
  },
  {
   "cell_type": "code",
   "execution_count": 130,
   "id": "62b5b1ae",
   "metadata": {},
   "outputs": [
    {
     "data": {
      "text/plain": [
       "[32.0, 72.5, 104.0, 212.0]"
      ]
     },
     "execution_count": 130,
     "metadata": {},
     "output_type": "execute_result"
    }
   ],
   "source": [
    "F_temps = map(fahrenheit, temps)\n",
    "\n",
    "#Show\n",
    "list(F_temps)"
   ]
  },
  {
   "cell_type": "code",
   "execution_count": 134,
   "id": "f262ba55",
   "metadata": {},
   "outputs": [
    {
     "name": "stdout",
     "output_type": "stream",
     "text": [
      "Red\n",
      "Blue\n"
     ]
    }
   ],
   "source": [
    "x = [\"Red\",\"Green\",\"Blue\"]  \n",
    "for i in x:\n",
    "    if i == \"Green\":\n",
    "        continue\n",
    "    print(i) "
   ]
  },
  {
   "cell_type": "code",
   "execution_count": null,
   "id": "295c1401",
   "metadata": {},
   "outputs": [],
   "source": [
    "#Write a Python program that returns true if the two given integer values are equal or their sum or difference is 5. \n"
   ]
  },
  {
   "cell_type": "code",
   "execution_count": 140,
   "id": "e5aa0a6d",
   "metadata": {},
   "outputs": [],
   "source": [
    "def eq(a,b):\n",
    "    if(a==b or a+b==5 or a-b==5):\n",
    "        return True  \n",
    "    else:\n",
    "        return False"
   ]
  },
  {
   "cell_type": "code",
   "execution_count": 141,
   "id": "672f972c",
   "metadata": {},
   "outputs": [
    {
     "data": {
      "text/plain": [
       "False"
      ]
     },
     "execution_count": 141,
     "metadata": {},
     "output_type": "execute_result"
    }
   ],
   "source": [
    "eq(2,4)"
   ]
  },
  {
   "cell_type": "code",
   "execution_count": 142,
   "id": "2d75b592",
   "metadata": {},
   "outputs": [
    {
     "name": "stdout",
     "output_type": "stream",
     "text": [
      "Original string:\n",
      "The quick brown fox jumps over the lazy dog.\n",
      "Number of occurrence of 'o' in the said string:\n",
      "4\n"
     ]
    }
   ],
   "source": [
    "s = \"The quick brown fox jumps over the lazy dog.\"  \n",
    "print(\"Original string:\")\n",
    "print(s)\n",
    "print(\"Number of occurrence of 'o' in the said string:\")\n",
    "ctr = 0 \n",
    "for c in s:\n",
    "   if c == 'o':\n",
    "       ctr = ctr + 1\n",
    "print(ctr)"
   ]
  },
  {
   "cell_type": "code",
   "execution_count": 144,
   "id": "eb71c394",
   "metadata": {},
   "outputs": [
    {
     "name": "stdout",
     "output_type": "stream",
     "text": [
      "14\n"
     ]
    }
   ],
   "source": [
    "#sum all the items in a lis\n",
    "li=[2,3,4,5]\n",
    "total=0\n",
    "for i in li:\n",
    "    total=total+i\n",
    "print(total)\n",
    "    "
   ]
  },
  {
   "cell_type": "code",
   "execution_count": 147,
   "id": "79e87adb",
   "metadata": {},
   "outputs": [
    {
     "name": "stdout",
     "output_type": "stream",
     "text": [
      "9\n"
     ]
    }
   ],
   "source": [
    "#largest number from a list\n",
    "li=[2,7,9,4]\n",
    "max=li[0]\n",
    "for i in li:\n",
    "    if i>max:\n",
    "        max=i\n",
    "print(max)\n",
    "    "
   ]
  },
  {
   "cell_type": "code",
   "execution_count": 148,
   "id": "541c7ba3",
   "metadata": {},
   "outputs": [
    {
     "name": "stdout",
     "output_type": "stream",
     "text": [
      "[1]\n",
      "[1, 2]\n",
      "[1, 2, 3]\n",
      "[1, 2, 3, 4]\n",
      "[1, 2, 3, 4, 5]\n",
      "[1, 2, 3, 4, 5, 6]\n",
      "[1, 2, 3, 4, 5, 6, 7]\n",
      "[1, 2, 3, 4, 5, 6, 7, 8]\n"
     ]
    }
   ],
   "source": [
    "# frequency of elements in a list\n",
    "li =[2,3,2,2,3,4,5,5]\n",
    "lis=[]\n",
    "ct=0\n",
    "for i in li:\n",
    "    if i in li:\n",
    "        ct=ct+1\n",
    "        lis.append(ct)\n",
    "    print(lis)    \n",
    "        "
   ]
  },
  {
   "cell_type": "code",
   "execution_count": 149,
   "id": "2e0a173c",
   "metadata": {},
   "outputs": [
    {
     "name": "stdout",
     "output_type": "stream",
     "text": [
      "2\n",
      "5\n"
     ]
    }
   ],
   "source": [
    "# find common items in two lists\n",
    "li =[2,3,4,5]\n",
    "lis=[2,5,6,7]\n",
    "for i in li:\n",
    "    if i in lis:\n",
    "        print(i)"
   ]
  },
  {
   "cell_type": "code",
   "execution_count": 163,
   "id": "9d2a75b8",
   "metadata": {},
   "outputs": [],
   "source": [
    "#Write a Python program to print a specified list after removing the 0th, 4th and 5th elements. Go to the editor\n",
    "Sample_list=['Red', 'Green', 'White', 'Black', 'Pink', 'Yellow']\n"
   ]
  },
  {
   "cell_type": "code",
   "execution_count": 166,
   "id": "dba2dd3e",
   "metadata": {},
   "outputs": [
    {
     "data": {
      "text/plain": [
       "['Green', 'White', 'Black']"
      ]
     },
     "execution_count": 166,
     "metadata": {},
     "output_type": "execute_result"
    }
   ],
   "source": [
    "Sample_list"
   ]
  },
  {
   "cell_type": "code",
   "execution_count": 165,
   "id": "59ee8d6c",
   "metadata": {},
   "outputs": [],
   "source": [
    "Sample_list.pop()\n",
    "del Sample_list[0]\n",
    "del Sample_list[3]\n",
    "#print(Sample_list)"
   ]
  },
  {
   "cell_type": "code",
   "execution_count": 170,
   "id": "2d077ed1",
   "metadata": {},
   "outputs": [
    {
     "name": "stdout",
     "output_type": "stream",
     "text": [
      "[5, 7]\n"
     ]
    }
   ],
   "source": [
    "li =[2,5,6,7]\n",
    "for i in li:\n",
    "    if i%2==0:\n",
    "        li.remove(i)\n",
    "print(li)\n",
    "        \n",
    "        "
   ]
  },
  {
   "cell_type": "code",
   "execution_count": 171,
   "id": "721975a1",
   "metadata": {},
   "outputs": [
    {
     "name": "stdout",
     "output_type": "stream",
     "text": [
      "10\n",
      "30\n",
      "50\n",
      "60\n"
     ]
    }
   ],
   "source": [
    "my_list = [10, 20, 30, 40, 20, 50, 60, 40]\n",
    "for i in my_list:\n",
    "    if my_list.count(i)==1:\n",
    "        print(i)\n",
    "        "
   ]
  },
  {
   "cell_type": "code",
   "execution_count": 181,
   "id": "44826b2b",
   "metadata": {},
   "outputs": [
    {
     "name": "stdout",
     "output_type": "stream",
     "text": [
      "2 7\n"
     ]
    }
   ],
   "source": [
    "#hat accepts a string and calculates the number of digits and letters\n",
    "mystring= 'shradha 23'\n",
    "ct=0\n",
    "ct1=0\n",
    "for i in mystring:\n",
    "    if(i.isdigit()):\n",
    "        ct= ct+1\n",
    "    elif(i.isalpha()):\n",
    "        ct1=ct1+1\n",
    "print(ct,ct1)"
   ]
  },
  {
   "cell_type": "code",
   "execution_count": 182,
   "id": "5df16e0a",
   "metadata": {},
   "outputs": [
    {
     "name": "stdout",
     "output_type": "stream",
     "text": [
      "{'the': 2, 'quick': 1, 'brown': 1, 'fox': 1, 'jumps': 1, 'over': 1, 'lazy': 1, 'dog.': 1}\n"
     ]
    }
   ],
   "source": [
    "def word_count(str):\n",
    "    counts = dict()\n",
    "    words = str.split()\n",
    "\n",
    "    for word in words:\n",
    "        if word in counts:\n",
    "            counts[word] += 1\n",
    "        else:\n",
    "            counts[word] = 1\n",
    "\n",
    "    return counts\n",
    "\n",
    "print( word_count('the quick brown fox jumps over the lazy dog.'))"
   ]
  },
  {
   "cell_type": "code",
   "execution_count": 200,
   "id": "3217cdb4",
   "metadata": {},
   "outputs": [
    {
     "name": "stdout",
     "output_type": "stream",
     "text": [
      "r\n",
      "t\n",
      "r\n",
      "t\n"
     ]
    }
   ],
   "source": [
    "#count repeated characters in a string. \n",
    "mystring='urtert'\n",
    "for i in mystring:\n",
    "    #print(mystring.count(i))\n",
    "    if mystring.count(i)>1:\n",
    "        print(i)\n",
    "        \n",
    "            "
   ]
  },
  {
   "cell_type": "code",
   "execution_count": 191,
   "id": "198d3151",
   "metadata": {},
   "outputs": [
    {
     "ename": "NameError",
     "evalue": "name 'count' is not defined",
     "output_type": "error",
     "traceback": [
      "\u001b[1;31m---------------------------------------------------------------------------\u001b[0m",
      "\u001b[1;31mNameError\u001b[0m                                 Traceback (most recent call last)",
      "Cell \u001b[1;32mIn [191], line 1\u001b[0m\n\u001b[1;32m----> 1\u001b[0m \u001b[43mrep\u001b[49m\u001b[43m(\u001b[49m\u001b[38;5;124;43m'\u001b[39;49m\u001b[38;5;124;43madff\u001b[39;49m\u001b[38;5;124;43m'\u001b[39;49m\u001b[43m)\u001b[49m\n",
      "Cell \u001b[1;32mIn [186], line 5\u001b[0m, in \u001b[0;36mrep\u001b[1;34m(str)\u001b[0m\n\u001b[0;32m      3\u001b[0m \u001b[38;5;28;01mfor\u001b[39;00m i \u001b[38;5;129;01min\u001b[39;00m \u001b[38;5;28mstr\u001b[39m:\n\u001b[0;32m      4\u001b[0m     \u001b[38;5;28;01mif\u001b[39;00m \u001b[38;5;28mstr\u001b[39m\u001b[38;5;241m.\u001b[39mcount(i)\u001b[38;5;241m>\u001b[39m\u001b[38;5;241m1\u001b[39m:\n\u001b[1;32m----> 5\u001b[0m         \u001b[38;5;28mprint\u001b[39m(i,\u001b[43mcount\u001b[49m(i))\n",
      "\u001b[1;31mNameError\u001b[0m: name 'count' is not defined"
     ]
    }
   ],
   "source": [
    "'''Write a Python class Employee with attributes like emp_id, emp_name, emp_salary, and emp_department and methods like calculate_emp_salary, emp_assign_department, and print_employee_details.\n",
    "\n",
    "Sample Employee Data:\n",
    "\"ADAMS\", \"E7876\", 50000, \"ACCOUNTING\"\n",
    "\"JONES\", \"E7499\", 45000, \"RESEARCH\"\n",
    "\"MARTIN\", \"E7900\", 50000, \"SALES\"\n",
    "\"SMITH\", \"E7698\", 55000, \"OPERATIONS\"\n",
    "Use 'assign_department' method to change the department of an employee.\n",
    "Use 'print_employee_details' method to print the details of an employee.\n",
    "Use 'calculate_emp_salary' method takes two arguments: salary and hours_worked, which is the number of hours worked by the employee. If the number of hours worked is more than 50, the method computes overtime and adds it to the salary. Overtime is calculated as following formula:\n",
    "overtime = hours_worked – 50\n",
    "Overtime amount = (overtime * (salary / 50))'''"
   ]
  },
  {
   "cell_type": "code",
   "execution_count": 201,
   "id": "c4eccfeb",
   "metadata": {},
   "outputs": [
    {
     "name": "stdout",
     "output_type": "stream",
     "text": [
      "Original Employee Details:\n",
      "\n",
      "Name:  ADAMS\n",
      "ID:  E7876\n",
      "Salary:  50000\n",
      "Department:  ACCOUNTING\n",
      "----------------------\n",
      "\n",
      "Name:  JONES\n",
      "ID:  E7499\n",
      "Salary:  45000\n",
      "Department:  RESEARCH\n",
      "----------------------\n",
      "\n",
      "Name:  MARTIN\n",
      "ID:  E7900\n",
      "Salary:  50000\n",
      "Department:  SALES\n",
      "----------------------\n",
      "\n",
      "Name:  SMITH\n",
      "ID:  E7698\n",
      "Salary:  55000\n",
      "Department:  OPERATIONS\n",
      "----------------------\n",
      "Updated Employee Details:\n",
      "\n",
      "Name:  ADAMS\n",
      "ID:  E7876\n",
      "Salary:  50000\n",
      "Department:  OPERATIONS\n",
      "----------------------\n",
      "\n",
      "Name:  JONES\n",
      "ID:  E7499\n",
      "Salary:  46800.0\n",
      "Department:  RESEARCH\n",
      "----------------------\n",
      "\n",
      "Name:  MARTIN\n",
      "ID:  E7900\n",
      "Salary:  50000\n",
      "Department:  SALES\n",
      "----------------------\n",
      "\n",
      "Name:  SMITH\n",
      "ID:  E7698\n",
      "Salary:  66000.0\n",
      "Department:  SALES\n",
      "----------------------\n"
     ]
    }
   ],
   "source": [
    "class Employee:\n",
    "    def __init__(self, name, emp_id, salary, department):\n",
    "        self.name = name\n",
    "        self.id = emp_id\n",
    "        self.salary = salary\n",
    "        self.department = department\n",
    "\n",
    "    def calculate_salary(self, salary, hours_worked):\n",
    "        overtime = 0\n",
    "        if hours_worked > 50:\n",
    "            overtime = hours_worked - 50\n",
    "        self.salary = self.salary + (overtime * (self.salary / 50))\n",
    "\n",
    "    def assign_department(self, emp_department):\n",
    "        self.department = emp_department\n",
    "\n",
    "    def print_employee_details(self):\n",
    "        print(\"\\nName: \", self.name)\n",
    "        print(\"ID: \", self.id)\n",
    "        print(\"Salary: \", self.salary)\n",
    "        print(\"Department: \", self.department)\n",
    "        print(\"----------------------\")\n",
    "\n",
    "\n",
    "employee1 = Employee(\"ADAMS\", \"E7876\", 50000, \"ACCOUNTING\")\n",
    "employee2 = Employee(\"JONES\", \"E7499\", 45000, \"RESEARCH\")\n",
    "employee3 = Employee(\"MARTIN\", \"E7900\", 50000, \"SALES\")\n",
    "employee4 = Employee(\"SMITH\", \"E7698\", 55000, \"OPERATIONS\")\n",
    "\n",
    "print(\"Original Employee Details:\")\n",
    "employee1.print_employee_details()\n",
    "employee2.print_employee_details()\n",
    "employee3.print_employee_details()\n",
    "employee4.print_employee_details()\n",
    "\n",
    "# Change the departments of employee1 and employee4\n",
    "employee1.assign_department(\"OPERATIONS\")\n",
    "employee4.assign_department(\"SALES\")\n",
    "\n",
    "# Now calculate the overtime of the employees who are eligible:\n",
    "employee2.calculate_salary(45000, 52)\n",
    "employee4.calculate_salary(45000, 60)\n",
    "\n",
    "print(\"Updated Employee Details:\")\n",
    "employee1.print_employee_details()\n",
    "employee2.print_employee_details()\n",
    "employee3.print_employee_details()\n",
    "employee4.print_employee_details()\n"
   ]
  },
  {
   "cell_type": "code",
   "execution_count": 202,
   "id": "9f9fd1c7",
   "metadata": {},
   "outputs": [
    {
     "name": "stdout",
     "output_type": "stream",
     "text": [
      "Customer Details:\n",
      "Name: Toninho Takeo\n",
      "Account Number: 2345\n",
      "Date of opening: 01-01-2011\n",
      "Balance: $1000\n",
      "\n",
      "Name: Astrid Rugile\n",
      "Account Number: 1234\n",
      "Date of opening: 11-03-2011\n",
      "Balance: $2000\n",
      "\n",
      "Name: Orli Kerenza\n",
      "Account Number: 2312\n",
      "Date of opening: 12-01-2009\n",
      "Balance: $3000\n",
      "\n",
      "Name: Luciana Chika\n",
      "Account Number: 1395\n",
      "Date of opening: 01-01-2011\n",
      "Balance: $3000\n",
      "\n",
      "Name: Toninho Takeo\n",
      "Account Number: 6345\n",
      "Date of opening: 01-05-2011\n",
      "Balance: $4000\n",
      "\n",
      "=============================\n",
      "Name: Luciana Chika\n",
      "Account Number: 1395\n",
      "Date of opening: 01-01-2011\n",
      "Balance: $3000\n",
      "\n",
      "$1000 has been deposited in your account.\n",
      "Current balance is $4000.\n",
      "Insufficient balance.\n",
      "$3400 has been withdrawn from your account.\n",
      "Current balance is $600.\n"
     ]
    }
   ],
   "source": [
    "class BankAccount:\n",
    "    def __init__(self, account_number, date_of_opening, balance, customer_name):\n",
    "        self.account_number = account_number\n",
    "        self.date_of_opening  = date_of_opening \n",
    "        self.balance = balance\n",
    "        self.customer_name = customer_name\n",
    "        \n",
    "    def deposit(self, amount):\n",
    "        self.balance += amount\n",
    "        print(f\"${amount} has been deposited in your account.\")\n",
    "    \n",
    "    def withdraw(self, amount):\n",
    "        if amount > self.balance:\n",
    "            print(\"Insufficient balance.\")\n",
    "        else:\n",
    "            self.balance -= amount\n",
    "            print(f\"${amount} has been withdrawn from your account.\")\n",
    "            \n",
    "    def check_balance(self):\n",
    "        print(f\"Current balance is ${self.balance}.\")\n",
    "        \n",
    "    def print_customer_details(self):\n",
    "        print(\"Name:\", self.customer_name)\n",
    "        print(\"Account Number:\", self.account_number)\n",
    "        print(\"Date of opening:\", self.date_of_opening)\n",
    "        print(f\"Balance: ${self.balance}\\n\")   \n",
    "\n",
    "# Input customer details\n",
    "ac_no_1 = BankAccount(2345, \"01-01-2011\", 1000, \"Toninho Takeo\")\n",
    "ac_no_2 = BankAccount(1234, \"11-03-2011\", 2000, \"Astrid Rugile\")\n",
    "ac_no_3 = BankAccount(2312, \"12-01-2009\", 3000, \"Orli Kerenza\")\n",
    "ac_no_4 = BankAccount(1395, \"01-01-2011\", 3000, \"Luciana Chika\")\n",
    "ac_no_5 = BankAccount(6345, \"01-05-2011\", 4000, \"Toninho Takeo\")\n",
    "\n",
    "print(\"Customer Details:\")\n",
    "ac_no_1.print_customer_details()\n",
    "ac_no_2.print_customer_details()\n",
    "ac_no_3.print_customer_details()\n",
    "ac_no_4.print_customer_details()\n",
    "ac_no_5.print_customer_details()\n",
    "\n",
    "print(\"=============================\")\n",
    "ac_no_4.print_customer_details()\n",
    "# Current balance is $3000.\n",
    "# $1000 has been deposited in your account.\n",
    "ac_no_4.deposit(1000)\n",
    "ac_no_4.check_balance()\n",
    "# Your current balance $4000.\n",
    "# You want to withdraw $5000\n",
    "ac_no_4.withdraw(5000)\n",
    "# Output:\n",
    "# Insufficient balance.\n",
    "#The customer withdraw $3400.\n",
    "ac_no_4.withdraw(3400)\n",
    "ac_no_4.check_balance()\n"
   ]
  },
  {
   "cell_type": "code",
   "execution_count": 208,
   "id": "c23626f5",
   "metadata": {},
   "outputs": [
    {
     "ename": "TypeError",
     "evalue": "__init__() takes 4 positional arguments but 6 were given",
     "output_type": "error",
     "traceback": [
      "\u001b[1;31m---------------------------------------------------------------------------\u001b[0m",
      "\u001b[1;31mTypeError\u001b[0m                                 Traceback (most recent call last)",
      "Cell \u001b[1;32mIn [208], line 22\u001b[0m\n\u001b[0;32m     18\u001b[0m         \u001b[38;5;28mprint\u001b[39m(\u001b[38;5;124m\"\u001b[39m\u001b[38;5;124m\"\u001b[39m,\u001b[38;5;28mself\u001b[39m\u001b[38;5;241m.\u001b[39msalary)\n\u001b[0;32m     20\u001b[0m \u001b[38;5;66;03m#employee1 = Employee(\"ADAMS\",  \"ACCOUNTING\",\"23\",'2000')\u001b[39;00m\n\u001b[0;32m     21\u001b[0m \u001b[38;5;66;03m#employee2 = Employee(\"JONES\", \"RESEARCH\",\"24\",'6888')\u001b[39;00m\n\u001b[1;32m---> 22\u001b[0m employee1 \u001b[38;5;241m=\u001b[39m \u001b[43mmanager\u001b[49m\u001b[43m(\u001b[49m\u001b[38;5;124;43m\"\u001b[39;49m\u001b[38;5;124;43mADAMS\u001b[39;49m\u001b[38;5;124;43m\"\u001b[39;49m\u001b[43m,\u001b[49m\u001b[43m  \u001b[49m\u001b[38;5;124;43m\"\u001b[39;49m\u001b[38;5;124;43mACCOUNTING\u001b[39;49m\u001b[38;5;124;43m\"\u001b[39;49m\u001b[43m,\u001b[49m\u001b[38;5;124;43m'\u001b[39;49m\u001b[38;5;124;43mafjdj\u001b[39;49m\u001b[38;5;124;43m'\u001b[39;49m\u001b[43m,\u001b[49m\u001b[38;5;124;43m\"\u001b[39;49m\u001b[38;5;124;43m23\u001b[39;49m\u001b[38;5;124;43m\"\u001b[39;49m\u001b[43m,\u001b[49m\u001b[38;5;124;43m'\u001b[39;49m\u001b[38;5;124;43m2000\u001b[39;49m\u001b[38;5;124;43m'\u001b[39;49m\u001b[43m)\u001b[49m\n\u001b[0;32m     23\u001b[0m employee2 \u001b[38;5;241m=\u001b[39m manager(\u001b[38;5;124m\"\u001b[39m\u001b[38;5;124mJONES\u001b[39m\u001b[38;5;124m\"\u001b[39m, \u001b[38;5;124m\"\u001b[39m\u001b[38;5;124mRESEARCH\u001b[39m\u001b[38;5;124m\"\u001b[39m,\u001b[38;5;124m\"\u001b[39m\u001b[38;5;124m24\u001b[39m\u001b[38;5;124m\"\u001b[39m,\u001b[38;5;124m'\u001b[39m\u001b[38;5;124m6888\u001b[39m\u001b[38;5;124m'\u001b[39m)\n\u001b[0;32m     24\u001b[0m employee1\u001b[38;5;241m.\u001b[39mprint_employee_details()\n",
      "\u001b[1;31mTypeError\u001b[0m: __init__() takes 4 positional arguments but 6 were given"
     ]
    }
   ],
   "source": [
    "class Employee:\n",
    "    def __init__(self, name, companyname):\n",
    "        self.name = name\n",
    "        self.conam = companyname\n",
    "        \n",
    "class manager(Employee):\n",
    "    def __init__(self,mgrname, mgrid, salary):\n",
    "        self.mgrname=mgrname\n",
    "        self.mgrid= mgrid\n",
    "        self.salary= salary\n",
    "        \n",
    "        \n",
    "\n",
    "    def print_employee_details(self):\n",
    "        print(\"\\nName: \", self.name)\n",
    "        print(\"ID: \", self.conam)\n",
    "        print(\"\",self.mgrid)\n",
    "        print(\"\",self.salary)\n",
    "        \n",
    "#employee1 = Employee(\"ADAMS\",  \"ACCOUNTING\",\"23\",'2000')\n",
    "#employee2 = Employee(\"JONES\", \"RESEARCH\",\"24\",'6888')\n",
    "employee1 = manager(\"ADAMS\", \"ACCOUNTING\",'afjdj',\"23\",'2000')\n",
    "employee2 = manager(\"JONES\", \"RESEARCH\",\"24\",'6888')\n",
    "employee1.print_employee_details()\n",
    "employee2.print_employee_details()\n",
    "\n"
   ]
  },
  {
   "cell_type": "code",
   "execution_count": null,
   "id": "6cd767f6",
   "metadata": {},
   "outputs": [],
   "source": [
    "'''Write a Python program to find those numbers which are divisible by 7 and multiples of 5, between 1500 and 2700 (both included).'''"
   ]
  },
  {
   "cell_type": "code",
   "execution_count": 213,
   "id": "8f95232c",
   "metadata": {},
   "outputs": [
    {
     "name": "stdout",
     "output_type": "stream",
     "text": [
      "[1505, 1540, 1575, 1610, 1645, 1680, 1715, 1750, 1785, 1820, 1855, 1890, 1925, 1960, 1995, 2030, 2065, 2100, 2135, 2170, 2205, 2240, 2275, 2310, 2345, 2380, 2415, 2450, 2485, 2520, 2555, 2590, 2625, 2660, 2695]\n"
     ]
    }
   ],
   "source": [
    "li=[]\n",
    "for i in range(1500, 2701):\n",
    "    if i%7==0 and i%5==0:\n",
    "        li.append(i)\n",
    "print(li)"
   ]
  },
  {
   "cell_type": "code",
   "execution_count": null,
   "id": "96012653",
   "metadata": {},
   "outputs": [],
   "source": [
    "'''rite a Python program that prints all the numbers from 0 to 6 except 3 and 6.'''"
   ]
  },
  {
   "cell_type": "code",
   "execution_count": 215,
   "id": "e55e5401",
   "metadata": {},
   "outputs": [
    {
     "name": "stdout",
     "output_type": "stream",
     "text": [
      "0\n",
      "1\n",
      "2\n",
      "4\n",
      "5\n"
     ]
    }
   ],
   "source": [
    "for i in range(0,7):\n",
    "    if i==3 or i==6:\n",
    "        continue\n",
    "    print(i)    \n",
    "        "
   ]
  },
  {
   "cell_type": "code",
   "execution_count": 217,
   "id": "cd286fae",
   "metadata": {},
   "outputs": [
    {
     "name": "stdout",
     "output_type": "stream",
     "text": [
      "e\n",
      "vowel\n"
     ]
    }
   ],
   "source": [
    "#rogram to check whether an alphabet is a vowel or consonant.\n",
    "ch=input()\n",
    "v=['a','e','i','o','u']\n",
    "for i in ch:\n",
    "    if i in v:\n",
    "        print(\"vowel\")\n",
    "    else:\n",
    "        print(\"consonant\")"
   ]
  },
  {
   "cell_type": "code",
   "execution_count": 228,
   "id": "1b27b79f",
   "metadata": {},
   "outputs": [],
   "source": [
    "#Python program to check if a triangle is equilateral, isosceles or scalene.'''\n",
    "def tri(a,b,c):\n",
    "    if a==b==c:\n",
    "        print(\"equilateral\")\n",
    "    elif(a==b!=c):\n",
    "        print(\"isosceles\")\n",
    "    elif(a!=b!=c):\n",
    "        print(\"scalene\")\n",
    "        "
   ]
  },
  {
   "cell_type": "raw",
   "id": "cd942b81",
   "metadata": {},
   "source": []
  },
  {
   "cell_type": "code",
   "execution_count": 227,
   "id": "e315b5f8",
   "metadata": {},
   "outputs": [],
   "source": [
    "tri(2,4,4)"
   ]
  },
  {
   "cell_type": "code",
   "execution_count": 229,
   "id": "7805c47d",
   "metadata": {},
   "outputs": [
    {
     "name": "stdout",
     "output_type": "stream",
     "text": [
      "Key is present in the dictionary\n",
      "Key is not present in the dictionary\n"
     ]
    }
   ],
   "source": [
    "d = {1: 10, 2: 20, 3: 30, 4: 40, 5: 50, 6: 60}\n",
    "def is_key_present(x):\n",
    "  if x in d:\n",
    "      print('Key is present in the dictionary')\n",
    "  else:\n",
    "      print('Key is not present in the dictionary')\n",
    "is_key_present(5)\n",
    "is_key_present(9)\n"
   ]
  },
  {
   "cell_type": "code",
   "execution_count": 230,
   "id": "cedc4d26",
   "metadata": {},
   "outputs": [
    {
     "name": "stdout",
     "output_type": "stream",
     "text": [
      "x -> 10\n",
      "y -> 20\n",
      "z -> 30\n"
     ]
    }
   ],
   "source": [
    "d = {'x': 10, 'y': 20, 'z': 30} \n",
    "for dict_key, dict_value in d.items():\n",
    "    print(dict_key,'->',dict_value)"
   ]
  },
  {
   "cell_type": "code",
   "execution_count": 231,
   "id": "c779ebbc",
   "metadata": {},
   "outputs": [
    {
     "name": "stdout",
     "output_type": "stream",
     "text": [
      "{1: 1, 2: 4, 3: 9, 4: 16, 5: 25, 6: 36, 7: 49, 8: 64, 9: 81, 10: 100, 11: 121, 12: 144, 13: 169, 14: 196, 15: 225}\n"
     ]
    }
   ],
   "source": [
    "d=dict()\n",
    "for x in range(1,16):\n",
    "    d[x]=x**2\n",
    "print(d) "
   ]
  },
  {
   "cell_type": "code",
   "execution_count": null,
   "id": "180e2827",
   "metadata": {},
   "outputs": [],
   "source": []
  }
 ],
 "metadata": {
  "kernelspec": {
   "display_name": "Python 3 (ipykernel)",
   "language": "python",
   "name": "python3"
  },
  "language_info": {
   "codemirror_mode": {
    "name": "ipython",
    "version": 3
   },
   "file_extension": ".py",
   "mimetype": "text/x-python",
   "name": "python",
   "nbconvert_exporter": "python",
   "pygments_lexer": "ipython3",
   "version": "3.9.7"
  }
 },
 "nbformat": 4,
 "nbformat_minor": 5
}
