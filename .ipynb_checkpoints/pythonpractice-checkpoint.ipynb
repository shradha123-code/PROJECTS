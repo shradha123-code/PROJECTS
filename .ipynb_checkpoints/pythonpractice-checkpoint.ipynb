{
 "cells": [
  {
   "cell_type": "code",
   "execution_count": null,
   "id": "ddc37d99",
   "metadata": {},
   "outputs": [],
   "source": [
    "aList = [10, 20, 30, 40, 50, 60, 70, 80]\n",
    "print(aList[2:5])\n",
    "print(aList[:4])\n",
    "print(aList[3:])"
   ]
  },
  {
   "cell_type": "code",
   "execution_count": null,
   "id": "587d62c7",
   "metadata": {},
   "outputs": [],
   "source": [
    "sampleList = [10, 20, 30, 40, 50]\n",
    "sampleList.append(60)\n",
    "print(sampleList)\n",
    "\n",
    "sampleList.append(60)\n",
    "print(sampleList)"
   ]
  },
  {
   "cell_type": "code",
   "execution_count": null,
   "id": "e0e481c2",
   "metadata": {},
   "outputs": [],
   "source": [
    "aList = ['a', 'b', 'c', 'd']\n",
    "\n",
    "newList = aList.copy()\n",
    "newList"
   ]
  },
  {
   "cell_type": "code",
   "execution_count": null,
   "id": "7079404f",
   "metadata": {},
   "outputs": [],
   "source": [
    "aList = [\"PYnative\", [4, 8, 12, 16]]\n",
    "print(aList[0][1])    \n",
    "print(aList[1][3])"
   ]
  },
  {
   "cell_type": "code",
   "execution_count": null,
   "id": "8ad5d156",
   "metadata": {},
   "outputs": [],
   "source": [
    "l = [None] * 10\n",
    "print(len(l))"
   ]
  },
  {
   "cell_type": "code",
   "execution_count": null,
   "id": "3b5f5730",
   "metadata": {},
   "outputs": [],
   "source": [
    "aList = [5, 10, 15, 25]\n",
    "print(aList[::-3])"
   ]
  },
  {
   "cell_type": "code",
   "execution_count": null,
   "id": "75d6aea1",
   "metadata": {},
   "outputs": [],
   "source": [
    "aList = [4, 8, 12, 16]\n",
    "aList[1:2] = [20, 24, 28]\n",
    "print(aList)"
   ]
  },
  {
   "cell_type": "code",
   "execution_count": null,
   "id": "9ce78459",
   "metadata": {},
   "outputs": [],
   "source": [
    "sampleList = [10, 20, 30, 40]\n",
    "del sampleList[0:6]\n",
    "print(sampleList)"
   ]
  },
  {
   "cell_type": "code",
   "execution_count": null,
   "id": "7111430f",
   "metadata": {},
   "outputs": [],
   "source": [
    "aList = [1, 2, 3, 4, 5, 6, 7]\n",
    "pow2 =  [2 * x for x in aList]\n",
    "print(pow2)"
   ]
  },
  {
   "cell_type": "code",
   "execution_count": null,
   "id": "dfb94535",
   "metadata": {},
   "outputs": [],
   "source": [
    "list1 = ['xyz', 'zara', 'PYnative']\n",
    "print (max(list1))"
   ]
  },
  {
   "cell_type": "code",
   "execution_count": null,
   "id": "312414fd",
   "metadata": {},
   "outputs": [],
   "source": [
    "my_list = [\"Hello\", \"Python\"]\n",
    "print(\"-\".join(my_list))"
   ]
  },
  {
   "cell_type": "code",
   "execution_count": null,
   "id": "5637ccff",
   "metadata": {},
   "outputs": [],
   "source": [
    "sampleList = [10, 20, 30, 40, 50]\n",
    "print(sampleList[-2])\n",
    "print(sampleList[-4:-1])"
   ]
  },
  {
   "cell_type": "code",
   "execution_count": null,
   "id": "9c1f096b",
   "metadata": {},
   "outputs": [],
   "source": [
    "sampleList = [10, 20, 30, 40, 50]\n",
    "sampleList.pop()\n",
    "print(sampleList)\n",
    "\n",
    "sampleList.pop(2)\n",
    "print(sampleList)"
   ]
  },
  {
   "cell_type": "code",
   "execution_count": null,
   "id": "cefc6205",
   "metadata": {},
   "outputs": [],
   "source": [
    "resList = [x+y for x in ['Hello ', 'Good '] for y in ['Dear', 'Bye']]\n",
    "print(resList)"
   ]
  },
  {
   "cell_type": "code",
   "execution_count": null,
   "id": "a7b5859a",
   "metadata": {},
   "outputs": [],
   "source": [
    "sample_list = [34, 54, 67, 89, 11, 43, 94]\n",
    "\n",
    "print(\"Original list \", sample_list)\n",
    "element = sample_list.pop(4)\n",
    "print(\"List After removing element at index 4 \", sample_list)\n",
    "\n",
    "sample_list.insert(2, element)\n",
    "print(\"List after Adding element at index 2 \", sample_list)\n",
    "\n",
    "sample_list.append(element)\n",
    "print(\"List after Adding element at last \", sample_list)"
   ]
  },
  {
   "cell_type": "code",
   "execution_count": null,
   "id": "c5c1f30e",
   "metadata": {},
   "outputs": [],
   "source": [
    "sample_list = [11, 45, 8, 11, 23, 45, 23, 45, 89]\n",
    "print(\"Original list \", sample_list)\n",
    "\n",
    "count_dict = dict()\n",
    "for item in sample_list:\n",
    "    if item in count_dict:\n",
    "        count_dict[item] += 1\n",
    "    else:\n",
    "        count_dict[item] = 1\n",
    "\n",
    "print(\"Printing count of each item  \", count_dict)"
   ]
  },
  {
   "cell_type": "code",
   "execution_count": null,
   "id": "b6c00004",
   "metadata": {},
   "outputs": [],
   "source": [
    "sample_list = [11, 45, 8, 11, 23, 45, 23, 45, 89]\n",
    "print(\"Original list \", sample_list)\n",
    "\n",
    "count_dict = dict()\n",
    "for item in sample_list:\n",
    "    if item in count_dict:\n",
    "        count_dict[item] += 1\n",
    "    else:\n",
    "        count_dict[item] = 1\n",
    "\n",
    "print(\"Printing count of each item  \", count_dict)"
   ]
  },
  {
   "cell_type": "code",
   "execution_count": null,
   "id": "d194bb35",
   "metadata": {},
   "outputs": [],
   "source": [
    "def calculation(a, b):\n",
    "    addition = a + b\n",
    "    subtraction = a - b\n",
    "    # return multiple values separated by comma\n",
    "    return addition, subtraction\n",
    "\n",
    "# get result in tuple format\n",
    "res = calculation(40, 10)\n",
    "print(res)"
   ]
  },
  {
   "cell_type": "code",
   "execution_count": null,
   "id": "b49f8682",
   "metadata": {},
   "outputs": [],
   "source": [
    "#count = int(input(\"Enter the count of numbers: \"))\n",
    "i = 0\n",
    "sum = 0\n",
    "for i in range(0, 5):\n",
    "    x = int(input(\"Enter an integer: \"))\n",
    "    sum = sum + x\n",
    "avg = sum/5\n",
    "print(\"The average is: \", avg)"
   ]
  },
  {
   "cell_type": "code",
   "execution_count": null,
   "id": "4254f71d",
   "metadata": {},
   "outputs": [],
   "source": [
    "numbers = [8,3,1,6,2,4,5,9]\n",
    "count = 0\n",
    "odd_list =[]\n",
    "for i in range(len(numbers)):\n",
    "    if(numbers[i]%2!=0):\n",
    "        count = count+1\n",
    "        odd_list.append(numbers[i])\n",
    "print(\"The number of odd numbers in the list are: \", count)\n",
    "print(\"The number of odd numbers in the list are: \", odd_list)"
   ]
  },
  {
   "cell_type": "code",
   "execution_count": null,
   "id": "f149c070",
   "metadata": {},
   "outputs": [],
   "source": [
    "list = [ 'Tech', 404, 3.03, 'Beamers', 33.3 ]\n",
    "print(list[1:3])"
   ]
  },
  {
   "cell_type": "code",
   "execution_count": null,
   "id": "50c9d83b",
   "metadata": {},
   "outputs": [],
   "source": [
    "def f():\n",
    "    pass\n",
    "\n",
    "print(type(f()))"
   ]
  },
  {
   "cell_type": "code",
   "execution_count": null,
   "id": "37d50344",
   "metadata": {},
   "outputs": [],
   "source": [
    "num = '5'*'5'\n"
   ]
  },
  {
   "cell_type": "code",
   "execution_count": null,
   "id": "4c8da8f6",
   "metadata": {},
   "outputs": [],
   "source": [
    "x = True\n",
    "y = False\n",
    "z = False\n",
    "if not x or y:\n",
    "    print(1)\n",
    "elif not x or not y and z:\n",
    "    print(2)\n",
    "elif not x or y or not y and x:\n",
    "    print(3)\n",
    "else:\n",
    "    print(4)"
   ]
  },
  {
   "cell_type": "code",
   "execution_count": null,
   "id": "19182414",
   "metadata": {},
   "outputs": [],
   "source": [
    "print(type(1J))\n"
   ]
  },
  {
   "cell_type": "code",
   "execution_count": null,
   "id": "2a693316",
   "metadata": {},
   "outputs": [],
   "source": [
    "print(3/5)\n"
   ]
  },
  {
   "cell_type": "code",
   "execution_count": null,
   "id": "f442c39a",
   "metadata": {},
   "outputs": [],
   "source": [
    "tinytuple = (123, 'techbeamers')\n",
    "print(tinytuple * 2)"
   ]
  },
  {
   "cell_type": "code",
   "execution_count": null,
   "id": "003aac79",
   "metadata": {},
   "outputs": [],
   "source": [
    "a = [1,2,3,None,(),[]]\n",
    "print(len(a))"
   ]
  },
  {
   "cell_type": "code",
   "execution_count": null,
   "id": "bfa24391",
   "metadata": {},
   "outputs": [],
   "source": [
    "print(abc)\n"
   ]
  },
  {
   "cell_type": "code",
   "execution_count": null,
   "id": "7f5a467d",
   "metadata": {},
   "outputs": [],
   "source": [
    "colors = ['red', 'orange', 'yellow', 'green', 'blue', 'indigo', 'violet']\n",
    "colors[2]"
   ]
  },
  {
   "cell_type": "code",
   "execution_count": null,
   "id": "2d2a248a",
   "metadata": {},
   "outputs": [],
   "source": [
    "pre_code = \"Python\" \n",
    "a = \"Python Quiz\" \n",
    "print(a[2:5]) "
   ]
  },
  {
   "cell_type": "code",
   "execution_count": null,
   "id": "32dedb56",
   "metadata": {},
   "outputs": [],
   "source": [
    "pre_code = \"Python\"\n",
    "for i in range(0,10,3):    \n",
    "    print(i)"
   ]
  },
  {
   "cell_type": "code",
   "execution_count": null,
   "id": "8d339315",
   "metadata": {},
   "outputs": [],
   "source": [
    "pre_code = \"python\" \n",
    "c = 2 ** 3 + 4 * 2 \n",
    "print(c)"
   ]
  },
  {
   "cell_type": "code",
   "execution_count": null,
   "id": "992a74f8",
   "metadata": {},
   "outputs": [],
   "source": [
    "2**3"
   ]
  },
  {
   "cell_type": "code",
   "execution_count": null,
   "id": "ac034cbf",
   "metadata": {},
   "outputs": [],
   "source": [
    "4*2"
   ]
  },
  {
   "cell_type": "code",
   "execution_count": null,
   "id": "9dd28285",
   "metadata": {},
   "outputs": [],
   "source": [
    "x = 'abcd'\n",
    "for i in x:\n",
    "    print(i.upper())"
   ]
  },
  {
   "cell_type": "code",
   "execution_count": null,
   "id": "a224647c",
   "metadata": {},
   "outputs": [],
   "source": [
    "for i in [1, 2, 3, 4][::-1]:\n",
    "    print (i)"
   ]
  },
  {
   "cell_type": "code",
   "execution_count": null,
   "id": "c15dc762",
   "metadata": {},
   "outputs": [],
   "source": [
    "i = 0\n",
    "while i < 5:\n",
    "    print(i)\n",
    "    i += 1\n",
    "    if i == 3:\n",
    "        break\n",
    "else:\n",
    "    print(0)"
   ]
  },
  {
   "cell_type": "code",
   "execution_count": null,
   "id": "ddfd62cd",
   "metadata": {},
   "outputs": [],
   "source": [
    "11**2"
   ]
  },
  {
   "cell_type": "code",
   "execution_count": null,
   "id": "bc23ee26",
   "metadata": {},
   "outputs": [],
   "source": [
    "print(2**3 + (5 + 6)**(1 + 1))"
   ]
  },
  {
   "cell_type": "code",
   "execution_count": null,
   "id": "c918199f",
   "metadata": {},
   "outputs": [],
   "source": [
    "var = 10\n",
    "print(type(var))\n",
    "var = \"Hello\"\n",
    "print(type(var))"
   ]
  },
  {
   "cell_type": "code",
   "execution_count": null,
   "id": "ca5212ca",
   "metadata": {},
   "outputs": [],
   "source": [
    "def solve(a):\n",
    "    a = [1, 3, 5]\n",
    "#a = [2, 4, 6]\n",
    "print(a)\n",
    "#solve(a)\n",
    "#print(a)"
   ]
  },
  {
   "cell_type": "code",
   "execution_count": null,
   "id": "594e900d",
   "metadata": {},
   "outputs": [],
   "source": [
    "50%20"
   ]
  },
  {
   "cell_type": "code",
   "execution_count": null,
   "id": "dc07a796",
   "metadata": {},
   "outputs": [],
   "source": [
    "def solve(a, b):\n",
    "    return b if a == 0 else solve(b % a, a)\n",
    "print(solve(20, 50))\n"
   ]
  },
  {
   "cell_type": "code",
   "execution_count": null,
   "id": "0ccb0d1b",
   "metadata": {},
   "outputs": [],
   "source": [
    "a = [1, 2]\n",
    "print(a * 3)"
   ]
  },
  {
   "cell_type": "code",
   "execution_count": null,
   "id": "e1ef83f9",
   "metadata": {},
   "outputs": [],
   "source": [
    "example = [\"Sunday\", \"Monday\", \"Tuesday\", \"Wednesday\"];\n",
    "del example[2]\n",
    "print(example)"
   ]
  },
  {
   "cell_type": "code",
   "execution_count": null,
   "id": "2c3ec15d",
   "metadata": {},
   "outputs": [],
   "source": [
    "numbers = (4, 7, 19, 2, 89, 45, 72, 22)\n",
    "sorted_numbers = sorted(numbers)\n",
    "print(sorted_numbers)\n"
   ]
  },
  {
   "cell_type": "code",
   "execution_count": null,
   "id": "fd2674a2",
   "metadata": {},
   "outputs": [],
   "source": [
    "numbers = (4, 7, 19, 2, 89, 45, 72, 22)\n",
    "sorted_numbers = sorted(numbers)\n",
    "odd_numbers = [x for x in sorted_numbers if x % 2 != 0]\n",
    "print(odd_numbers)"
   ]
  },
  {
   "cell_type": "code",
   "execution_count": null,
   "id": "a4a4cd3a",
   "metadata": {},
   "outputs": [],
   "source": [
    "#Sets in python store only unique elements within them, without any repetition.\n",
    "s = {1, 2, 3, 3, 2, 4, 5, 5}\n",
    "print(s)"
   ]
  },
  {
   "cell_type": "code",
   "execution_count": null,
   "id": "62aab090",
   "metadata": {},
   "outputs": [],
   "source": [
    "a = [1, 2, 3, 4]\n",
    "b = [3, 4, 5, 6]\n",
    "c = [x for x in a if x not in b]\n",
    "print(c)"
   ]
  },
  {
   "cell_type": "code",
   "execution_count": null,
   "id": "07a4f21f",
   "metadata": {},
   "outputs": [],
   "source": [
    "2 ** 3 + 5 ** 2"
   ]
  },
  {
   "cell_type": "code",
   "execution_count": null,
   "id": "a6ba01d7",
   "metadata": {},
   "outputs": [],
   "source": [
    "list1=[1,2,3,4,5,6,7,8,9]"
   ]
  },
  {
   "cell_type": "code",
   "execution_count": null,
   "id": "7db945ab",
   "metadata": {},
   "outputs": [],
   "source": [
    "list1[4]"
   ]
  },
  {
   "cell_type": "code",
   "execution_count": null,
   "id": "b89563b2",
   "metadata": {},
   "outputs": [],
   "source": [
    " list1[:5]\n"
   ]
  },
  {
   "cell_type": "code",
   "execution_count": null,
   "id": "c605b225",
   "metadata": {},
   "outputs": [],
   "source": [
    "list1=[1,3.4,4,'a','t',4]\n",
    "print((set(list1)))"
   ]
  },
  {
   "cell_type": "code",
   "execution_count": null,
   "id": "2d4b48f3",
   "metadata": {},
   "outputs": [],
   "source": [
    "list1=[9,8,7,6,5,4,3,2,1]\n",
    "list1.pop(4)"
   ]
  },
  {
   "cell_type": "code",
   "execution_count": null,
   "id": "af9ae9ee",
   "metadata": {},
   "outputs": [],
   "source": [
    "list1=['abc','tres','yes']\n",
    "print(list1[0][0])\n",
    "print(list1[0][1])\n",
    "print(list1[0][2])\n",
    "print(list1[1][0])\n",
    "print(list1[1][1])\n",
    "print(list1[1][2])\n",
    "print(list1[1][3])\n",
    "print(list1[2][1])\n",
    "print(list1[2][2])\n",
    "\n"
   ]
  },
  {
   "cell_type": "code",
   "execution_count": null,
   "id": "def25410",
   "metadata": {},
   "outputs": [],
   "source": [
    "list1=['abc','rt',0,4,5.7]\n",
    "\n",
    "list2=[i for i in list1 if i]\n",
    "\n",
    "list2"
   ]
  },
  {
   "cell_type": "code",
   "execution_count": null,
   "id": "f45a4fdd",
   "metadata": {},
   "outputs": [],
   "source": [
    "if('P' in 'Python'):\n",
    "    print('P is present',end=\" \")\n",
    "else:\n",
    "    print('Not present')"
   ]
  },
  {
   "cell_type": "code",
   "execution_count": null,
   "id": "fcc51a79",
   "metadata": {},
   "outputs": [],
   "source": [
    "no=5\n",
    "if(no%2==0):\n",
    "    print('Even Number')\n",
    "    #else(no%2==1):\n",
    "else:\n",
    "        print('odd Number')"
   ]
  },
  {
   "cell_type": "code",
   "execution_count": null,
   "id": "1f1c1747",
   "metadata": {},
   "outputs": [],
   "source": [
    "class MathUtils:\n",
    "\n",
    "    @staticmethod\n",
    "    def average(a, b):\n",
    "        return a + b / 2\n",
    "\n",
    "print(MathUtils.average(2, 1))"
   ]
  },
  {
   "cell_type": "code",
   "execution_count": null,
   "id": "42f4cdd3",
   "metadata": {},
   "outputs": [],
   "source": [
    "def unique_names(names1, names2):\n",
    "    return None\n",
    "\n",
    "if __name__ == \"__main__\":\n",
    "    names1 = [\"Ava\", \"Emma\", \"Olivia\"]\n",
    "    names2 = [\"Olivia\", \"Sophia\", \"Emma\"]\n",
    "    for i in names1:\n",
    "        if (names1[i]==names2[i]):\n",
    "            print(unique_names(names1, names2))"
   ]
  },
  {
   "cell_type": "code",
   "execution_count": null,
   "id": "f1e7579d",
   "metadata": {},
   "outputs": [],
   "source": [
    "s1= 'a'\n",
    "s2='b'\n",
    "s3= s1+s2\n",
    "s3\n"
   ]
  },
  {
   "cell_type": "code",
   "execution_count": null,
   "id": "4af7e0f8",
   "metadata": {},
   "outputs": [],
   "source": [
    "mystr = \"codescracker\"\n",
    "print(type(mystr))"
   ]
  },
  {
   "cell_type": "code",
   "execution_count": null,
   "id": "859eb8e3",
   "metadata": {},
   "outputs": [],
   "source": [
    "mystr = \"codescracker\"\n",
    "print(mystr.replace(\"c\", \"x\"))"
   ]
  },
  {
   "cell_type": "code",
   "execution_count": null,
   "id": "d45d221b",
   "metadata": {},
   "outputs": [],
   "source": [
    "mystr[3]"
   ]
  },
  {
   "cell_type": "code",
   "execution_count": null,
   "id": "366341c5",
   "metadata": {},
   "outputs": [],
   "source": [
    "print(0.1 + 0.2 == 0.3)\n"
   ]
  },
  {
   "cell_type": "code",
   "execution_count": null,
   "id": "c223edae",
   "metadata": {},
   "outputs": [],
   "source": [
    "mylist = ['c', 'o', 'd', 'e', 's']\n",
    "print(len(mylist))"
   ]
  },
  {
   "cell_type": "code",
   "execution_count": null,
   "id": "d4707e04",
   "metadata": {},
   "outputs": [],
   "source": [
    "mylist = [10, 20, 5, 30, 15]\n",
    "print(max(mylist))"
   ]
  },
  {
   "cell_type": "code",
   "execution_count": null,
   "id": "e9428ada",
   "metadata": {},
   "outputs": [],
   "source": [
    "mylist = [10, 20, 5, 30, 15]\n",
    "print(sum mylist)"
   ]
  },
  {
   "cell_type": "code",
   "execution_count": null,
   "id": "eab6a9ea",
   "metadata": {},
   "outputs": [],
   "source": [
    "mylist = [4, 2, 2, 4, 5, 2, 564, 0]"
   ]
  },
  {
   "cell_type": "code",
   "execution_count": null,
   "id": "8c562446",
   "metadata": {},
   "outputs": [],
   "source": [
    "print(mylist[:5])"
   ]
  },
  {
   "cell_type": "code",
   "execution_count": null,
   "id": "db9b29ec",
   "metadata": {},
   "outputs": [],
   "source": [
    "print(mylist[:-1])"
   ]
  },
  {
   "cell_type": "code",
   "execution_count": null,
   "id": "d43e0191",
   "metadata": {},
   "outputs": [],
   "source": [
    "mylist = [10, 20, 5, 30, 15]\n",
    "print(mylist[-2])"
   ]
  },
  {
   "cell_type": "code",
   "execution_count": null,
   "id": "a04b9b9c",
   "metadata": {},
   "outputs": [],
   "source": [
    "mylist = [0.5 * x for x in range(0, 4)]\n",
    "print(mylist)"
   ]
  },
  {
   "cell_type": "code",
   "execution_count": null,
   "id": "70f0454c",
   "metadata": {},
   "outputs": [],
   "source": [
    "mylist = [3, 4, 5, 20, 5]\n",
    "print(mylist.index(5))"
   ]
  },
  {
   "cell_type": "code",
   "execution_count": null,
   "id": "97b91419",
   "metadata": {},
   "outputs": [],
   "source": [
    "mylist = [3, 4, 5, 20, 5, 25, 565, 3]\n",
    "print(mylist.count(5))"
   ]
  },
  {
   "cell_type": "code",
   "execution_count": null,
   "id": "0cecdd84",
   "metadata": {},
   "outputs": [],
   "source": [
    "mylist = [3, 4, 5, 20, 5, 25, 565, 3]\n",
    "mylist.reverse()\n",
    "print(mylist)"
   ]
  },
  {
   "cell_type": "code",
   "execution_count": null,
   "id": "3c8238d8",
   "metadata": {},
   "outputs": [],
   "source": [
    "mylist = [3, 4, 5, 20, 5, 25, 565, 3]\n",
    "mylist.extend([34, 5])\n",
    "print(mylist)"
   ]
  },
  {
   "cell_type": "code",
   "execution_count": null,
   "id": "02404dff",
   "metadata": {},
   "outputs": [],
   "source": [
    "mylist = [3, 4, 5, 20, 5, 25, 565, 3]\n",
    "print(mylist.pop(1))\n"
   ]
  },
  {
   "cell_type": "code",
   "execution_count": null,
   "id": "dd661d2d",
   "metadata": {},
   "outputs": [],
   "source": [
    "mylist = [3, 4, 5, 20, 5, 25, 565, 3]\n",
    "mylist.pop()\n",
    "print(mylist)"
   ]
  },
  {
   "cell_type": "code",
   "execution_count": null,
   "id": "f35192bc",
   "metadata": {},
   "outputs": [],
   "source": [
    "list_1 = [ 3, 5, 7, 3, 9, 3 ]   \n",
    "print(list_1)  \n",
    "list_1.remove(3)   \n",
    "print(\"After removal: \", list_1)  "
   ]
  },
  {
   "cell_type": "code",
   "execution_count": null,
   "id": "a3432d7e",
   "metadata": {},
   "outputs": [],
   "source": [
    "str = \"Rohan\"  \n",
    "str2 = \"ab\"  \n",
    "# Calling function    \n",
    "str2 = str.join(str2)    \n",
    "# Displaying result    \n",
    "print(str2)  "
   ]
  },
  {
   "cell_type": "code",
   "execution_count": null,
   "id": "915a31b5",
   "metadata": {},
   "outputs": [],
   "source": [
    "list = [2,4,6,7,3,4]  \n",
    "print(5 in list) # False  \n",
    "cities = (\"india\",\"delhi\")  \n",
    "print(\"tokyo\"  in cities) #True  "
   ]
  },
  {
   "cell_type": "code",
   "execution_count": null,
   "id": "a16f088c",
   "metadata": {},
   "outputs": [],
   "source": [
    "import numpy as np\n",
    "arr = np.arange(10)\n",
    "arr"
   ]
  },
  {
   "cell_type": "code",
   "execution_count": null,
   "id": "90b353d3",
   "metadata": {},
   "outputs": [],
   "source": [
    "for i in arr:\n",
    "    if(arr[i]%2==1):\n",
    "        print(arr[i])"
   ]
  },
  {
   "cell_type": "code",
   "execution_count": null,
   "id": "0a370096",
   "metadata": {},
   "outputs": [],
   "source": [
    "import pandas as pd\n",
    "\n",
    "\n",
    "def sum(x, y, z):\n",
    "    return x + y + z\n",
    "\n",
    "\n",
    "df = pd.DataFrame({'A': [1, 2], 'B': [10, 20]})\n",
    "\n",
    "df1 = df.apply(sum, args=(1, 2))\n",
    "print(df1)"
   ]
  },
  {
   "cell_type": "code",
   "execution_count": null,
   "id": "d49944e5",
   "metadata": {},
   "outputs": [],
   "source": [
    "df"
   ]
  },
  {
   "cell_type": "code",
   "execution_count": null,
   "id": "7b4371e8",
   "metadata": {},
   "outputs": [],
   "source": []
  }
 ],
 "metadata": {
  "kernelspec": {
   "display_name": "Python 3 (ipykernel)",
   "language": "python",
   "name": "python3"
  },
  "language_info": {
   "codemirror_mode": {
    "name": "ipython",
    "version": 3
   },
   "file_extension": ".py",
   "mimetype": "text/x-python",
   "name": "python",
   "nbconvert_exporter": "python",
   "pygments_lexer": "ipython3",
   "version": "3.9.7"
  }
 },
 "nbformat": 4,
 "nbformat_minor": 5
}
