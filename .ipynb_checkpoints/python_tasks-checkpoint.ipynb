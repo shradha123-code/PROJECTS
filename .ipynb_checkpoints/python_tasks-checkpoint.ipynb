{
 "cells": [
  {
   "cell_type": "code",
   "execution_count": null,
   "id": "2476131b",
   "metadata": {},
   "outputs": [],
   "source": [
    "# Load libraries\n",
    "from sklearn.model_selection import train_test_split \n",
    "from sklearn import metrics \n",
    "import numpy as np\n",
    "import pandas as pd"
   ]
  },
  {
   "cell_type": "code",
   "execution_count": null,
   "id": "ec635ea3",
   "metadata": {},
   "outputs": [],
   "source": [
    "diabetes = pd.read_csv(\"C:/Users/shrad/Desktop/pro/diabetes.csv\") "
   ]
  },
  {
   "cell_type": "code",
   "execution_count": null,
   "id": "7d2b485a",
   "metadata": {},
   "outputs": [],
   "source": [
    "diabetes.head()"
   ]
  },
  {
   "cell_type": "code",
   "execution_count": null,
   "id": "27d52502",
   "metadata": {},
   "outputs": [],
   "source": [
    "diabetes.shape"
   ]
  },
  {
   "cell_type": "code",
   "execution_count": null,
   "id": "84991750",
   "metadata": {},
   "outputs": [],
   "source": [
    "#no of rows \n",
    "count_rows= diabetes.shape[0]"
   ]
  },
  {
   "cell_type": "code",
   "execution_count": null,
   "id": "51601327",
   "metadata": {},
   "outputs": [],
   "source": [
    "count_rows"
   ]
  },
  {
   "cell_type": "code",
   "execution_count": null,
   "id": "09d23676",
   "metadata": {},
   "outputs": [],
   "source": [
    "#no of columns \n",
    "count_cols= diabetes.shape[1]"
   ]
  },
  {
   "cell_type": "code",
   "execution_count": null,
   "id": "3f5cfa73",
   "metadata": {},
   "outputs": [],
   "source": [
    "count_cols"
   ]
  },
  {
   "cell_type": "code",
   "execution_count": null,
   "id": "4027d7fd",
   "metadata": {},
   "outputs": [],
   "source": [
    "for i in range(count_rows):\n",
    "    print(diabetes.iloc[0:6])"
   ]
  },
  {
   "cell_type": "code",
   "execution_count": null,
   "id": "2c19e640",
   "metadata": {},
   "outputs": [],
   "source": [
    "\n"
   ]
  },
  {
   "cell_type": "code",
   "execution_count": null,
   "id": "2c213fa3",
   "metadata": {},
   "outputs": [],
   "source": [
    "#diabetes['temp'] = pd.NaT\n",
    "#diabetes"
   ]
  },
  {
   "cell_type": "code",
   "execution_count": null,
   "id": "5a3b5a0e",
   "metadata": {},
   "outputs": [],
   "source": [
    "#newdf = diabetes.copy()\n",
    "\n",
    "#print(newdf)\n"
   ]
  },
  {
   "cell_type": "code",
   "execution_count": null,
   "id": "6ee9d19c",
   "metadata": {},
   "outputs": [],
   "source": [
    "#newdf.append([10, 20,30])\n",
    "\n"
   ]
  },
  {
   "cell_type": "code",
   "execution_count": null,
   "id": "7493e371",
   "metadata": {},
   "outputs": [],
   "source": [
    "#my_array = diabetes.to_numpy()\n",
    "\n",
    "#print(my_array)\n",
    "#print(type(my_array))"
   ]
  },
  {
   "cell_type": "code",
   "execution_count": null,
   "id": "656044f7",
   "metadata": {},
   "outputs": [],
   "source": [
    "print(type(diabetes))"
   ]
  },
  {
   "cell_type": "code",
   "execution_count": null,
   "id": "297d27dc",
   "metadata": {},
   "outputs": [],
   "source": [
    "diabetes.insert(9,'bprate','')"
   ]
  },
  {
   "cell_type": "code",
   "execution_count": null,
   "id": "0299fdbc",
   "metadata": {},
   "outputs": [],
   "source": [
    "diabetes"
   ]
  },
  {
   "cell_type": "code",
   "execution_count": null,
   "id": "b923a73f",
   "metadata": {},
   "outputs": [],
   "source": [
    "#diabetes.drop('bprate', axis=1)"
   ]
  },
  {
   "cell_type": "code",
   "execution_count": null,
   "id": "b8250b50",
   "metadata": {},
   "outputs": [],
   "source": [
    "#diabetes.dropna()"
   ]
  },
  {
   "cell_type": "code",
   "execution_count": null,
   "id": "6c8207de",
   "metadata": {},
   "outputs": [],
   "source": [
    "diabetes.info()"
   ]
  },
  {
   "cell_type": "code",
   "execution_count": null,
   "id": "15491c56",
   "metadata": {},
   "outputs": [],
   "source": [
    "#diabetes['bprate'] = pd.to_numeric(diabetes['bprate'])"
   ]
  },
  {
   "cell_type": "code",
   "execution_count": null,
   "id": "39ae9612",
   "metadata": {},
   "outputs": [],
   "source": [
    "diabetes.dtypes"
   ]
  },
  {
   "cell_type": "code",
   "execution_count": null,
   "id": "3e28e9e6",
   "metadata": {},
   "outputs": [],
   "source": [
    "#diabetes['bprate']= diabetes['bprate'].astype('int64')\n",
    "#diabetes['bprate']= diabetes['bprate'].astype(str)"
   ]
  },
  {
   "cell_type": "code",
   "execution_count": null,
   "id": "b66edf84",
   "metadata": {},
   "outputs": [],
   "source": [
    "#diabetes['bprate']= diabetes['bprate'].astype({\"bprate\":int})"
   ]
  },
  {
   "cell_type": "code",
   "execution_count": null,
   "id": "95079476",
   "metadata": {},
   "outputs": [],
   "source": []
  },
  {
   "cell_type": "code",
   "execution_count": null,
   "id": "ee58ca39",
   "metadata": {},
   "outputs": [],
   "source": [
    "#x= diabetes['bprate'][i]\n",
    "for i in range(0,count_rows):\n",
    "    if(diabetes['label'][i]==1):\n",
    "        print(\"diabetic\")\n",
    "    else:\n",
    "            print(\"negative\")"
   ]
  },
  {
   "cell_type": "code",
   "execution_count": null,
   "id": "d7064ee9",
   "metadata": {},
   "outputs": [],
   "source": []
  },
  {
   "cell_type": "code",
   "execution_count": null,
   "id": "5c1c8e2f",
   "metadata": {},
   "outputs": [],
   "source": [
    "#new_diabetes= diabetes.drop(['insulinrate'], axis=1)"
   ]
  },
  {
   "cell_type": "code",
   "execution_count": null,
   "id": "7f6d4c74",
   "metadata": {},
   "outputs": [],
   "source": [
    "#new_diabetes.info()"
   ]
  },
  {
   "cell_type": "code",
   "execution_count": null,
   "id": "26b23607",
   "metadata": {},
   "outputs": [],
   "source": [
    "for i in range(0,count_rows):\n",
    "    v = diabetes['bprate']\n",
    "v"
   ]
  },
  {
   "cell_type": "code",
   "execution_count": null,
   "id": "4e902862",
   "metadata": {},
   "outputs": [],
   "source": [
    "for i in range(0,count_rows):\n",
    "    #v=diabetes['bp'][i]\n",
    "    if(diabetes['bp'][i]<120):\n",
    "        diabetes['bprate'][i]= 'normal'\n",
    "    elif(diabetes['bp'][i]>140):\n",
    "            diabetes['bprate'][i]= 'high'\n",
    "    elif(diabetes['bp'][i]>120 and diabetes['bp'][i]<129):\n",
    "                diabetes['bprate'][i]='elevated'"
   ]
  },
  {
   "cell_type": "code",
   "execution_count": null,
   "id": "371fce46",
   "metadata": {},
   "outputs": [],
   "source": [
    "diabetes"
   ]
  },
  {
   "cell_type": "code",
   "execution_count": null,
   "id": "a212e716",
   "metadata": {},
   "outputs": [],
   "source": [
    "diabetes[4:]"
   ]
  },
  {
   "cell_type": "code",
   "execution_count": null,
   "id": "8fc4e459",
   "metadata": {},
   "outputs": [],
   "source": [
    "import matplotlib.pyplot as pky\n",
    "plt.plot(diabetes['bp'], color = 'blue', label = 'bp')\n",
    "plt.plot(diabetes['insulin'], 'green', label = 'insulin')\n",
    "plt.title('diabetes Prediction')\n",
    "plt.xlabel('insulin')\n",
    "plt.ylabel('bp')\n",
    "plt.legend()\n",
    "plt.show()\n"
   ]
  },
  {
   "cell_type": "code",
   "execution_count": null,
   "id": "fb9189ca",
   "metadata": {},
   "outputs": [],
   "source": [
    "plt.scatter(diabetes['bp'], diabetes['insulin'], color='red')"
   ]
  },
  {
   "cell_type": "code",
   "execution_count": null,
   "id": "e2dc5840",
   "metadata": {},
   "outputs": [],
   "source": []
  },
  {
   "cell_type": "code",
   "execution_count": null,
   "id": "cd329ad1",
   "metadata": {},
   "outputs": [],
   "source": [
    "# removal of rows where crime count is zero, the dataset is reduced to 96600 rows × 5 columns\n",
    "indexlist=[]\n",
    "for i in range(0,count_rows):\n",
    "    if diabetes['bp'][i]<60:\n",
    "            indexlist.append(i)\n",
    "            \n"
   ]
  },
  {
   "cell_type": "code",
   "execution_count": null,
   "id": "dff0797d",
   "metadata": {},
   "outputs": [],
   "source": [
    "indexlist"
   ]
  },
  {
   "cell_type": "code",
   "execution_count": null,
   "id": "458a3ba9",
   "metadata": {},
   "outputs": [],
   "source": []
  }
 ],
 "metadata": {
  "kernelspec": {
   "display_name": "Python 3 (ipykernel)",
   "language": "python",
   "name": "python3"
  },
  "language_info": {
   "codemirror_mode": {
    "name": "ipython",
    "version": 3
   },
   "file_extension": ".py",
   "mimetype": "text/x-python",
   "name": "python",
   "nbconvert_exporter": "python",
   "pygments_lexer": "ipython3",
   "version": "3.9.7"
  }
 },
 "nbformat": 4,
 "nbformat_minor": 5
}
