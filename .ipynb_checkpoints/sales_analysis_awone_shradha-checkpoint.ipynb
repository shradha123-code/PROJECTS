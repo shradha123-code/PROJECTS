{
 "cells": [
  {
   "cell_type": "code",
   "execution_count": null,
   "id": "27c17e4a",
   "metadata": {},
   "outputs": [],
   "source": [
    "import pandas as pd\n",
    "data8 = [[1,'10-3-2022',2300],[2,'10-3-2022',2500],[3,'10-3-2022',2700],[1,'11-3-2022',2300],[2,'11-3-2022',2500],[3,'11-3-2022',4500],[1,'12-3-2022',4600],[2,'12-3-2022',5000],[3,'12-3-2022',2700]]\n",
    "store= pd.DataFrame(data8, columns=['storeid', 'date', 'sales'])"
   ]
  },
  {
   "cell_type": "code",
   "execution_count": null,
   "id": "ec5201a5",
   "metadata": {},
   "outputs": [],
   "source": [
    "store"
   ]
  },
  {
   "cell_type": "code",
   "execution_count": null,
   "id": "406f5ee3",
   "metadata": {},
   "outputs": [],
   "source": [
    "import time\n",
    "from datetime import datetime\n",
    "from datetime import date"
   ]
  },
  {
   "cell_type": "code",
   "execution_count": null,
   "id": "a7c9ba24",
   "metadata": {},
   "outputs": [],
   "source": [
    "store['date'] =  pd.to_datetime(store['date'], format = '%d-%m-%Y')"
   ]
  },
  {
   "cell_type": "code",
   "execution_count": null,
   "id": "4eaaee9d",
   "metadata": {},
   "outputs": [],
   "source": [
    "#store['date']= datetime.strptime(store['date'], '%d/%m/%Y')"
   ]
  },
  {
   "cell_type": "code",
   "execution_count": null,
   "id": "57ded2c7",
   "metadata": {},
   "outputs": [],
   "source": [
    "store"
   ]
  },
  {
   "cell_type": "code",
   "execution_count": null,
   "id": "cf068c91",
   "metadata": {},
   "outputs": [],
   "source": [
    "from subprocess import *\n",
    "import timeit"
   ]
  },
  {
   "cell_type": "code",
   "execution_count": null,
   "id": "9ce74026",
   "metadata": {},
   "outputs": [],
   "source": [
    "#(store['date'].apply(lambda d: d.day))"
   ]
  },
  {
   "cell_type": "code",
   "execution_count": null,
   "id": "91d65391",
   "metadata": {},
   "outputs": [],
   "source": [
    "store['Day'] = store['date'].apply(lambda r:r.day)\n",
    "store['Month'] = store['date'].apply(lambda d:d.month)\n",
    "store['Year'] = store['date'].apply(lambda r:r.year)"
   ]
  },
  {
   "cell_type": "code",
   "execution_count": null,
   "id": "55047412",
   "metadata": {},
   "outputs": [],
   "source": [
    "type(store['date'][0])"
   ]
  },
  {
   "cell_type": "code",
   "execution_count": null,
   "id": "b327dbc5",
   "metadata": {},
   "outputs": [],
   "source": [
    "#store['date']= pd.to_datetime(store[['month','day','year']])"
   ]
  },
  {
   "cell_type": "code",
   "execution_count": null,
   "id": "1c7d06ec",
   "metadata": {},
   "outputs": [],
   "source": [
    "x=store.shape[0]\n",
    "x"
   ]
  },
  {
   "cell_type": "code",
   "execution_count": null,
   "id": "972b716d",
   "metadata": {},
   "outputs": [],
   "source": [
    "type(store['day_before'][0])"
   ]
  },
  {
   "cell_type": "code",
   "execution_count": null,
   "id": "c4e98b54",
   "metadata": {},
   "outputs": [],
   "source": [
    "store['day_before'] = store['date'] - pd.tseries.offsets.DateOffset(days=1)\n"
   ]
  },
  {
   "cell_type": "code",
   "execution_count": null,
   "id": "0ddc120c",
   "metadata": {},
   "outputs": [],
   "source": [
    "store"
   ]
  },
  {
   "cell_type": "code",
   "execution_count": null,
   "id": "e1c9fb6e",
   "metadata": {},
   "outputs": [],
   "source": [
    "#store['day_before'] =  pd.to_datetime(store['day_before'], format = '%d/%m/%Y')"
   ]
  },
  {
   "cell_type": "code",
   "execution_count": null,
   "id": "9f2b6380",
   "metadata": {},
   "outputs": [],
   "source": [
    "\n",
    "store['date'] = store['date'].astype(str)\n",
    "store['day_before'] = store['day_before'].astype(str)\n",
    "type(store['day_before'][0])\n"
   ]
  },
  {
   "cell_type": "code",
   "execution_count": null,
   "id": "7d2c8602",
   "metadata": {},
   "outputs": [],
   "source": [
    "def fetch_details(a,b):\n",
    "    print(type(b))\n",
    "    #b =  pd.to_datetime(b, format = '%d/%m/%Y')\n",
    "    #b= datetime.strptime(b, '%d/%m/%Y')\n",
    "    print(type(b))\n",
    "    for i in range(0,x):\n",
    "        #b=store['storeid'][i]\n",
    "        #c=store['date'][i]\n",
    "        #str_date = pandastostring(store['date'][i])\n",
    "        if((store['storeid'][i]==a) and (store['date'][i]==b)):\n",
    "        #if((store['storeid'][i]==a)):\n",
    "            v=store['day_before'][i]\n",
    "            print(v)\n",
    "            for j in range(0,x):\n",
    "                if((v==store['date'][j]) and (store['storeid'][j]==a)):\n",
    "                    w=store['sales'][j]\n",
    "                    print(w)\n",
    "             "
   ]
  },
  {
   "cell_type": "code",
   "execution_count": null,
   "id": "2f036463",
   "metadata": {
    "scrolled": true
   },
   "outputs": [],
   "source": [
    "(fetch_details(2,'2022-03-12'))"
   ]
  },
  {
   "cell_type": "code",
   "execution_count": null,
   "id": "f9afa96a",
   "metadata": {},
   "outputs": [],
   "source": []
  },
  {
   "cell_type": "code",
   "execution_count": null,
   "id": "ad1f79d6",
   "metadata": {},
   "outputs": [],
   "source": [
    "print(fetch_details(2,'2022-03-11'))\n",
    "#print(b)   "
   ]
  },
  {
   "cell_type": "code",
   "execution_count": null,
   "id": "cabefa28",
   "metadata": {},
   "outputs": [],
   "source": []
  },
  {
   "cell_type": "code",
   "execution_count": null,
   "id": "a605ce39",
   "metadata": {},
   "outputs": [],
   "source": []
  },
  {
   "cell_type": "code",
   "execution_count": null,
   "id": "dacfebaf",
   "metadata": {},
   "outputs": [],
   "source": []
  },
  {
   "cell_type": "code",
   "execution_count": null,
   "id": "205cc5eb",
   "metadata": {},
   "outputs": [],
   "source": []
  },
  {
   "cell_type": "code",
   "execution_count": null,
   "id": "b7e3ee1f",
   "metadata": {},
   "outputs": [],
   "source": []
  },
  {
   "cell_type": "code",
   "execution_count": null,
   "id": "3b5502bd",
   "metadata": {},
   "outputs": [],
   "source": []
  },
  {
   "cell_type": "code",
   "execution_count": null,
   "id": "8111cb07",
   "metadata": {},
   "outputs": [],
   "source": []
  },
  {
   "cell_type": "code",
   "execution_count": null,
   "id": "942ab366",
   "metadata": {},
   "outputs": [],
   "source": []
  }
 ],
 "metadata": {
  "kernelspec": {
   "display_name": "Python 3 (ipykernel)",
   "language": "python",
   "name": "python3"
  },
  "language_info": {
   "codemirror_mode": {
    "name": "ipython",
    "version": 3
   },
   "file_extension": ".py",
   "mimetype": "text/x-python",
   "name": "python",
   "nbconvert_exporter": "python",
   "pygments_lexer": "ipython3",
   "version": "3.9.7"
  }
 },
 "nbformat": 4,
 "nbformat_minor": 5
}
